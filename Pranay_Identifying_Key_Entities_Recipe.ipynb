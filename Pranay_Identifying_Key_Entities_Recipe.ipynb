{
  "nbformat": 4,
  "nbformat_minor": 0,
  "metadata": {
    "colab": {
      "provenance": []
    },
    "kernelspec": {
      "name": "python3",
      "display_name": "Python 3"
    },
    "language_info": {
      "name": "python"
    }
  },
  "cells": [
    {
      "cell_type": "markdown",
      "source": [
        "# **Identifying Key Entities in Recipe Data**"
      ],
      "metadata": {
        "id": "42UBKEnat_xo"
      }
    },
    {
      "cell_type": "markdown",
      "source": [
        "\n",
        "**Business Objective**:\n",
        "The goal of this assignment is to train a Named Entity Recognition (NER) model using Conditional Random Fields (CRF) to extract key entities from recipe data. The model will classify words into predefined categories such as ingredients, quantities and units, enabling the creation of a structured database of recipes and ingredients that can be used to power advanced features in recipe management systems, dietary tracking apps, or e-commerce platforms."
      ],
      "metadata": {
        "id": "Pme3h_fduOKh"
      }
    },
    {
      "cell_type": "markdown",
      "source": [
        "### **Data Description**\n",
        "The given data is in JSON format, representing a **structured recipe ingredient list** with **Named Entity Recognition (NER) labels**. Below is a breakdown of the data fields:\n",
        "\n",
        "```json\n",
        "[\n",
        "    {\n",
        "        \"input\": \"6 Karela Bitter Gourd Pavakkai Salt 1 Onion 3 tablespoon Gram flour besan 2 teaspoons Turmeric powder Haldi Red Chilli Cumin seeds Jeera Coriander Powder Dhania Amchur Dry Mango Sunflower Oil\",\n",
        "        \"pos\": \"quantity ingredient ingredient ingredient ingredient ingredient quantity ingredient quantity unit ingredient ingredient ingredient quantity unit ingredient ingredient ingredient ingredient ingredient ingredient ingredient ingredient ingredient ingredient ingredient ingredient ingredient ingredient ingredient ingredient\"\n",
        "    },\n",
        "    {\n",
        "      \"input\": \"2-1/2 cups rice cooked 3 tomatoes teaspoons BC Belle Bhat powder 1 teaspoon chickpea lentils 1/2 cumin seeds white urad dal mustard green chilli dry red 2 cashew or peanuts 1-1/2 tablespoon oil asafoetida\",\n",
        "      \"pos\": \"quantity unit ingredient ingredient quantity ingredient unit ingredient ingredient ingredient ingredient quantity unit ingredient ingredient quantity ingredient ingredient ingredient ingredient ingredient ingredient ingredient ingredient ingredient ingredient quantity ingredient ingredient ingredient quantity unit ingredient ingredient\"\n",
        "    }\n",
        "]\n"
      ],
      "metadata": {
        "id": "FXzoAs8evNG0"
      }
    },
    {
      "cell_type": "markdown",
      "source": [
        "| **Key**  | **Description**  |\n",
        "|----------|-----------------|\n",
        "| `input`  | Contains a raw ingredient list from a recipe. |\n",
        "| `pos`    | Represents the corresponding part-of-speech (POS) tags or NER labels, identifying quantities, ingredients, and units. |\n"
      ],
      "metadata": {
        "id": "LSDcNvJlwC6N"
      }
    },
    {
      "cell_type": "markdown",
      "source": [
        "## **1** Import libraries"
      ],
      "metadata": {
        "id": "phenosA4se1c"
      }
    },
    {
      "cell_type": "markdown",
      "source": [
        "#### **1.1** Installation of sklearn-crfsuite"
      ],
      "metadata": {
        "id": "Br-jQHin3kQX"
      }
    },
    {
      "cell_type": "markdown",
      "source": [
        "sklearn-crfsuite is a Python wrapper for CRFsuite, a fast and efficient implementation of Conditional Random Fields (CRFs). It is designed to integrate seamlessly with scikit-learn for structured prediction tasks such as Named Entity Recognition (NER), Part-of-Speech (POS) tagging, and chunking."
      ],
      "metadata": {
        "id": "DPhaJSfCwpfa"
      }
    },
    {
      "cell_type": "code",
      "source": [
        "# # installation of sklearn_crfsuite\n",
        "!pip install sklearn_crfsuite==0.5.0"
      ],
      "metadata": {
        "id": "_QawokgQXAMO",
        "colab": {
          "base_uri": "https://localhost:8080/"
        },
        "outputId": "ca9697ab-8797-4068-b232-cc20346a3f22"
      },
      "execution_count": 2,
      "outputs": [
        {
          "output_type": "stream",
          "name": "stdout",
          "text": [
            "Collecting sklearn_crfsuite==0.5.0\n",
            "  Downloading sklearn_crfsuite-0.5.0-py2.py3-none-any.whl.metadata (4.9 kB)\n",
            "Collecting python-crfsuite>=0.9.7 (from sklearn_crfsuite==0.5.0)\n",
            "  Downloading python_crfsuite-0.9.11-cp311-cp311-manylinux_2_17_x86_64.manylinux2014_x86_64.whl.metadata (4.3 kB)\n",
            "Requirement already satisfied: scikit-learn>=0.24.0 in /usr/local/lib/python3.11/dist-packages (from sklearn_crfsuite==0.5.0) (1.6.1)\n",
            "Requirement already satisfied: tabulate>=0.4.2 in /usr/local/lib/python3.11/dist-packages (from sklearn_crfsuite==0.5.0) (0.9.0)\n",
            "Requirement already satisfied: tqdm>=2.0 in /usr/local/lib/python3.11/dist-packages (from sklearn_crfsuite==0.5.0) (4.67.1)\n",
            "Requirement already satisfied: numpy>=1.19.5 in /usr/local/lib/python3.11/dist-packages (from scikit-learn>=0.24.0->sklearn_crfsuite==0.5.0) (2.0.2)\n",
            "Requirement already satisfied: scipy>=1.6.0 in /usr/local/lib/python3.11/dist-packages (from scikit-learn>=0.24.0->sklearn_crfsuite==0.5.0) (1.15.3)\n",
            "Requirement already satisfied: joblib>=1.2.0 in /usr/local/lib/python3.11/dist-packages (from scikit-learn>=0.24.0->sklearn_crfsuite==0.5.0) (1.5.1)\n",
            "Requirement already satisfied: threadpoolctl>=3.1.0 in /usr/local/lib/python3.11/dist-packages (from scikit-learn>=0.24.0->sklearn_crfsuite==0.5.0) (3.6.0)\n",
            "Downloading sklearn_crfsuite-0.5.0-py2.py3-none-any.whl (10 kB)\n",
            "Downloading python_crfsuite-0.9.11-cp311-cp311-manylinux_2_17_x86_64.manylinux2014_x86_64.whl (1.3 MB)\n",
            "\u001b[2K   \u001b[90m━━━━━━━━━━━━━━━━━━━━━━━━━━━━━━━━━━━━━━━━\u001b[0m \u001b[32m1.3/1.3 MB\u001b[0m \u001b[31m15.3 MB/s\u001b[0m eta \u001b[36m0:00:00\u001b[0m\n",
            "\u001b[?25hInstalling collected packages: python-crfsuite, sklearn_crfsuite\n",
            "Successfully installed python-crfsuite-0.9.11 sklearn_crfsuite-0.5.0\n"
          ]
        }
      ]
    },
    {
      "cell_type": "markdown",
      "source": [
        "#### **1.2** Import necessary libraries"
      ],
      "metadata": {
        "id": "svqZwrHT3rzV"
      }
    },
    {
      "cell_type": "code",
      "source": [
        "# Import warnings\n",
        "import warnings\n",
        "warnings.filterwarnings('ignore')"
      ],
      "metadata": {
        "id": "v2zLbaB0w1ZH"
      },
      "execution_count": 3,
      "outputs": []
    },
    {
      "cell_type": "code",
      "execution_count": 4,
      "metadata": {
        "id": "0hlp-Ln4WsaV"
      },
      "outputs": [],
      "source": [
        "# Import necessary libraries\n",
        "import json  # For handling JSON data\n",
        "import pandas as pd  # For data manipulation and analysis\n",
        "import re  # For regular expressions (useful for text preprocessing)\n",
        "import matplotlib.pyplot as plt  # For visualisation\n",
        "import seaborn as sns  # For advanced data visualisation\n",
        "import sklearn_crfsuite  # CRF (Conditional Random Fields) implementation for sequence modeling\n",
        "import numpy as np  # For numerical computations\n",
        "# Saving and loading machine learning models\n",
        "import joblib\n",
        "import random\n",
        "import spacy\n",
        "from IPython.display import display, Markdown # For displaying well-formatted output\n",
        "\n",
        "from fractions import Fraction  # For handling fractional values in numerical data\n",
        "# Importing tools for feature engineering and model training\n",
        "from collections import Counter  # For counting occurrences of elements in a list\n",
        "from sklearn.model_selection import train_test_split  # For splitting dataset into train and test sets\n",
        "from sklearn_crfsuite import metrics  # For evaluating CRF models\n",
        "from sklearn_crfsuite.metrics import flat_classification_report\n",
        "from sklearn.utils.class_weight import compute_class_weight\n",
        "from collections import Counter\n",
        "from sklearn.metrics import confusion_matrix"
      ]
    },
    {
      "cell_type": "code",
      "source": [
        "# Ensure pandas displays full content\n",
        "pd.set_option('display.max_colwidth', None)\n",
        "pd.set_option('display.expand_frame_repr', False)"
      ],
      "metadata": {
        "id": "k3_LR6N_2cli"
      },
      "execution_count": 5,
      "outputs": []
    },
    {
      "cell_type": "markdown",
      "source": [
        "## **2** Data Ingestion and Preparation <font color = red>[25 marks]</font> <br>"
      ],
      "metadata": {
        "id": "fUOu_u0fyMfh"
      }
    },
    {
      "cell_type": "markdown",
      "source": [
        "#### **2.1** *Read Recipe Data from Dataframe and prepare the data for analysis* <font color = red>[12 marks]</font> <br>\n",
        "Read the data from JSON file, print first five rows and describe the dataframe"
      ],
      "metadata": {
        "id": "-ksMVNgeyiLN"
      }
    },
    {
      "cell_type": "markdown",
      "source": [
        "##### **2.1.1** **Define a *load_json_dataframe* function** <font color = red>[7 marks]</font> <br>\n",
        "\n",
        "Define a function that takes path of the ingredient_and_quantity.json file and reads it, convert it into dataframe - df and return it."
      ],
      "metadata": {
        "id": "kxn28jL3z4GY"
      }
    },
    {
      "cell_type": "code",
      "source": [
        "from google.colab import files\n",
        "uploaded = files.upload()"
      ],
      "metadata": {
        "colab": {
          "base_uri": "https://localhost:8080/",
          "height": 73
        },
        "id": "49rWdgIDrVdv",
        "outputId": "652841ba-78c3-4273-e3d0-e2e3ee14c30a"
      },
      "execution_count": 6,
      "outputs": [
        {
          "output_type": "display_data",
          "data": {
            "text/plain": [
              "<IPython.core.display.HTML object>"
            ],
            "text/html": [
              "\n",
              "     <input type=\"file\" id=\"files-05389cd1-55f3-499d-86f3-df459cfec415\" name=\"files[]\" multiple disabled\n",
              "        style=\"border:none\" />\n",
              "     <output id=\"result-05389cd1-55f3-499d-86f3-df459cfec415\">\n",
              "      Upload widget is only available when the cell has been executed in the\n",
              "      current browser session. Please rerun this cell to enable.\n",
              "      </output>\n",
              "      <script>// Copyright 2017 Google LLC\n",
              "//\n",
              "// Licensed under the Apache License, Version 2.0 (the \"License\");\n",
              "// you may not use this file except in compliance with the License.\n",
              "// You may obtain a copy of the License at\n",
              "//\n",
              "//      http://www.apache.org/licenses/LICENSE-2.0\n",
              "//\n",
              "// Unless required by applicable law or agreed to in writing, software\n",
              "// distributed under the License is distributed on an \"AS IS\" BASIS,\n",
              "// WITHOUT WARRANTIES OR CONDITIONS OF ANY KIND, either express or implied.\n",
              "// See the License for the specific language governing permissions and\n",
              "// limitations under the License.\n",
              "\n",
              "/**\n",
              " * @fileoverview Helpers for google.colab Python module.\n",
              " */\n",
              "(function(scope) {\n",
              "function span(text, styleAttributes = {}) {\n",
              "  const element = document.createElement('span');\n",
              "  element.textContent = text;\n",
              "  for (const key of Object.keys(styleAttributes)) {\n",
              "    element.style[key] = styleAttributes[key];\n",
              "  }\n",
              "  return element;\n",
              "}\n",
              "\n",
              "// Max number of bytes which will be uploaded at a time.\n",
              "const MAX_PAYLOAD_SIZE = 100 * 1024;\n",
              "\n",
              "function _uploadFiles(inputId, outputId) {\n",
              "  const steps = uploadFilesStep(inputId, outputId);\n",
              "  const outputElement = document.getElementById(outputId);\n",
              "  // Cache steps on the outputElement to make it available for the next call\n",
              "  // to uploadFilesContinue from Python.\n",
              "  outputElement.steps = steps;\n",
              "\n",
              "  return _uploadFilesContinue(outputId);\n",
              "}\n",
              "\n",
              "// This is roughly an async generator (not supported in the browser yet),\n",
              "// where there are multiple asynchronous steps and the Python side is going\n",
              "// to poll for completion of each step.\n",
              "// This uses a Promise to block the python side on completion of each step,\n",
              "// then passes the result of the previous step as the input to the next step.\n",
              "function _uploadFilesContinue(outputId) {\n",
              "  const outputElement = document.getElementById(outputId);\n",
              "  const steps = outputElement.steps;\n",
              "\n",
              "  const next = steps.next(outputElement.lastPromiseValue);\n",
              "  return Promise.resolve(next.value.promise).then((value) => {\n",
              "    // Cache the last promise value to make it available to the next\n",
              "    // step of the generator.\n",
              "    outputElement.lastPromiseValue = value;\n",
              "    return next.value.response;\n",
              "  });\n",
              "}\n",
              "\n",
              "/**\n",
              " * Generator function which is called between each async step of the upload\n",
              " * process.\n",
              " * @param {string} inputId Element ID of the input file picker element.\n",
              " * @param {string} outputId Element ID of the output display.\n",
              " * @return {!Iterable<!Object>} Iterable of next steps.\n",
              " */\n",
              "function* uploadFilesStep(inputId, outputId) {\n",
              "  const inputElement = document.getElementById(inputId);\n",
              "  inputElement.disabled = false;\n",
              "\n",
              "  const outputElement = document.getElementById(outputId);\n",
              "  outputElement.innerHTML = '';\n",
              "\n",
              "  const pickedPromise = new Promise((resolve) => {\n",
              "    inputElement.addEventListener('change', (e) => {\n",
              "      resolve(e.target.files);\n",
              "    });\n",
              "  });\n",
              "\n",
              "  const cancel = document.createElement('button');\n",
              "  inputElement.parentElement.appendChild(cancel);\n",
              "  cancel.textContent = 'Cancel upload';\n",
              "  const cancelPromise = new Promise((resolve) => {\n",
              "    cancel.onclick = () => {\n",
              "      resolve(null);\n",
              "    };\n",
              "  });\n",
              "\n",
              "  // Wait for the user to pick the files.\n",
              "  const files = yield {\n",
              "    promise: Promise.race([pickedPromise, cancelPromise]),\n",
              "    response: {\n",
              "      action: 'starting',\n",
              "    }\n",
              "  };\n",
              "\n",
              "  cancel.remove();\n",
              "\n",
              "  // Disable the input element since further picks are not allowed.\n",
              "  inputElement.disabled = true;\n",
              "\n",
              "  if (!files) {\n",
              "    return {\n",
              "      response: {\n",
              "        action: 'complete',\n",
              "      }\n",
              "    };\n",
              "  }\n",
              "\n",
              "  for (const file of files) {\n",
              "    const li = document.createElement('li');\n",
              "    li.append(span(file.name, {fontWeight: 'bold'}));\n",
              "    li.append(span(\n",
              "        `(${file.type || 'n/a'}) - ${file.size} bytes, ` +\n",
              "        `last modified: ${\n",
              "            file.lastModifiedDate ? file.lastModifiedDate.toLocaleDateString() :\n",
              "                                    'n/a'} - `));\n",
              "    const percent = span('0% done');\n",
              "    li.appendChild(percent);\n",
              "\n",
              "    outputElement.appendChild(li);\n",
              "\n",
              "    const fileDataPromise = new Promise((resolve) => {\n",
              "      const reader = new FileReader();\n",
              "      reader.onload = (e) => {\n",
              "        resolve(e.target.result);\n",
              "      };\n",
              "      reader.readAsArrayBuffer(file);\n",
              "    });\n",
              "    // Wait for the data to be ready.\n",
              "    let fileData = yield {\n",
              "      promise: fileDataPromise,\n",
              "      response: {\n",
              "        action: 'continue',\n",
              "      }\n",
              "    };\n",
              "\n",
              "    // Use a chunked sending to avoid message size limits. See b/62115660.\n",
              "    let position = 0;\n",
              "    do {\n",
              "      const length = Math.min(fileData.byteLength - position, MAX_PAYLOAD_SIZE);\n",
              "      const chunk = new Uint8Array(fileData, position, length);\n",
              "      position += length;\n",
              "\n",
              "      const base64 = btoa(String.fromCharCode.apply(null, chunk));\n",
              "      yield {\n",
              "        response: {\n",
              "          action: 'append',\n",
              "          file: file.name,\n",
              "          data: base64,\n",
              "        },\n",
              "      };\n",
              "\n",
              "      let percentDone = fileData.byteLength === 0 ?\n",
              "          100 :\n",
              "          Math.round((position / fileData.byteLength) * 100);\n",
              "      percent.textContent = `${percentDone}% done`;\n",
              "\n",
              "    } while (position < fileData.byteLength);\n",
              "  }\n",
              "\n",
              "  // All done.\n",
              "  yield {\n",
              "    response: {\n",
              "      action: 'complete',\n",
              "    }\n",
              "  };\n",
              "}\n",
              "\n",
              "scope.google = scope.google || {};\n",
              "scope.google.colab = scope.google.colab || {};\n",
              "scope.google.colab._files = {\n",
              "  _uploadFiles,\n",
              "  _uploadFilesContinue,\n",
              "};\n",
              "})(self);\n",
              "</script> "
            ]
          },
          "metadata": {}
        },
        {
          "output_type": "stream",
          "name": "stdout",
          "text": [
            "Saving ingredient_and_quantity.json to ingredient_and_quantity.json\n"
          ]
        }
      ]
    },
    {
      "cell_type": "code",
      "source": [
        "# define a function to load json file to a dataframe\n",
        "def load_json_dataframe(file_path):\n",
        "  with open(file_path, 'r') as file:\n",
        "    data = json.load(file)\n",
        "  df = pd.DataFrame(data)\n",
        "  return df"
      ],
      "metadata": {
        "id": "dq6UgUYcPyOL"
      },
      "execution_count": 7,
      "outputs": []
    },
    {
      "cell_type": "markdown",
      "source": [
        "##### **2.1.2** **Execute the *load_json_dataframe* function** <font color = red>[2 marks]</font> <br>"
      ],
      "metadata": {
        "id": "1NlhkH_605IA"
      }
    },
    {
      "cell_type": "code",
      "source": [
        "# read the json file by giving the file path and create a dataframe\n",
        "df = load_json_dataframe('ingredient_and_quantity.json')\n"
      ],
      "metadata": {
        "id": "UONMkMsrxdxB"
      },
      "execution_count": 8,
      "outputs": []
    },
    {
      "cell_type": "markdown",
      "source": [
        "##### **2.1.3** **Describe the dataframe** <font color = red>[3 marks]</font> <br>\n",
        "\n",
        "Print first five rows of dataframe along with dimensions. Display the information of dataframe"
      ],
      "metadata": {
        "id": "_1VkDbev3UHP"
      }
    },
    {
      "cell_type": "code",
      "source": [
        "# display first five rows of the dataframe - df\n",
        "df.head()"
      ],
      "metadata": {
        "id": "yZFj2skZxgpl",
        "colab": {
          "base_uri": "https://localhost:8080/",
          "height": 379
        },
        "outputId": "fdc1f241-7001-46c9-948e-6aa21496934c"
      },
      "execution_count": 9,
      "outputs": [
        {
          "output_type": "execute_result",
          "data": {
            "text/plain": [
              "                                                                                                                                                                                                                                                                                            input                                                                                                                                                                                                                                                                                                                                                                                                                                                                      pos\n",
              "0                                                                                                 6 Karela Bitter Gourd Pavakkai Salt 1 Onion 3 tablespoon Gram flour besan 2 teaspoons Turmeric powder Haldi Red Chilli Cumin seeds Jeera Coriander Powder Dhania Amchur Dry Mango Sunflower Oil                                                                                                                                         quantity ingredient ingredient ingredient ingredient ingredient quantity ingredient quantity unit ingredient ingredient ingredient quantity unit ingredient ingredient ingredient ingredient ingredient ingredient ingredient ingredient ingredient ingredient ingredient ingredient ingredient ingredient ingredient ingredient\n",
              "1                                                                                    2-1/2 cups rice cooked 3 tomatoes teaspoons BC Belle Bhat powder 1 teaspoon chickpea lentils 1/2 cumin seeds white urad dal mustard green chilli dry red 2 cashew or peanuts 1-1/2 tablespoon oil asafoetida                                                                                                                        quantity unit ingredient ingredient quantity ingredient unit ingredient ingredient ingredient ingredient quantity unit ingredient ingredient quantity ingredient ingredient ingredient ingredient ingredient ingredient ingredient ingredient ingredient ingredient quantity ingredient ingredient ingredient quantity unit ingredient ingredient\n",
              "2                                                                  1-1/2 cups Rice Vermicelli Noodles Thin 1 Onion sliced 1/2 cup Carrots Gajjar chopped 1/3 Green peas Matar 2 Chillies 1/4 teaspoon Asafoetida hing Mustard seeds White Urad Dal Split Ghee sprig Curry leaves Salt Lemon juice                                                                                       quantity unit ingredient ingredient ingredient ingredient quantity ingredient ingredient quantity unit ingredient ingredient ingredient quantity ingredient ingredient ingredient quantity ingredient quantity unit ingredient ingredient ingredient ingredient ingredient ingredient ingredient ingredient ingredient unit ingredient ingredient ingredient ingredient ingredient\n",
              "3  500 grams Chicken 2 Onion chopped 1 Tomato 4 Green Chillies slit inch Ginger finely 6 cloves Garlic 1/2 teaspoon Turmeric powder Haldi Garam masala tablespoon Sesame Gingelly Oil 1/4 Methi Seeds Fenugreek Coriander Dhania Dry Red Fennel seeds Saunf cups Sorrel Leaves Gongura picked and  quantity unit ingredient quantity ingredient ingredient quantity ingredient quantity ingredient ingredient ingredient unit ingredient ingredient quantity unit ingredient quantity unit ingredient ingredient ingredient ingredient ingredient unit ingredient ingredient ingredient quantity ingredient ingredient ingredient ingredient ingredient ingredient ingredient ingredient ingredient ingredient unit ingredient ingredient ingredient ingredient ingredient\n",
              "4                                                                                                                                                           1 tablespoon chana dal white urad 2 red chillies coriander seeds 3 inches ginger onion tomato Teaspoon mustard asafoetida sprig curry                                                                                                                                                                                                                                                                 quantity unit ingredient ingredient ingredient ingredient quantity ingredient ingredient ingredient ingredient quantity unit ingredient ingredient ingredient unit ingredient ingredient unit ingredient"
            ],
            "text/html": [
              "\n",
              "  <div id=\"df-0c732e4e-d382-437f-80df-df02e40ff7a4\" class=\"colab-df-container\">\n",
              "    <div>\n",
              "<style scoped>\n",
              "    .dataframe tbody tr th:only-of-type {\n",
              "        vertical-align: middle;\n",
              "    }\n",
              "\n",
              "    .dataframe tbody tr th {\n",
              "        vertical-align: top;\n",
              "    }\n",
              "\n",
              "    .dataframe thead th {\n",
              "        text-align: right;\n",
              "    }\n",
              "</style>\n",
              "<table border=\"1\" class=\"dataframe\">\n",
              "  <thead>\n",
              "    <tr style=\"text-align: right;\">\n",
              "      <th></th>\n",
              "      <th>input</th>\n",
              "      <th>pos</th>\n",
              "    </tr>\n",
              "  </thead>\n",
              "  <tbody>\n",
              "    <tr>\n",
              "      <th>0</th>\n",
              "      <td>6 Karela Bitter Gourd Pavakkai Salt 1 Onion 3 tablespoon Gram flour besan 2 teaspoons Turmeric powder Haldi Red Chilli Cumin seeds Jeera Coriander Powder Dhania Amchur Dry Mango Sunflower Oil</td>\n",
              "      <td>quantity ingredient ingredient ingredient ingredient ingredient quantity ingredient quantity unit ingredient ingredient ingredient quantity unit ingredient ingredient ingredient ingredient ingredient ingredient ingredient ingredient ingredient ingredient ingredient ingredient ingredient ingredient ingredient ingredient</td>\n",
              "    </tr>\n",
              "    <tr>\n",
              "      <th>1</th>\n",
              "      <td>2-1/2 cups rice cooked 3 tomatoes teaspoons BC Belle Bhat powder 1 teaspoon chickpea lentils 1/2 cumin seeds white urad dal mustard green chilli dry red 2 cashew or peanuts 1-1/2 tablespoon oil asafoetida</td>\n",
              "      <td>quantity unit ingredient ingredient quantity ingredient unit ingredient ingredient ingredient ingredient quantity unit ingredient ingredient quantity ingredient ingredient ingredient ingredient ingredient ingredient ingredient ingredient ingredient ingredient quantity ingredient ingredient ingredient quantity unit ingredient ingredient</td>\n",
              "    </tr>\n",
              "    <tr>\n",
              "      <th>2</th>\n",
              "      <td>1-1/2 cups Rice Vermicelli Noodles Thin 1 Onion sliced 1/2 cup Carrots Gajjar chopped 1/3 Green peas Matar 2 Chillies 1/4 teaspoon Asafoetida hing Mustard seeds White Urad Dal Split Ghee sprig Curry leaves Salt Lemon juice</td>\n",
              "      <td>quantity unit ingredient ingredient ingredient ingredient quantity ingredient ingredient quantity unit ingredient ingredient ingredient quantity ingredient ingredient ingredient quantity ingredient quantity unit ingredient ingredient ingredient ingredient ingredient ingredient ingredient ingredient ingredient unit ingredient ingredient ingredient ingredient ingredient</td>\n",
              "    </tr>\n",
              "    <tr>\n",
              "      <th>3</th>\n",
              "      <td>500 grams Chicken 2 Onion chopped 1 Tomato 4 Green Chillies slit inch Ginger finely 6 cloves Garlic 1/2 teaspoon Turmeric powder Haldi Garam masala tablespoon Sesame Gingelly Oil 1/4 Methi Seeds Fenugreek Coriander Dhania Dry Red Fennel seeds Saunf cups Sorrel Leaves Gongura picked and</td>\n",
              "      <td>quantity unit ingredient quantity ingredient ingredient quantity ingredient quantity ingredient ingredient ingredient unit ingredient ingredient quantity unit ingredient quantity unit ingredient ingredient ingredient ingredient ingredient unit ingredient ingredient ingredient quantity ingredient ingredient ingredient ingredient ingredient ingredient ingredient ingredient ingredient ingredient unit ingredient ingredient ingredient ingredient ingredient</td>\n",
              "    </tr>\n",
              "    <tr>\n",
              "      <th>4</th>\n",
              "      <td>1 tablespoon chana dal white urad 2 red chillies coriander seeds 3 inches ginger onion tomato Teaspoon mustard asafoetida sprig curry</td>\n",
              "      <td>quantity unit ingredient ingredient ingredient ingredient quantity ingredient ingredient ingredient ingredient quantity unit ingredient ingredient ingredient unit ingredient ingredient unit ingredient</td>\n",
              "    </tr>\n",
              "  </tbody>\n",
              "</table>\n",
              "</div>\n",
              "    <div class=\"colab-df-buttons\">\n",
              "\n",
              "  <div class=\"colab-df-container\">\n",
              "    <button class=\"colab-df-convert\" onclick=\"convertToInteractive('df-0c732e4e-d382-437f-80df-df02e40ff7a4')\"\n",
              "            title=\"Convert this dataframe to an interactive table.\"\n",
              "            style=\"display:none;\">\n",
              "\n",
              "  <svg xmlns=\"http://www.w3.org/2000/svg\" height=\"24px\" viewBox=\"0 -960 960 960\">\n",
              "    <path d=\"M120-120v-720h720v720H120Zm60-500h600v-160H180v160Zm220 220h160v-160H400v160Zm0 220h160v-160H400v160ZM180-400h160v-160H180v160Zm440 0h160v-160H620v160ZM180-180h160v-160H180v160Zm440 0h160v-160H620v160Z\"/>\n",
              "  </svg>\n",
              "    </button>\n",
              "\n",
              "  <style>\n",
              "    .colab-df-container {\n",
              "      display:flex;\n",
              "      gap: 12px;\n",
              "    }\n",
              "\n",
              "    .colab-df-convert {\n",
              "      background-color: #E8F0FE;\n",
              "      border: none;\n",
              "      border-radius: 50%;\n",
              "      cursor: pointer;\n",
              "      display: none;\n",
              "      fill: #1967D2;\n",
              "      height: 32px;\n",
              "      padding: 0 0 0 0;\n",
              "      width: 32px;\n",
              "    }\n",
              "\n",
              "    .colab-df-convert:hover {\n",
              "      background-color: #E2EBFA;\n",
              "      box-shadow: 0px 1px 2px rgba(60, 64, 67, 0.3), 0px 1px 3px 1px rgba(60, 64, 67, 0.15);\n",
              "      fill: #174EA6;\n",
              "    }\n",
              "\n",
              "    .colab-df-buttons div {\n",
              "      margin-bottom: 4px;\n",
              "    }\n",
              "\n",
              "    [theme=dark] .colab-df-convert {\n",
              "      background-color: #3B4455;\n",
              "      fill: #D2E3FC;\n",
              "    }\n",
              "\n",
              "    [theme=dark] .colab-df-convert:hover {\n",
              "      background-color: #434B5C;\n",
              "      box-shadow: 0px 1px 3px 1px rgba(0, 0, 0, 0.15);\n",
              "      filter: drop-shadow(0px 1px 2px rgba(0, 0, 0, 0.3));\n",
              "      fill: #FFFFFF;\n",
              "    }\n",
              "  </style>\n",
              "\n",
              "    <script>\n",
              "      const buttonEl =\n",
              "        document.querySelector('#df-0c732e4e-d382-437f-80df-df02e40ff7a4 button.colab-df-convert');\n",
              "      buttonEl.style.display =\n",
              "        google.colab.kernel.accessAllowed ? 'block' : 'none';\n",
              "\n",
              "      async function convertToInteractive(key) {\n",
              "        const element = document.querySelector('#df-0c732e4e-d382-437f-80df-df02e40ff7a4');\n",
              "        const dataTable =\n",
              "          await google.colab.kernel.invokeFunction('convertToInteractive',\n",
              "                                                    [key], {});\n",
              "        if (!dataTable) return;\n",
              "\n",
              "        const docLinkHtml = 'Like what you see? Visit the ' +\n",
              "          '<a target=\"_blank\" href=https://colab.research.google.com/notebooks/data_table.ipynb>data table notebook</a>'\n",
              "          + ' to learn more about interactive tables.';\n",
              "        element.innerHTML = '';\n",
              "        dataTable['output_type'] = 'display_data';\n",
              "        await google.colab.output.renderOutput(dataTable, element);\n",
              "        const docLink = document.createElement('div');\n",
              "        docLink.innerHTML = docLinkHtml;\n",
              "        element.appendChild(docLink);\n",
              "      }\n",
              "    </script>\n",
              "  </div>\n",
              "\n",
              "\n",
              "    <div id=\"df-20093ae6-3118-4dd9-b4a9-59b7fcc5a8e1\">\n",
              "      <button class=\"colab-df-quickchart\" onclick=\"quickchart('df-20093ae6-3118-4dd9-b4a9-59b7fcc5a8e1')\"\n",
              "                title=\"Suggest charts\"\n",
              "                style=\"display:none;\">\n",
              "\n",
              "<svg xmlns=\"http://www.w3.org/2000/svg\" height=\"24px\"viewBox=\"0 0 24 24\"\n",
              "     width=\"24px\">\n",
              "    <g>\n",
              "        <path d=\"M19 3H5c-1.1 0-2 .9-2 2v14c0 1.1.9 2 2 2h14c1.1 0 2-.9 2-2V5c0-1.1-.9-2-2-2zM9 17H7v-7h2v7zm4 0h-2V7h2v10zm4 0h-2v-4h2v4z\"/>\n",
              "    </g>\n",
              "</svg>\n",
              "      </button>\n",
              "\n",
              "<style>\n",
              "  .colab-df-quickchart {\n",
              "      --bg-color: #E8F0FE;\n",
              "      --fill-color: #1967D2;\n",
              "      --hover-bg-color: #E2EBFA;\n",
              "      --hover-fill-color: #174EA6;\n",
              "      --disabled-fill-color: #AAA;\n",
              "      --disabled-bg-color: #DDD;\n",
              "  }\n",
              "\n",
              "  [theme=dark] .colab-df-quickchart {\n",
              "      --bg-color: #3B4455;\n",
              "      --fill-color: #D2E3FC;\n",
              "      --hover-bg-color: #434B5C;\n",
              "      --hover-fill-color: #FFFFFF;\n",
              "      --disabled-bg-color: #3B4455;\n",
              "      --disabled-fill-color: #666;\n",
              "  }\n",
              "\n",
              "  .colab-df-quickchart {\n",
              "    background-color: var(--bg-color);\n",
              "    border: none;\n",
              "    border-radius: 50%;\n",
              "    cursor: pointer;\n",
              "    display: none;\n",
              "    fill: var(--fill-color);\n",
              "    height: 32px;\n",
              "    padding: 0;\n",
              "    width: 32px;\n",
              "  }\n",
              "\n",
              "  .colab-df-quickchart:hover {\n",
              "    background-color: var(--hover-bg-color);\n",
              "    box-shadow: 0 1px 2px rgba(60, 64, 67, 0.3), 0 1px 3px 1px rgba(60, 64, 67, 0.15);\n",
              "    fill: var(--button-hover-fill-color);\n",
              "  }\n",
              "\n",
              "  .colab-df-quickchart-complete:disabled,\n",
              "  .colab-df-quickchart-complete:disabled:hover {\n",
              "    background-color: var(--disabled-bg-color);\n",
              "    fill: var(--disabled-fill-color);\n",
              "    box-shadow: none;\n",
              "  }\n",
              "\n",
              "  .colab-df-spinner {\n",
              "    border: 2px solid var(--fill-color);\n",
              "    border-color: transparent;\n",
              "    border-bottom-color: var(--fill-color);\n",
              "    animation:\n",
              "      spin 1s steps(1) infinite;\n",
              "  }\n",
              "\n",
              "  @keyframes spin {\n",
              "    0% {\n",
              "      border-color: transparent;\n",
              "      border-bottom-color: var(--fill-color);\n",
              "      border-left-color: var(--fill-color);\n",
              "    }\n",
              "    20% {\n",
              "      border-color: transparent;\n",
              "      border-left-color: var(--fill-color);\n",
              "      border-top-color: var(--fill-color);\n",
              "    }\n",
              "    30% {\n",
              "      border-color: transparent;\n",
              "      border-left-color: var(--fill-color);\n",
              "      border-top-color: var(--fill-color);\n",
              "      border-right-color: var(--fill-color);\n",
              "    }\n",
              "    40% {\n",
              "      border-color: transparent;\n",
              "      border-right-color: var(--fill-color);\n",
              "      border-top-color: var(--fill-color);\n",
              "    }\n",
              "    60% {\n",
              "      border-color: transparent;\n",
              "      border-right-color: var(--fill-color);\n",
              "    }\n",
              "    80% {\n",
              "      border-color: transparent;\n",
              "      border-right-color: var(--fill-color);\n",
              "      border-bottom-color: var(--fill-color);\n",
              "    }\n",
              "    90% {\n",
              "      border-color: transparent;\n",
              "      border-bottom-color: var(--fill-color);\n",
              "    }\n",
              "  }\n",
              "</style>\n",
              "\n",
              "      <script>\n",
              "        async function quickchart(key) {\n",
              "          const quickchartButtonEl =\n",
              "            document.querySelector('#' + key + ' button');\n",
              "          quickchartButtonEl.disabled = true;  // To prevent multiple clicks.\n",
              "          quickchartButtonEl.classList.add('colab-df-spinner');\n",
              "          try {\n",
              "            const charts = await google.colab.kernel.invokeFunction(\n",
              "                'suggestCharts', [key], {});\n",
              "          } catch (error) {\n",
              "            console.error('Error during call to suggestCharts:', error);\n",
              "          }\n",
              "          quickchartButtonEl.classList.remove('colab-df-spinner');\n",
              "          quickchartButtonEl.classList.add('colab-df-quickchart-complete');\n",
              "        }\n",
              "        (() => {\n",
              "          let quickchartButtonEl =\n",
              "            document.querySelector('#df-20093ae6-3118-4dd9-b4a9-59b7fcc5a8e1 button');\n",
              "          quickchartButtonEl.style.display =\n",
              "            google.colab.kernel.accessAllowed ? 'block' : 'none';\n",
              "        })();\n",
              "      </script>\n",
              "    </div>\n",
              "\n",
              "    </div>\n",
              "  </div>\n"
            ],
            "application/vnd.google.colaboratory.intrinsic+json": {
              "type": "dataframe",
              "variable_name": "df",
              "summary": "{\n  \"name\": \"df\",\n  \"rows\": 285,\n  \"fields\": [\n    {\n      \"column\": \"input\",\n      \"properties\": {\n        \"dtype\": \"string\",\n        \"num_unique_values\": 285,\n        \"samples\": [\n          \"1 cup cabbage leaves 3/4 tomatoes 18 grams tamarind 2 tablespoons white urad dal 4 red chillies 3 cloves garlic big Spoon oil teaspoon Rye 1/2 Cumin seeds sprig Curry\",\n          \"12 Baby Potatoes 1 Dry Red Chilli teaspoon Cumin seeds sprig Curry leaves Coriander Powder 1/2 Turmeric powder Garam masala Amchur Mango Lemon juice 3 tablespoons Leaves chopped\",\n          \"2 cups Brown Rice cooked tablespoons Garlic chopped 1 Green Chilli 1/2 cup Carrots (Gajjar) beans (French Beans) Bell Pepper (Capsicum) Onion Cabbage (Patta Gobi/ Muttaikose) tablespoon Roasted tomato pasta sauce - or store bought Red teaspoon Soy Ginger freshly grated Spring Greens Salt Vinegar Extra Virgin Olive Oil as required\"\n        ],\n        \"semantic_type\": \"\",\n        \"description\": \"\"\n      }\n    },\n    {\n      \"column\": \"pos\",\n      \"properties\": {\n        \"dtype\": \"string\",\n        \"num_unique_values\": 284,\n        \"samples\": [\n          \"quantity unit ingredient ingredient quantity ingredient quantity unit ingredient quantity unit ingredient ingredient ingredient quantity ingredient ingredient quantity ingredient ingredient ingredient unit ingredient unit ingredient quantity ingredient ingredient unit ingredient\",\n          \"quantity unit ingredient ingredient quantity ingredient unit ingredient ingredient ingredient ingredient unit ingredient ingredient ingredient quantity ingredient ingredient ingredient ingredient unit quantity ingredient quantity ingredient ingredient ingredient ingredient ingredient unit\",\n          \"quantity unit ingredient ingredient ingredient unit ingredient ingredient quantity ingredient ingredient quantity unit ingredient ingredient ingredient ingredient ingredient ingredient ingredient ingredient ingredient ingredient ingredient ingredient ingredient unit ingredient ingredient ingredient ingredient ingredient ingredient ingredient ingredient ingredient unit ingredient ingredient ingredient ingredient ingredient ingredient ingredient ingredient ingredient ingredient ingredient ingredient ingredient ingredient\"\n        ],\n        \"semantic_type\": \"\",\n        \"description\": \"\"\n      }\n    }\n  ]\n}"
            }
          },
          "metadata": {},
          "execution_count": 9
        }
      ]
    },
    {
      "cell_type": "code",
      "source": [
        "# print the dimensions of dataframe - df\n",
        "print(\"DataFrame dimensions :\", df.shape)\n"
      ],
      "metadata": {
        "id": "Y7cA28XSx1I1",
        "colab": {
          "base_uri": "https://localhost:8080/"
        },
        "outputId": "9f8754b6-438e-4f34-f921-41f6159d09b8"
      },
      "execution_count": 10,
      "outputs": [
        {
          "output_type": "stream",
          "name": "stdout",
          "text": [
            "DataFrame dimensions : (285, 2)\n"
          ]
        }
      ]
    },
    {
      "cell_type": "code",
      "source": [
        "# print the information of the dataframe\n",
        "df.info()"
      ],
      "metadata": {
        "id": "Q-gsbEhJx2rm",
        "colab": {
          "base_uri": "https://localhost:8080/"
        },
        "outputId": "63ca2eec-659d-43ac-8871-294523ecc686"
      },
      "execution_count": 11,
      "outputs": [
        {
          "output_type": "stream",
          "name": "stdout",
          "text": [
            "<class 'pandas.core.frame.DataFrame'>\n",
            "RangeIndex: 285 entries, 0 to 284\n",
            "Data columns (total 2 columns):\n",
            " #   Column  Non-Null Count  Dtype \n",
            "---  ------  --------------  ----- \n",
            " 0   input   285 non-null    object\n",
            " 1   pos     285 non-null    object\n",
            "dtypes: object(2)\n",
            "memory usage: 4.6+ KB\n"
          ]
        }
      ]
    },
    {
      "cell_type": "markdown",
      "source": [
        "#### **2.2** *Recipe Data Manipulation* <font color = red>[13 marks]</font> <br>\n",
        "Create derived metrics in dataframe and provide insights of the dataframe"
      ],
      "metadata": {
        "id": "1y18LwoqyFpk"
      }
    },
    {
      "cell_type": "markdown",
      "source": [
        "##### **2.2.1** **Create input_tokens and pos_tokens columns by splitting the input and pos from the dataframe** <font color = red>[3 marks]</font> <br>\n",
        "Split the input and pos into input_tokens and pos_tokens in the dataframe and display it in the dataframe"
      ],
      "metadata": {
        "id": "bhNG_XC1r4Qw"
      }
    },
    {
      "cell_type": "code",
      "source": [
        "# split the input and pos into input_tokens and pos_tokens in the dataframe\n",
        "\n",
        "# Tokenize input\n",
        "# Tokenize POS\n",
        "\n",
        "nlp = spacy.load(\"en_core_web_sm\")\n",
        "\n",
        "def tokenize_input(text):\n",
        "    doc = nlp(text)\n",
        "    return [token.text for token in doc]\n",
        "\n",
        "def tokenize_pos(pos_string):\n",
        "    return pos_string.split()\n",
        "\n",
        "\n",
        "df['input_tokens'] = df['input'].apply(tokenize_input)\n",
        "df['pos_tokens'] = df['pos'].apply(tokenize_pos)"
      ],
      "metadata": {
        "id": "nma6uJwmXUas"
      },
      "execution_count": 12,
      "outputs": []
    },
    {
      "cell_type": "code",
      "source": [
        "# # Split 'input' and 'pos' columns into lists of tokens\n",
        "# df['input_tokens'] = df['input'].apply(lambda x: x.split())\n",
        "# df['pos_tokens'] = df['pos'].apply(lambda x: x.split())\n"
      ],
      "metadata": {
        "id": "AxRyXhtmybGQ"
      },
      "execution_count": 13,
      "outputs": []
    },
    {
      "cell_type": "code",
      "source": [
        "# display first five rows of the dataframe - df\n",
        "\n",
        "df.head()"
      ],
      "metadata": {
        "id": "9g-ajvFBzaaf",
        "colab": {
          "base_uri": "https://localhost:8080/",
          "height": 605
        },
        "outputId": "ad73f797-0218-48c3-bf46-769a6917d0ca"
      },
      "execution_count": 14,
      "outputs": [
        {
          "output_type": "execute_result",
          "data": {
            "text/plain": [
              "                                                                                                                                                                                                                                                                                            input                                                                                                                                                                                                                                                                                                                                                                                                                                                                      pos                                                                                                                                                                                                                                                                                                                                   input_tokens                                                                                                                                                                                                                                                                                                                                                                                                                                                                                                              pos_tokens\n",
              "0                                                                                                 6 Karela Bitter Gourd Pavakkai Salt 1 Onion 3 tablespoon Gram flour besan 2 teaspoons Turmeric powder Haldi Red Chilli Cumin seeds Jeera Coriander Powder Dhania Amchur Dry Mango Sunflower Oil                                                                                                                                         quantity ingredient ingredient ingredient ingredient ingredient quantity ingredient quantity unit ingredient ingredient ingredient quantity unit ingredient ingredient ingredient ingredient ingredient ingredient ingredient ingredient ingredient ingredient ingredient ingredient ingredient ingredient ingredient ingredient                                                                                                                [6, Karela, Bitter, Gourd, Pavakkai, Salt, 1, Onion, 3, tablespoon, Gram, flour, besan, 2, teaspoons, Turmeric, powder, Haldi, Red, Chilli, Cumin, seeds, Jeera, Coriander, Powder, Dhania, Amchur, Dry, Mango, Sunflower, Oil]                                                                                                                                                        [quantity, ingredient, ingredient, ingredient, ingredient, ingredient, quantity, ingredient, quantity, unit, ingredient, ingredient, ingredient, quantity, unit, ingredient, ingredient, ingredient, ingredient, ingredient, ingredient, ingredient, ingredient, ingredient, ingredient, ingredient, ingredient, ingredient, ingredient, ingredient, ingredient]\n",
              "1                                                                                    2-1/2 cups rice cooked 3 tomatoes teaspoons BC Belle Bhat powder 1 teaspoon chickpea lentils 1/2 cumin seeds white urad dal mustard green chilli dry red 2 cashew or peanuts 1-1/2 tablespoon oil asafoetida                                                                                                                        quantity unit ingredient ingredient quantity ingredient unit ingredient ingredient ingredient ingredient quantity unit ingredient ingredient quantity ingredient ingredient ingredient ingredient ingredient ingredient ingredient ingredient ingredient ingredient quantity ingredient ingredient ingredient quantity unit ingredient ingredient                                                                                        [2, -, 1/2, cups, rice, cooked, 3, tomatoes, teaspoons, BC, Belle, Bhat, powder, 1, teaspoon, chickpea, lentils, 1/2, cumin, seeds, white, urad, dal, mustard, green, chilli, dry, red, 2, cashew, or, peanuts, 1, -, 1/2, tablespoon, oil, asafoetida]                                                                                                                                    [quantity, unit, ingredient, ingredient, quantity, ingredient, unit, ingredient, ingredient, ingredient, ingredient, quantity, unit, ingredient, ingredient, quantity, ingredient, ingredient, ingredient, ingredient, ingredient, ingredient, ingredient, ingredient, ingredient, ingredient, quantity, ingredient, ingredient, ingredient, quantity, unit, ingredient, ingredient]\n",
              "2                                                                  1-1/2 cups Rice Vermicelli Noodles Thin 1 Onion sliced 1/2 cup Carrots Gajjar chopped 1/3 Green peas Matar 2 Chillies 1/4 teaspoon Asafoetida hing Mustard seeds White Urad Dal Split Ghee sprig Curry leaves Salt Lemon juice                                                                                       quantity unit ingredient ingredient ingredient ingredient quantity ingredient ingredient quantity unit ingredient ingredient ingredient quantity ingredient ingredient ingredient quantity ingredient quantity unit ingredient ingredient ingredient ingredient ingredient ingredient ingredient ingredient ingredient unit ingredient ingredient ingredient ingredient ingredient                                                                       [1, -, 1/2, cups, Rice, Vermicelli, Noodles, Thin, 1, Onion, sliced, 1/2, cup, Carrots, Gajjar, chopped, 1/3, Green, peas, Matar, 2, Chillies, 1/4, teaspoon, Asafoetida, hing, Mustard, seeds, White, Urad, Dal, Split, Ghee, sprig, Curry, leaves, Salt, Lemon, juice]                                                                                                [quantity, unit, ingredient, ingredient, ingredient, ingredient, quantity, ingredient, ingredient, quantity, unit, ingredient, ingredient, ingredient, quantity, ingredient, ingredient, ingredient, quantity, ingredient, quantity, unit, ingredient, ingredient, ingredient, ingredient, ingredient, ingredient, ingredient, ingredient, ingredient, unit, ingredient, ingredient, ingredient, ingredient, ingredient]\n",
              "3  500 grams Chicken 2 Onion chopped 1 Tomato 4 Green Chillies slit inch Ginger finely 6 cloves Garlic 1/2 teaspoon Turmeric powder Haldi Garam masala tablespoon Sesame Gingelly Oil 1/4 Methi Seeds Fenugreek Coriander Dhania Dry Red Fennel seeds Saunf cups Sorrel Leaves Gongura picked and  quantity unit ingredient quantity ingredient ingredient quantity ingredient quantity ingredient ingredient ingredient unit ingredient ingredient quantity unit ingredient quantity unit ingredient ingredient ingredient ingredient ingredient unit ingredient ingredient ingredient quantity ingredient ingredient ingredient ingredient ingredient ingredient ingredient ingredient ingredient ingredient unit ingredient ingredient ingredient ingredient ingredient  [500, grams, Chicken, 2, Onion, chopped, 1, Tomato, 4, Green, Chillies, slit, inch, Ginger, finely, 6, cloves, Garlic, 1/2, teaspoon, Turmeric, powder, Haldi, Garam, masala, tablespoon, Sesame, Gingelly, Oil, 1/4, Methi, Seeds, Fenugreek, Coriander, Dhania, Dry, Red, Fennel, seeds, Saunf, cups, Sorrel, Leaves, Gongura, picked, and]  [quantity, unit, ingredient, quantity, ingredient, ingredient, quantity, ingredient, quantity, ingredient, ingredient, ingredient, unit, ingredient, ingredient, quantity, unit, ingredient, quantity, unit, ingredient, ingredient, ingredient, ingredient, ingredient, unit, ingredient, ingredient, ingredient, quantity, ingredient, ingredient, ingredient, ingredient, ingredient, ingredient, ingredient, ingredient, ingredient, ingredient, unit, ingredient, ingredient, ingredient, ingredient, ingredient]\n",
              "4                                                                                                                                                           1 tablespoon chana dal white urad 2 red chillies coriander seeds 3 inches ginger onion tomato Teaspoon mustard asafoetida sprig curry                                                                                                                                                                                                                                                                 quantity unit ingredient ingredient ingredient ingredient quantity ingredient ingredient ingredient ingredient quantity unit ingredient ingredient ingredient unit ingredient ingredient unit ingredient                                                                                                                                                                                    [1, tablespoon, chana, dal, white, urad, 2, red, chillies, coriander, seeds, 3, inches, ginger, onion, tomato, Teaspoon, mustard, asafoetida, sprig, curry]                                                                                                                                                                                                                                                                                          [quantity, unit, ingredient, ingredient, ingredient, ingredient, quantity, ingredient, ingredient, ingredient, ingredient, quantity, unit, ingredient, ingredient, ingredient, unit, ingredient, ingredient, unit, ingredient]"
            ],
            "text/html": [
              "\n",
              "  <div id=\"df-6b742ff6-a1fd-4c31-806e-84a89f2d2fd9\" class=\"colab-df-container\">\n",
              "    <div>\n",
              "<style scoped>\n",
              "    .dataframe tbody tr th:only-of-type {\n",
              "        vertical-align: middle;\n",
              "    }\n",
              "\n",
              "    .dataframe tbody tr th {\n",
              "        vertical-align: top;\n",
              "    }\n",
              "\n",
              "    .dataframe thead th {\n",
              "        text-align: right;\n",
              "    }\n",
              "</style>\n",
              "<table border=\"1\" class=\"dataframe\">\n",
              "  <thead>\n",
              "    <tr style=\"text-align: right;\">\n",
              "      <th></th>\n",
              "      <th>input</th>\n",
              "      <th>pos</th>\n",
              "      <th>input_tokens</th>\n",
              "      <th>pos_tokens</th>\n",
              "    </tr>\n",
              "  </thead>\n",
              "  <tbody>\n",
              "    <tr>\n",
              "      <th>0</th>\n",
              "      <td>6 Karela Bitter Gourd Pavakkai Salt 1 Onion 3 tablespoon Gram flour besan 2 teaspoons Turmeric powder Haldi Red Chilli Cumin seeds Jeera Coriander Powder Dhania Amchur Dry Mango Sunflower Oil</td>\n",
              "      <td>quantity ingredient ingredient ingredient ingredient ingredient quantity ingredient quantity unit ingredient ingredient ingredient quantity unit ingredient ingredient ingredient ingredient ingredient ingredient ingredient ingredient ingredient ingredient ingredient ingredient ingredient ingredient ingredient ingredient</td>\n",
              "      <td>[6, Karela, Bitter, Gourd, Pavakkai, Salt, 1, Onion, 3, tablespoon, Gram, flour, besan, 2, teaspoons, Turmeric, powder, Haldi, Red, Chilli, Cumin, seeds, Jeera, Coriander, Powder, Dhania, Amchur, Dry, Mango, Sunflower, Oil]</td>\n",
              "      <td>[quantity, ingredient, ingredient, ingredient, ingredient, ingredient, quantity, ingredient, quantity, unit, ingredient, ingredient, ingredient, quantity, unit, ingredient, ingredient, ingredient, ingredient, ingredient, ingredient, ingredient, ingredient, ingredient, ingredient, ingredient, ingredient, ingredient, ingredient, ingredient, ingredient]</td>\n",
              "    </tr>\n",
              "    <tr>\n",
              "      <th>1</th>\n",
              "      <td>2-1/2 cups rice cooked 3 tomatoes teaspoons BC Belle Bhat powder 1 teaspoon chickpea lentils 1/2 cumin seeds white urad dal mustard green chilli dry red 2 cashew or peanuts 1-1/2 tablespoon oil asafoetida</td>\n",
              "      <td>quantity unit ingredient ingredient quantity ingredient unit ingredient ingredient ingredient ingredient quantity unit ingredient ingredient quantity ingredient ingredient ingredient ingredient ingredient ingredient ingredient ingredient ingredient ingredient quantity ingredient ingredient ingredient quantity unit ingredient ingredient</td>\n",
              "      <td>[2, -, 1/2, cups, rice, cooked, 3, tomatoes, teaspoons, BC, Belle, Bhat, powder, 1, teaspoon, chickpea, lentils, 1/2, cumin, seeds, white, urad, dal, mustard, green, chilli, dry, red, 2, cashew, or, peanuts, 1, -, 1/2, tablespoon, oil, asafoetida]</td>\n",
              "      <td>[quantity, unit, ingredient, ingredient, quantity, ingredient, unit, ingredient, ingredient, ingredient, ingredient, quantity, unit, ingredient, ingredient, quantity, ingredient, ingredient, ingredient, ingredient, ingredient, ingredient, ingredient, ingredient, ingredient, ingredient, quantity, ingredient, ingredient, ingredient, quantity, unit, ingredient, ingredient]</td>\n",
              "    </tr>\n",
              "    <tr>\n",
              "      <th>2</th>\n",
              "      <td>1-1/2 cups Rice Vermicelli Noodles Thin 1 Onion sliced 1/2 cup Carrots Gajjar chopped 1/3 Green peas Matar 2 Chillies 1/4 teaspoon Asafoetida hing Mustard seeds White Urad Dal Split Ghee sprig Curry leaves Salt Lemon juice</td>\n",
              "      <td>quantity unit ingredient ingredient ingredient ingredient quantity ingredient ingredient quantity unit ingredient ingredient ingredient quantity ingredient ingredient ingredient quantity ingredient quantity unit ingredient ingredient ingredient ingredient ingredient ingredient ingredient ingredient ingredient unit ingredient ingredient ingredient ingredient ingredient</td>\n",
              "      <td>[1, -, 1/2, cups, Rice, Vermicelli, Noodles, Thin, 1, Onion, sliced, 1/2, cup, Carrots, Gajjar, chopped, 1/3, Green, peas, Matar, 2, Chillies, 1/4, teaspoon, Asafoetida, hing, Mustard, seeds, White, Urad, Dal, Split, Ghee, sprig, Curry, leaves, Salt, Lemon, juice]</td>\n",
              "      <td>[quantity, unit, ingredient, ingredient, ingredient, ingredient, quantity, ingredient, ingredient, quantity, unit, ingredient, ingredient, ingredient, quantity, ingredient, ingredient, ingredient, quantity, ingredient, quantity, unit, ingredient, ingredient, ingredient, ingredient, ingredient, ingredient, ingredient, ingredient, ingredient, unit, ingredient, ingredient, ingredient, ingredient, ingredient]</td>\n",
              "    </tr>\n",
              "    <tr>\n",
              "      <th>3</th>\n",
              "      <td>500 grams Chicken 2 Onion chopped 1 Tomato 4 Green Chillies slit inch Ginger finely 6 cloves Garlic 1/2 teaspoon Turmeric powder Haldi Garam masala tablespoon Sesame Gingelly Oil 1/4 Methi Seeds Fenugreek Coriander Dhania Dry Red Fennel seeds Saunf cups Sorrel Leaves Gongura picked and</td>\n",
              "      <td>quantity unit ingredient quantity ingredient ingredient quantity ingredient quantity ingredient ingredient ingredient unit ingredient ingredient quantity unit ingredient quantity unit ingredient ingredient ingredient ingredient ingredient unit ingredient ingredient ingredient quantity ingredient ingredient ingredient ingredient ingredient ingredient ingredient ingredient ingredient ingredient unit ingredient ingredient ingredient ingredient ingredient</td>\n",
              "      <td>[500, grams, Chicken, 2, Onion, chopped, 1, Tomato, 4, Green, Chillies, slit, inch, Ginger, finely, 6, cloves, Garlic, 1/2, teaspoon, Turmeric, powder, Haldi, Garam, masala, tablespoon, Sesame, Gingelly, Oil, 1/4, Methi, Seeds, Fenugreek, Coriander, Dhania, Dry, Red, Fennel, seeds, Saunf, cups, Sorrel, Leaves, Gongura, picked, and]</td>\n",
              "      <td>[quantity, unit, ingredient, quantity, ingredient, ingredient, quantity, ingredient, quantity, ingredient, ingredient, ingredient, unit, ingredient, ingredient, quantity, unit, ingredient, quantity, unit, ingredient, ingredient, ingredient, ingredient, ingredient, unit, ingredient, ingredient, ingredient, quantity, ingredient, ingredient, ingredient, ingredient, ingredient, ingredient, ingredient, ingredient, ingredient, ingredient, unit, ingredient, ingredient, ingredient, ingredient, ingredient]</td>\n",
              "    </tr>\n",
              "    <tr>\n",
              "      <th>4</th>\n",
              "      <td>1 tablespoon chana dal white urad 2 red chillies coriander seeds 3 inches ginger onion tomato Teaspoon mustard asafoetida sprig curry</td>\n",
              "      <td>quantity unit ingredient ingredient ingredient ingredient quantity ingredient ingredient ingredient ingredient quantity unit ingredient ingredient ingredient unit ingredient ingredient unit ingredient</td>\n",
              "      <td>[1, tablespoon, chana, dal, white, urad, 2, red, chillies, coriander, seeds, 3, inches, ginger, onion, tomato, Teaspoon, mustard, asafoetida, sprig, curry]</td>\n",
              "      <td>[quantity, unit, ingredient, ingredient, ingredient, ingredient, quantity, ingredient, ingredient, ingredient, ingredient, quantity, unit, ingredient, ingredient, ingredient, unit, ingredient, ingredient, unit, ingredient]</td>\n",
              "    </tr>\n",
              "  </tbody>\n",
              "</table>\n",
              "</div>\n",
              "    <div class=\"colab-df-buttons\">\n",
              "\n",
              "  <div class=\"colab-df-container\">\n",
              "    <button class=\"colab-df-convert\" onclick=\"convertToInteractive('df-6b742ff6-a1fd-4c31-806e-84a89f2d2fd9')\"\n",
              "            title=\"Convert this dataframe to an interactive table.\"\n",
              "            style=\"display:none;\">\n",
              "\n",
              "  <svg xmlns=\"http://www.w3.org/2000/svg\" height=\"24px\" viewBox=\"0 -960 960 960\">\n",
              "    <path d=\"M120-120v-720h720v720H120Zm60-500h600v-160H180v160Zm220 220h160v-160H400v160Zm0 220h160v-160H400v160ZM180-400h160v-160H180v160Zm440 0h160v-160H620v160ZM180-180h160v-160H180v160Zm440 0h160v-160H620v160Z\"/>\n",
              "  </svg>\n",
              "    </button>\n",
              "\n",
              "  <style>\n",
              "    .colab-df-container {\n",
              "      display:flex;\n",
              "      gap: 12px;\n",
              "    }\n",
              "\n",
              "    .colab-df-convert {\n",
              "      background-color: #E8F0FE;\n",
              "      border: none;\n",
              "      border-radius: 50%;\n",
              "      cursor: pointer;\n",
              "      display: none;\n",
              "      fill: #1967D2;\n",
              "      height: 32px;\n",
              "      padding: 0 0 0 0;\n",
              "      width: 32px;\n",
              "    }\n",
              "\n",
              "    .colab-df-convert:hover {\n",
              "      background-color: #E2EBFA;\n",
              "      box-shadow: 0px 1px 2px rgba(60, 64, 67, 0.3), 0px 1px 3px 1px rgba(60, 64, 67, 0.15);\n",
              "      fill: #174EA6;\n",
              "    }\n",
              "\n",
              "    .colab-df-buttons div {\n",
              "      margin-bottom: 4px;\n",
              "    }\n",
              "\n",
              "    [theme=dark] .colab-df-convert {\n",
              "      background-color: #3B4455;\n",
              "      fill: #D2E3FC;\n",
              "    }\n",
              "\n",
              "    [theme=dark] .colab-df-convert:hover {\n",
              "      background-color: #434B5C;\n",
              "      box-shadow: 0px 1px 3px 1px rgba(0, 0, 0, 0.15);\n",
              "      filter: drop-shadow(0px 1px 2px rgba(0, 0, 0, 0.3));\n",
              "      fill: #FFFFFF;\n",
              "    }\n",
              "  </style>\n",
              "\n",
              "    <script>\n",
              "      const buttonEl =\n",
              "        document.querySelector('#df-6b742ff6-a1fd-4c31-806e-84a89f2d2fd9 button.colab-df-convert');\n",
              "      buttonEl.style.display =\n",
              "        google.colab.kernel.accessAllowed ? 'block' : 'none';\n",
              "\n",
              "      async function convertToInteractive(key) {\n",
              "        const element = document.querySelector('#df-6b742ff6-a1fd-4c31-806e-84a89f2d2fd9');\n",
              "        const dataTable =\n",
              "          await google.colab.kernel.invokeFunction('convertToInteractive',\n",
              "                                                    [key], {});\n",
              "        if (!dataTable) return;\n",
              "\n",
              "        const docLinkHtml = 'Like what you see? Visit the ' +\n",
              "          '<a target=\"_blank\" href=https://colab.research.google.com/notebooks/data_table.ipynb>data table notebook</a>'\n",
              "          + ' to learn more about interactive tables.';\n",
              "        element.innerHTML = '';\n",
              "        dataTable['output_type'] = 'display_data';\n",
              "        await google.colab.output.renderOutput(dataTable, element);\n",
              "        const docLink = document.createElement('div');\n",
              "        docLink.innerHTML = docLinkHtml;\n",
              "        element.appendChild(docLink);\n",
              "      }\n",
              "    </script>\n",
              "  </div>\n",
              "\n",
              "\n",
              "    <div id=\"df-2da0dd45-2215-46dc-a327-e79a150474ac\">\n",
              "      <button class=\"colab-df-quickchart\" onclick=\"quickchart('df-2da0dd45-2215-46dc-a327-e79a150474ac')\"\n",
              "                title=\"Suggest charts\"\n",
              "                style=\"display:none;\">\n",
              "\n",
              "<svg xmlns=\"http://www.w3.org/2000/svg\" height=\"24px\"viewBox=\"0 0 24 24\"\n",
              "     width=\"24px\">\n",
              "    <g>\n",
              "        <path d=\"M19 3H5c-1.1 0-2 .9-2 2v14c0 1.1.9 2 2 2h14c1.1 0 2-.9 2-2V5c0-1.1-.9-2-2-2zM9 17H7v-7h2v7zm4 0h-2V7h2v10zm4 0h-2v-4h2v4z\"/>\n",
              "    </g>\n",
              "</svg>\n",
              "      </button>\n",
              "\n",
              "<style>\n",
              "  .colab-df-quickchart {\n",
              "      --bg-color: #E8F0FE;\n",
              "      --fill-color: #1967D2;\n",
              "      --hover-bg-color: #E2EBFA;\n",
              "      --hover-fill-color: #174EA6;\n",
              "      --disabled-fill-color: #AAA;\n",
              "      --disabled-bg-color: #DDD;\n",
              "  }\n",
              "\n",
              "  [theme=dark] .colab-df-quickchart {\n",
              "      --bg-color: #3B4455;\n",
              "      --fill-color: #D2E3FC;\n",
              "      --hover-bg-color: #434B5C;\n",
              "      --hover-fill-color: #FFFFFF;\n",
              "      --disabled-bg-color: #3B4455;\n",
              "      --disabled-fill-color: #666;\n",
              "  }\n",
              "\n",
              "  .colab-df-quickchart {\n",
              "    background-color: var(--bg-color);\n",
              "    border: none;\n",
              "    border-radius: 50%;\n",
              "    cursor: pointer;\n",
              "    display: none;\n",
              "    fill: var(--fill-color);\n",
              "    height: 32px;\n",
              "    padding: 0;\n",
              "    width: 32px;\n",
              "  }\n",
              "\n",
              "  .colab-df-quickchart:hover {\n",
              "    background-color: var(--hover-bg-color);\n",
              "    box-shadow: 0 1px 2px rgba(60, 64, 67, 0.3), 0 1px 3px 1px rgba(60, 64, 67, 0.15);\n",
              "    fill: var(--button-hover-fill-color);\n",
              "  }\n",
              "\n",
              "  .colab-df-quickchart-complete:disabled,\n",
              "  .colab-df-quickchart-complete:disabled:hover {\n",
              "    background-color: var(--disabled-bg-color);\n",
              "    fill: var(--disabled-fill-color);\n",
              "    box-shadow: none;\n",
              "  }\n",
              "\n",
              "  .colab-df-spinner {\n",
              "    border: 2px solid var(--fill-color);\n",
              "    border-color: transparent;\n",
              "    border-bottom-color: var(--fill-color);\n",
              "    animation:\n",
              "      spin 1s steps(1) infinite;\n",
              "  }\n",
              "\n",
              "  @keyframes spin {\n",
              "    0% {\n",
              "      border-color: transparent;\n",
              "      border-bottom-color: var(--fill-color);\n",
              "      border-left-color: var(--fill-color);\n",
              "    }\n",
              "    20% {\n",
              "      border-color: transparent;\n",
              "      border-left-color: var(--fill-color);\n",
              "      border-top-color: var(--fill-color);\n",
              "    }\n",
              "    30% {\n",
              "      border-color: transparent;\n",
              "      border-left-color: var(--fill-color);\n",
              "      border-top-color: var(--fill-color);\n",
              "      border-right-color: var(--fill-color);\n",
              "    }\n",
              "    40% {\n",
              "      border-color: transparent;\n",
              "      border-right-color: var(--fill-color);\n",
              "      border-top-color: var(--fill-color);\n",
              "    }\n",
              "    60% {\n",
              "      border-color: transparent;\n",
              "      border-right-color: var(--fill-color);\n",
              "    }\n",
              "    80% {\n",
              "      border-color: transparent;\n",
              "      border-right-color: var(--fill-color);\n",
              "      border-bottom-color: var(--fill-color);\n",
              "    }\n",
              "    90% {\n",
              "      border-color: transparent;\n",
              "      border-bottom-color: var(--fill-color);\n",
              "    }\n",
              "  }\n",
              "</style>\n",
              "\n",
              "      <script>\n",
              "        async function quickchart(key) {\n",
              "          const quickchartButtonEl =\n",
              "            document.querySelector('#' + key + ' button');\n",
              "          quickchartButtonEl.disabled = true;  // To prevent multiple clicks.\n",
              "          quickchartButtonEl.classList.add('colab-df-spinner');\n",
              "          try {\n",
              "            const charts = await google.colab.kernel.invokeFunction(\n",
              "                'suggestCharts', [key], {});\n",
              "          } catch (error) {\n",
              "            console.error('Error during call to suggestCharts:', error);\n",
              "          }\n",
              "          quickchartButtonEl.classList.remove('colab-df-spinner');\n",
              "          quickchartButtonEl.classList.add('colab-df-quickchart-complete');\n",
              "        }\n",
              "        (() => {\n",
              "          let quickchartButtonEl =\n",
              "            document.querySelector('#df-2da0dd45-2215-46dc-a327-e79a150474ac button');\n",
              "          quickchartButtonEl.style.display =\n",
              "            google.colab.kernel.accessAllowed ? 'block' : 'none';\n",
              "        })();\n",
              "      </script>\n",
              "    </div>\n",
              "\n",
              "    </div>\n",
              "  </div>\n"
            ],
            "application/vnd.google.colaboratory.intrinsic+json": {
              "type": "dataframe",
              "variable_name": "df",
              "summary": "{\n  \"name\": \"df\",\n  \"rows\": 285,\n  \"fields\": [\n    {\n      \"column\": \"input\",\n      \"properties\": {\n        \"dtype\": \"string\",\n        \"num_unique_values\": 285,\n        \"samples\": [\n          \"1 cup cabbage leaves 3/4 tomatoes 18 grams tamarind 2 tablespoons white urad dal 4 red chillies 3 cloves garlic big Spoon oil teaspoon Rye 1/2 Cumin seeds sprig Curry\",\n          \"12 Baby Potatoes 1 Dry Red Chilli teaspoon Cumin seeds sprig Curry leaves Coriander Powder 1/2 Turmeric powder Garam masala Amchur Mango Lemon juice 3 tablespoons Leaves chopped\",\n          \"2 cups Brown Rice cooked tablespoons Garlic chopped 1 Green Chilli 1/2 cup Carrots (Gajjar) beans (French Beans) Bell Pepper (Capsicum) Onion Cabbage (Patta Gobi/ Muttaikose) tablespoon Roasted tomato pasta sauce - or store bought Red teaspoon Soy Ginger freshly grated Spring Greens Salt Vinegar Extra Virgin Olive Oil as required\"\n        ],\n        \"semantic_type\": \"\",\n        \"description\": \"\"\n      }\n    },\n    {\n      \"column\": \"pos\",\n      \"properties\": {\n        \"dtype\": \"string\",\n        \"num_unique_values\": 284,\n        \"samples\": [\n          \"quantity unit ingredient ingredient quantity ingredient quantity unit ingredient quantity unit ingredient ingredient ingredient quantity ingredient ingredient quantity ingredient ingredient ingredient unit ingredient unit ingredient quantity ingredient ingredient unit ingredient\",\n          \"quantity unit ingredient ingredient quantity ingredient unit ingredient ingredient ingredient ingredient unit ingredient ingredient ingredient quantity ingredient ingredient ingredient ingredient unit quantity ingredient quantity ingredient ingredient ingredient ingredient ingredient unit\",\n          \"quantity unit ingredient ingredient ingredient unit ingredient ingredient quantity ingredient ingredient quantity unit ingredient ingredient ingredient ingredient ingredient ingredient ingredient ingredient ingredient ingredient ingredient ingredient ingredient unit ingredient ingredient ingredient ingredient ingredient ingredient ingredient ingredient ingredient unit ingredient ingredient ingredient ingredient ingredient ingredient ingredient ingredient ingredient ingredient ingredient ingredient ingredient ingredient\"\n        ],\n        \"semantic_type\": \"\",\n        \"description\": \"\"\n      }\n    },\n    {\n      \"column\": \"input_tokens\",\n      \"properties\": {\n        \"dtype\": \"object\",\n        \"semantic_type\": \"\",\n        \"description\": \"\"\n      }\n    },\n    {\n      \"column\": \"pos_tokens\",\n      \"properties\": {\n        \"dtype\": \"object\",\n        \"semantic_type\": \"\",\n        \"description\": \"\"\n      }\n    }\n  ]\n}"
            }
          },
          "metadata": {},
          "execution_count": 14
        }
      ]
    },
    {
      "cell_type": "markdown",
      "source": [
        "##### **2.2.2** **Provide the length for input_tokens and pos_tokens and validate their length** <font color = red>[2 marks]</font> <br>\n",
        "\n",
        "Create input_length and pos_length columns in the dataframe and validate both the lengths. Check for the rows that are unequal in input and pos length\n"
      ],
      "metadata": {
        "id": "-JtvsBYur-oV"
      }
    },
    {
      "cell_type": "code",
      "source": [
        "# create input_length and pos_length columns for the input_tokens and pos-tokens\n",
        "\n",
        "# df['input_length'] = df['input_tokens'].apply(len)\n",
        "# df['pos_length'] = df['pos_tokens'].apply(len)\n",
        "\n",
        "df['input_length'] = [len(tokens) for tokens in df['input_tokens']]\n",
        "df['pos_length'] = [len(tokens) for tokens in df['pos_tokens']]\n"
      ],
      "metadata": {
        "id": "GeVRD2IK1Jrg"
      },
      "execution_count": 15,
      "outputs": []
    },
    {
      "cell_type": "code",
      "source": [
        "df['lengths_equal'] = df['input_length'] == df['pos_length']\n",
        "\n",
        "# View summary:\n",
        "print(df['lengths_equal'].value_counts())\n"
      ],
      "metadata": {
        "colab": {
          "base_uri": "https://localhost:8080/"
        },
        "id": "vM3imgfhxRqh",
        "outputId": "e0820bf5-6668-47f9-e85a-6840638e73f9"
      },
      "execution_count": 16,
      "outputs": [
        {
          "output_type": "stream",
          "name": "stdout",
          "text": [
            "lengths_equal\n",
            "True     204\n",
            "False     81\n",
            "Name: count, dtype: int64\n"
          ]
        }
      ]
    },
    {
      "cell_type": "code",
      "source": [
        "# check for the equality of input_length and pos_length in the dataframe\n",
        "if df['input_length'].equals(df['pos_length']):\n",
        "    print(\"All rows have matching input and pos token lengths.\")\n",
        "else:\n",
        "    print(\"There are rows with mismatched token lengths.\")\n"
      ],
      "metadata": {
        "id": "BPMOlLnz1P1H",
        "colab": {
          "base_uri": "https://localhost:8080/"
        },
        "outputId": "cc9e7e2f-3fa9-4306-9013-8aa73e11b723"
      },
      "execution_count": 17,
      "outputs": [
        {
          "output_type": "stream",
          "name": "stdout",
          "text": [
            "There are rows with mismatched token lengths.\n"
          ]
        }
      ]
    },
    {
      "cell_type": "markdown",
      "source": [
        "##### **2.2.3** **Define a unique_labels function and validate the labels in pos_tokens** <font color = red>[2 marks]</font> <br>\n",
        "\n",
        "Define a unique_labels function which checks for all the unique pos labels in the recipe & execute it.\n"
      ],
      "metadata": {
        "id": "dpJQu3JE_P7Z"
      }
    },
    {
      "cell_type": "code",
      "source": [
        "# Define a unique_labels function to checks for all the unique pos labels in the recipe & print it\n",
        "\n",
        "def unique_labels(df):\n",
        "\n",
        "    all_pos = [pos for sublist in df['pos_tokens'] for pos in sublist]\n",
        "    unique_pos = set(all_pos)\n",
        "    return unique_pos\n",
        "\n",
        "\n",
        "unique_pos_labels = unique_labels(df)\n",
        "print(\"Unique POS labels:\", unique_pos_labels)\n"
      ],
      "metadata": {
        "id": "-4aMFCxXO_GJ",
        "colab": {
          "base_uri": "https://localhost:8080/"
        },
        "outputId": "b3a87ffc-4ef0-4c38-d204-5f08ee9405dd"
      },
      "execution_count": 18,
      "outputs": [
        {
          "output_type": "stream",
          "name": "stdout",
          "text": [
            "Unique POS labels: {'unit', 'ingredient', 'quantity'}\n"
          ]
        }
      ]
    },
    {
      "cell_type": "markdown",
      "source": [
        "##### **2.2.3** **Provide the insights seen in the recipe data after validation** <font color = red>[1 marks]</font> <br>\n",
        "\n",
        "Provide the indexes that requires cleaning and formatting in the dataframe"
      ],
      "metadata": {
        "id": "JbriClEV9CW5"
      }
    },
    {
      "cell_type": "code",
      "source": [
        "invalid_indices = df[df['input_length'] != df['pos_length']].index.tolist()\n",
        "print(\"Indexes requiring cleaning/formatting:\", invalid_indices)"
      ],
      "metadata": {
        "colab": {
          "base_uri": "https://localhost:8080/"
        },
        "id": "36nIdK_z51kt",
        "outputId": "3fee66e6-e65f-4563-958f-7c7d2ded37b5"
      },
      "execution_count": 19,
      "outputs": [
        {
          "output_type": "stream",
          "name": "stdout",
          "text": [
            "Indexes requiring cleaning/formatting: [1, 2, 13, 17, 23, 27, 33, 37, 42, 46, 48, 58, 60, 63, 65, 69, 71, 73, 74, 77, 79, 82, 84, 86, 87, 94, 100, 107, 110, 111, 112, 114, 121, 130, 133, 146, 147, 150, 152, 154, 156, 157, 158, 159, 163, 164, 168, 173, 176, 183, 185, 188, 190, 192, 196, 203, 204, 205, 207, 216, 218, 219, 221, 222, 226, 228, 234, 239, 241, 242, 243, 244, 245, 247, 250, 251, 258, 261, 265, 268, 277]\n"
          ]
        }
      ]
    },
    {
      "cell_type": "markdown",
      "source": [
        "<font color = red>[write your answer]</font> <br>\n",
        "\n",
        "Indexes requiring cleaning/formatting: [1, 2, 13, 17, 23, 27, 33, 37, 42, 46, 48, 58, 60, 63, 65, 69, 71, 73, 74, 77, 79, 82, 84, 86, 87, 94, 100, 107, 110, 111, 112, 114, 121, 130, 133, 146, 147, 150, 152, 154, 156, 157, 158, 159, 163, 164, 168, 173, 176, 183, 185, 188, 190, 192, 196, 203, 204, 205, 207, 216, 218, 219, 221, 222, 226, 228, 234, 239, 241, 242, 243, 244, 245, 247, 250, 251, 258, 261, 265, 268, 277]"
      ],
      "metadata": {
        "id": "rrNQ4AtD9RPk"
      }
    },
    {
      "cell_type": "markdown",
      "source": [
        "##### **2.2.4** **Drop the rows that have invalid data provided in previous cell** <font color = red> [2 marks]</font> <br>"
      ],
      "metadata": {
        "id": "Qtqtij2-CD2m"
      }
    },
    {
      "cell_type": "code",
      "source": [
        "# drop the irrelevant recipe data\n",
        "\n",
        "df_cleaned = df[df['input_length'] == df['pos_length']].reset_index(drop=True)\n",
        "\n",
        "print(f\"Dropped {len(invalid_indices)} rows. Remaining clean rows: {len(df_cleaned)}\")\n"
      ],
      "metadata": {
        "id": "jaiy1pYWCFPA",
        "colab": {
          "base_uri": "https://localhost:8080/"
        },
        "outputId": "cfde5f55-5383-446d-b859-7accc1ed016b"
      },
      "execution_count": 20,
      "outputs": [
        {
          "output_type": "stream",
          "name": "stdout",
          "text": [
            "Dropped 81 rows. Remaining clean rows: 204\n"
          ]
        }
      ]
    },
    {
      "cell_type": "markdown",
      "source": [
        "##### **2.2.5** **Update the input_length & pos_length in dataframe**<font color = red> [2 marks]</font> <br>"
      ],
      "metadata": {
        "id": "_RJEStPSC9PB"
      }
    },
    {
      "cell_type": "code",
      "source": [
        "# update the input and pos length in input_length and pos_length\n",
        "\n",
        "# df_cleaned['input_length'] = df_cleaned['input_tokens'].apply(len)\n",
        "# df_cleaned['pos_length'] = df_cleaned['pos_tokens'].apply(len)\n",
        "\n",
        "df_cleaned['input_length'] = [len(tokens) for tokens in df_cleaned['input_tokens']]\n",
        "df_cleaned['pos_length'] = [len(tokens) for tokens in df_cleaned['pos_tokens']]"
      ],
      "metadata": {
        "id": "XjJd7gPI5_ca"
      },
      "execution_count": 21,
      "outputs": []
    },
    {
      "cell_type": "markdown",
      "source": [
        "##### **2.2.6** **Validate the input_length and pos_length by checking unequal rows** <font color = red> [1 marks]</font> <br>"
      ],
      "metadata": {
        "id": "qJdYJ2TEDBzd"
      }
    },
    {
      "cell_type": "code",
      "source": [
        "# validate the input length and pos length as input_length and pos_length\n",
        "\n",
        "if df_cleaned['input_length'].equals(df_cleaned['pos_length']):\n",
        "    print(\"All rows have matching input and pos token lengths.\")\n",
        "else:\n",
        "    print(\"There are rows with mismatched token lengths.\")\n"
      ],
      "metadata": {
        "id": "fdSsdOPM8aXo",
        "colab": {
          "base_uri": "https://localhost:8080/"
        },
        "outputId": "47780221-7344-46b4-85ae-006a18618744"
      },
      "execution_count": 22,
      "outputs": [
        {
          "output_type": "stream",
          "name": "stdout",
          "text": [
            "All rows have matching input and pos token lengths.\n"
          ]
        }
      ]
    },
    {
      "cell_type": "code",
      "source": [
        "df_cleaned.head(2)"
      ],
      "metadata": {
        "colab": {
          "base_uri": "https://localhost:8080/",
          "height": 372
        },
        "id": "iu3VLSZ0TuGL",
        "outputId": "5ff146cf-82ee-42b4-baae-8df4fd8df0ad"
      },
      "execution_count": 23,
      "outputs": [
        {
          "output_type": "execute_result",
          "data": {
            "text/plain": [
              "                                                                                                                                                                                                                                                                                            input                                                                                                                                                                                                                                                                                                                                                                                                                                                                      pos                                                                                                                                                                                                                                                                                                                                   input_tokens                                                                                                                                                                                                                                                                                                                                                                                                                                                                                                              pos_tokens  input_length  pos_length  lengths_equal\n",
              "0                                                                                                 6 Karela Bitter Gourd Pavakkai Salt 1 Onion 3 tablespoon Gram flour besan 2 teaspoons Turmeric powder Haldi Red Chilli Cumin seeds Jeera Coriander Powder Dhania Amchur Dry Mango Sunflower Oil                                                                                                                                         quantity ingredient ingredient ingredient ingredient ingredient quantity ingredient quantity unit ingredient ingredient ingredient quantity unit ingredient ingredient ingredient ingredient ingredient ingredient ingredient ingredient ingredient ingredient ingredient ingredient ingredient ingredient ingredient ingredient                                                                                                                [6, Karela, Bitter, Gourd, Pavakkai, Salt, 1, Onion, 3, tablespoon, Gram, flour, besan, 2, teaspoons, Turmeric, powder, Haldi, Red, Chilli, Cumin, seeds, Jeera, Coriander, Powder, Dhania, Amchur, Dry, Mango, Sunflower, Oil]                                                                                                                                                        [quantity, ingredient, ingredient, ingredient, ingredient, ingredient, quantity, ingredient, quantity, unit, ingredient, ingredient, ingredient, quantity, unit, ingredient, ingredient, ingredient, ingredient, ingredient, ingredient, ingredient, ingredient, ingredient, ingredient, ingredient, ingredient, ingredient, ingredient, ingredient, ingredient]            31          31           True\n",
              "1  500 grams Chicken 2 Onion chopped 1 Tomato 4 Green Chillies slit inch Ginger finely 6 cloves Garlic 1/2 teaspoon Turmeric powder Haldi Garam masala tablespoon Sesame Gingelly Oil 1/4 Methi Seeds Fenugreek Coriander Dhania Dry Red Fennel seeds Saunf cups Sorrel Leaves Gongura picked and  quantity unit ingredient quantity ingredient ingredient quantity ingredient quantity ingredient ingredient ingredient unit ingredient ingredient quantity unit ingredient quantity unit ingredient ingredient ingredient ingredient ingredient unit ingredient ingredient ingredient quantity ingredient ingredient ingredient ingredient ingredient ingredient ingredient ingredient ingredient ingredient unit ingredient ingredient ingredient ingredient ingredient  [500, grams, Chicken, 2, Onion, chopped, 1, Tomato, 4, Green, Chillies, slit, inch, Ginger, finely, 6, cloves, Garlic, 1/2, teaspoon, Turmeric, powder, Haldi, Garam, masala, tablespoon, Sesame, Gingelly, Oil, 1/4, Methi, Seeds, Fenugreek, Coriander, Dhania, Dry, Red, Fennel, seeds, Saunf, cups, Sorrel, Leaves, Gongura, picked, and]  [quantity, unit, ingredient, quantity, ingredient, ingredient, quantity, ingredient, quantity, ingredient, ingredient, ingredient, unit, ingredient, ingredient, quantity, unit, ingredient, quantity, unit, ingredient, ingredient, ingredient, ingredient, ingredient, unit, ingredient, ingredient, ingredient, quantity, ingredient, ingredient, ingredient, ingredient, ingredient, ingredient, ingredient, ingredient, ingredient, ingredient, unit, ingredient, ingredient, ingredient, ingredient, ingredient]            46          46           True"
            ],
            "text/html": [
              "\n",
              "  <div id=\"df-f67e1b3a-2e32-4981-803d-62a0e3a6901c\" class=\"colab-df-container\">\n",
              "    <div>\n",
              "<style scoped>\n",
              "    .dataframe tbody tr th:only-of-type {\n",
              "        vertical-align: middle;\n",
              "    }\n",
              "\n",
              "    .dataframe tbody tr th {\n",
              "        vertical-align: top;\n",
              "    }\n",
              "\n",
              "    .dataframe thead th {\n",
              "        text-align: right;\n",
              "    }\n",
              "</style>\n",
              "<table border=\"1\" class=\"dataframe\">\n",
              "  <thead>\n",
              "    <tr style=\"text-align: right;\">\n",
              "      <th></th>\n",
              "      <th>input</th>\n",
              "      <th>pos</th>\n",
              "      <th>input_tokens</th>\n",
              "      <th>pos_tokens</th>\n",
              "      <th>input_length</th>\n",
              "      <th>pos_length</th>\n",
              "      <th>lengths_equal</th>\n",
              "    </tr>\n",
              "  </thead>\n",
              "  <tbody>\n",
              "    <tr>\n",
              "      <th>0</th>\n",
              "      <td>6 Karela Bitter Gourd Pavakkai Salt 1 Onion 3 tablespoon Gram flour besan 2 teaspoons Turmeric powder Haldi Red Chilli Cumin seeds Jeera Coriander Powder Dhania Amchur Dry Mango Sunflower Oil</td>\n",
              "      <td>quantity ingredient ingredient ingredient ingredient ingredient quantity ingredient quantity unit ingredient ingredient ingredient quantity unit ingredient ingredient ingredient ingredient ingredient ingredient ingredient ingredient ingredient ingredient ingredient ingredient ingredient ingredient ingredient ingredient</td>\n",
              "      <td>[6, Karela, Bitter, Gourd, Pavakkai, Salt, 1, Onion, 3, tablespoon, Gram, flour, besan, 2, teaspoons, Turmeric, powder, Haldi, Red, Chilli, Cumin, seeds, Jeera, Coriander, Powder, Dhania, Amchur, Dry, Mango, Sunflower, Oil]</td>\n",
              "      <td>[quantity, ingredient, ingredient, ingredient, ingredient, ingredient, quantity, ingredient, quantity, unit, ingredient, ingredient, ingredient, quantity, unit, ingredient, ingredient, ingredient, ingredient, ingredient, ingredient, ingredient, ingredient, ingredient, ingredient, ingredient, ingredient, ingredient, ingredient, ingredient, ingredient]</td>\n",
              "      <td>31</td>\n",
              "      <td>31</td>\n",
              "      <td>True</td>\n",
              "    </tr>\n",
              "    <tr>\n",
              "      <th>1</th>\n",
              "      <td>500 grams Chicken 2 Onion chopped 1 Tomato 4 Green Chillies slit inch Ginger finely 6 cloves Garlic 1/2 teaspoon Turmeric powder Haldi Garam masala tablespoon Sesame Gingelly Oil 1/4 Methi Seeds Fenugreek Coriander Dhania Dry Red Fennel seeds Saunf cups Sorrel Leaves Gongura picked and</td>\n",
              "      <td>quantity unit ingredient quantity ingredient ingredient quantity ingredient quantity ingredient ingredient ingredient unit ingredient ingredient quantity unit ingredient quantity unit ingredient ingredient ingredient ingredient ingredient unit ingredient ingredient ingredient quantity ingredient ingredient ingredient ingredient ingredient ingredient ingredient ingredient ingredient ingredient unit ingredient ingredient ingredient ingredient ingredient</td>\n",
              "      <td>[500, grams, Chicken, 2, Onion, chopped, 1, Tomato, 4, Green, Chillies, slit, inch, Ginger, finely, 6, cloves, Garlic, 1/2, teaspoon, Turmeric, powder, Haldi, Garam, masala, tablespoon, Sesame, Gingelly, Oil, 1/4, Methi, Seeds, Fenugreek, Coriander, Dhania, Dry, Red, Fennel, seeds, Saunf, cups, Sorrel, Leaves, Gongura, picked, and]</td>\n",
              "      <td>[quantity, unit, ingredient, quantity, ingredient, ingredient, quantity, ingredient, quantity, ingredient, ingredient, ingredient, unit, ingredient, ingredient, quantity, unit, ingredient, quantity, unit, ingredient, ingredient, ingredient, ingredient, ingredient, unit, ingredient, ingredient, ingredient, quantity, ingredient, ingredient, ingredient, ingredient, ingredient, ingredient, ingredient, ingredient, ingredient, ingredient, unit, ingredient, ingredient, ingredient, ingredient, ingredient]</td>\n",
              "      <td>46</td>\n",
              "      <td>46</td>\n",
              "      <td>True</td>\n",
              "    </tr>\n",
              "  </tbody>\n",
              "</table>\n",
              "</div>\n",
              "    <div class=\"colab-df-buttons\">\n",
              "\n",
              "  <div class=\"colab-df-container\">\n",
              "    <button class=\"colab-df-convert\" onclick=\"convertToInteractive('df-f67e1b3a-2e32-4981-803d-62a0e3a6901c')\"\n",
              "            title=\"Convert this dataframe to an interactive table.\"\n",
              "            style=\"display:none;\">\n",
              "\n",
              "  <svg xmlns=\"http://www.w3.org/2000/svg\" height=\"24px\" viewBox=\"0 -960 960 960\">\n",
              "    <path d=\"M120-120v-720h720v720H120Zm60-500h600v-160H180v160Zm220 220h160v-160H400v160Zm0 220h160v-160H400v160ZM180-400h160v-160H180v160Zm440 0h160v-160H620v160ZM180-180h160v-160H180v160Zm440 0h160v-160H620v160Z\"/>\n",
              "  </svg>\n",
              "    </button>\n",
              "\n",
              "  <style>\n",
              "    .colab-df-container {\n",
              "      display:flex;\n",
              "      gap: 12px;\n",
              "    }\n",
              "\n",
              "    .colab-df-convert {\n",
              "      background-color: #E8F0FE;\n",
              "      border: none;\n",
              "      border-radius: 50%;\n",
              "      cursor: pointer;\n",
              "      display: none;\n",
              "      fill: #1967D2;\n",
              "      height: 32px;\n",
              "      padding: 0 0 0 0;\n",
              "      width: 32px;\n",
              "    }\n",
              "\n",
              "    .colab-df-convert:hover {\n",
              "      background-color: #E2EBFA;\n",
              "      box-shadow: 0px 1px 2px rgba(60, 64, 67, 0.3), 0px 1px 3px 1px rgba(60, 64, 67, 0.15);\n",
              "      fill: #174EA6;\n",
              "    }\n",
              "\n",
              "    .colab-df-buttons div {\n",
              "      margin-bottom: 4px;\n",
              "    }\n",
              "\n",
              "    [theme=dark] .colab-df-convert {\n",
              "      background-color: #3B4455;\n",
              "      fill: #D2E3FC;\n",
              "    }\n",
              "\n",
              "    [theme=dark] .colab-df-convert:hover {\n",
              "      background-color: #434B5C;\n",
              "      box-shadow: 0px 1px 3px 1px rgba(0, 0, 0, 0.15);\n",
              "      filter: drop-shadow(0px 1px 2px rgba(0, 0, 0, 0.3));\n",
              "      fill: #FFFFFF;\n",
              "    }\n",
              "  </style>\n",
              "\n",
              "    <script>\n",
              "      const buttonEl =\n",
              "        document.querySelector('#df-f67e1b3a-2e32-4981-803d-62a0e3a6901c button.colab-df-convert');\n",
              "      buttonEl.style.display =\n",
              "        google.colab.kernel.accessAllowed ? 'block' : 'none';\n",
              "\n",
              "      async function convertToInteractive(key) {\n",
              "        const element = document.querySelector('#df-f67e1b3a-2e32-4981-803d-62a0e3a6901c');\n",
              "        const dataTable =\n",
              "          await google.colab.kernel.invokeFunction('convertToInteractive',\n",
              "                                                    [key], {});\n",
              "        if (!dataTable) return;\n",
              "\n",
              "        const docLinkHtml = 'Like what you see? Visit the ' +\n",
              "          '<a target=\"_blank\" href=https://colab.research.google.com/notebooks/data_table.ipynb>data table notebook</a>'\n",
              "          + ' to learn more about interactive tables.';\n",
              "        element.innerHTML = '';\n",
              "        dataTable['output_type'] = 'display_data';\n",
              "        await google.colab.output.renderOutput(dataTable, element);\n",
              "        const docLink = document.createElement('div');\n",
              "        docLink.innerHTML = docLinkHtml;\n",
              "        element.appendChild(docLink);\n",
              "      }\n",
              "    </script>\n",
              "  </div>\n",
              "\n",
              "\n",
              "    <div id=\"df-b4e8f9cf-bec7-475e-b817-7e7b7b6a84f3\">\n",
              "      <button class=\"colab-df-quickchart\" onclick=\"quickchart('df-b4e8f9cf-bec7-475e-b817-7e7b7b6a84f3')\"\n",
              "                title=\"Suggest charts\"\n",
              "                style=\"display:none;\">\n",
              "\n",
              "<svg xmlns=\"http://www.w3.org/2000/svg\" height=\"24px\"viewBox=\"0 0 24 24\"\n",
              "     width=\"24px\">\n",
              "    <g>\n",
              "        <path d=\"M19 3H5c-1.1 0-2 .9-2 2v14c0 1.1.9 2 2 2h14c1.1 0 2-.9 2-2V5c0-1.1-.9-2-2-2zM9 17H7v-7h2v7zm4 0h-2V7h2v10zm4 0h-2v-4h2v4z\"/>\n",
              "    </g>\n",
              "</svg>\n",
              "      </button>\n",
              "\n",
              "<style>\n",
              "  .colab-df-quickchart {\n",
              "      --bg-color: #E8F0FE;\n",
              "      --fill-color: #1967D2;\n",
              "      --hover-bg-color: #E2EBFA;\n",
              "      --hover-fill-color: #174EA6;\n",
              "      --disabled-fill-color: #AAA;\n",
              "      --disabled-bg-color: #DDD;\n",
              "  }\n",
              "\n",
              "  [theme=dark] .colab-df-quickchart {\n",
              "      --bg-color: #3B4455;\n",
              "      --fill-color: #D2E3FC;\n",
              "      --hover-bg-color: #434B5C;\n",
              "      --hover-fill-color: #FFFFFF;\n",
              "      --disabled-bg-color: #3B4455;\n",
              "      --disabled-fill-color: #666;\n",
              "  }\n",
              "\n",
              "  .colab-df-quickchart {\n",
              "    background-color: var(--bg-color);\n",
              "    border: none;\n",
              "    border-radius: 50%;\n",
              "    cursor: pointer;\n",
              "    display: none;\n",
              "    fill: var(--fill-color);\n",
              "    height: 32px;\n",
              "    padding: 0;\n",
              "    width: 32px;\n",
              "  }\n",
              "\n",
              "  .colab-df-quickchart:hover {\n",
              "    background-color: var(--hover-bg-color);\n",
              "    box-shadow: 0 1px 2px rgba(60, 64, 67, 0.3), 0 1px 3px 1px rgba(60, 64, 67, 0.15);\n",
              "    fill: var(--button-hover-fill-color);\n",
              "  }\n",
              "\n",
              "  .colab-df-quickchart-complete:disabled,\n",
              "  .colab-df-quickchart-complete:disabled:hover {\n",
              "    background-color: var(--disabled-bg-color);\n",
              "    fill: var(--disabled-fill-color);\n",
              "    box-shadow: none;\n",
              "  }\n",
              "\n",
              "  .colab-df-spinner {\n",
              "    border: 2px solid var(--fill-color);\n",
              "    border-color: transparent;\n",
              "    border-bottom-color: var(--fill-color);\n",
              "    animation:\n",
              "      spin 1s steps(1) infinite;\n",
              "  }\n",
              "\n",
              "  @keyframes spin {\n",
              "    0% {\n",
              "      border-color: transparent;\n",
              "      border-bottom-color: var(--fill-color);\n",
              "      border-left-color: var(--fill-color);\n",
              "    }\n",
              "    20% {\n",
              "      border-color: transparent;\n",
              "      border-left-color: var(--fill-color);\n",
              "      border-top-color: var(--fill-color);\n",
              "    }\n",
              "    30% {\n",
              "      border-color: transparent;\n",
              "      border-left-color: var(--fill-color);\n",
              "      border-top-color: var(--fill-color);\n",
              "      border-right-color: var(--fill-color);\n",
              "    }\n",
              "    40% {\n",
              "      border-color: transparent;\n",
              "      border-right-color: var(--fill-color);\n",
              "      border-top-color: var(--fill-color);\n",
              "    }\n",
              "    60% {\n",
              "      border-color: transparent;\n",
              "      border-right-color: var(--fill-color);\n",
              "    }\n",
              "    80% {\n",
              "      border-color: transparent;\n",
              "      border-right-color: var(--fill-color);\n",
              "      border-bottom-color: var(--fill-color);\n",
              "    }\n",
              "    90% {\n",
              "      border-color: transparent;\n",
              "      border-bottom-color: var(--fill-color);\n",
              "    }\n",
              "  }\n",
              "</style>\n",
              "\n",
              "      <script>\n",
              "        async function quickchart(key) {\n",
              "          const quickchartButtonEl =\n",
              "            document.querySelector('#' + key + ' button');\n",
              "          quickchartButtonEl.disabled = true;  // To prevent multiple clicks.\n",
              "          quickchartButtonEl.classList.add('colab-df-spinner');\n",
              "          try {\n",
              "            const charts = await google.colab.kernel.invokeFunction(\n",
              "                'suggestCharts', [key], {});\n",
              "          } catch (error) {\n",
              "            console.error('Error during call to suggestCharts:', error);\n",
              "          }\n",
              "          quickchartButtonEl.classList.remove('colab-df-spinner');\n",
              "          quickchartButtonEl.classList.add('colab-df-quickchart-complete');\n",
              "        }\n",
              "        (() => {\n",
              "          let quickchartButtonEl =\n",
              "            document.querySelector('#df-b4e8f9cf-bec7-475e-b817-7e7b7b6a84f3 button');\n",
              "          quickchartButtonEl.style.display =\n",
              "            google.colab.kernel.accessAllowed ? 'block' : 'none';\n",
              "        })();\n",
              "      </script>\n",
              "    </div>\n",
              "\n",
              "    </div>\n",
              "  </div>\n"
            ],
            "application/vnd.google.colaboratory.intrinsic+json": {
              "type": "dataframe",
              "variable_name": "df_cleaned",
              "summary": "{\n  \"name\": \"df_cleaned\",\n  \"rows\": 204,\n  \"fields\": [\n    {\n      \"column\": \"input\",\n      \"properties\": {\n        \"dtype\": \"string\",\n        \"num_unique_values\": 204,\n        \"samples\": [\n          \"1 cup rice 12 small onions 2 cloves garlic inch ginger green chillies bay leaf tsp red chilli powder turmeric carrot beans potatoes ghee cinnamon fennel whole pepper coriander seeds 1/4 peas mint leaves\",\n          \"2 Burger buns 5 Pickled Jalapenos sliced Cheese Slices Potatoes Aloo pressure cooked 1 Onion chopped tablespoon Red Chilli powder Salt Whole Egg 1/2 cup Wheat Bread crumbs 4 cloves Garlic Onions Tomatoes Homemade tomato puree Green Bell Pepper Capsicum Soy granules teaspoon flakes Cumin Jeera Dried oregano Tabasco Original Hot Sauce Honey Sunflower Oil\",\n          \"1/4 cup Rice Yellow Moong Dal 1 Carrot Gajjar 3 Green beans French Beans teaspoon Ghee Cumin seeds Asafoetida hing Salt a pinch\"\n        ],\n        \"semantic_type\": \"\",\n        \"description\": \"\"\n      }\n    },\n    {\n      \"column\": \"pos\",\n      \"properties\": {\n        \"dtype\": \"string\",\n        \"num_unique_values\": 203,\n        \"samples\": [\n          \"quantity unit ingredient quantity unit ingredient quantity ingredient ingredient unit ingredient unit ingredient ingredient ingredient unit ingredient ingredient ingredient ingredient ingredient ingredient ingredient ingredient ingredient ingredient ingredient ingredient ingredient ingredient quantity ingredient ingredient ingredient\",\n          \"quantity ingredient ingredient quantity ingredient ingredient ingredient ingredient ingredient ingredient ingredient ingredient ingredient quantity ingredient ingredient unit ingredient ingredient ingredient ingredient ingredient ingredient quantity unit ingredient ingredient ingredient quantity unit ingredient ingredient ingredient ingredient ingredient ingredient ingredient ingredient ingredient ingredient ingredient ingredient unit ingredient ingredient ingredient ingredient ingredient ingredient ingredient ingredient ingredient ingredient ingredient ingredient\",\n          \"quantity unit ingredient ingredient ingredient ingredient quantity ingredient ingredient quantity ingredient ingredient ingredient ingredient unit ingredient ingredient ingredient ingredient ingredient ingredient quantity unit\"\n        ],\n        \"semantic_type\": \"\",\n        \"description\": \"\"\n      }\n    },\n    {\n      \"column\": \"input_tokens\",\n      \"properties\": {\n        \"dtype\": \"object\",\n        \"semantic_type\": \"\",\n        \"description\": \"\"\n      }\n    },\n    {\n      \"column\": \"pos_tokens\",\n      \"properties\": {\n        \"dtype\": \"object\",\n        \"semantic_type\": \"\",\n        \"description\": \"\"\n      }\n    },\n    {\n      \"column\": \"input_length\",\n      \"properties\": {\n        \"dtype\": \"number\",\n        \"std\": 11,\n        \"min\": 7,\n        \"max\": 73,\n        \"num_unique_values\": 53,\n        \"samples\": [\n          38,\n          18,\n          13\n        ],\n        \"semantic_type\": \"\",\n        \"description\": \"\"\n      }\n    },\n    {\n      \"column\": \"pos_length\",\n      \"properties\": {\n        \"dtype\": \"number\",\n        \"std\": 11,\n        \"min\": 7,\n        \"max\": 73,\n        \"num_unique_values\": 53,\n        \"samples\": [\n          38,\n          18,\n          13\n        ],\n        \"semantic_type\": \"\",\n        \"description\": \"\"\n      }\n    },\n    {\n      \"column\": \"lengths_equal\",\n      \"properties\": {\n        \"dtype\": \"boolean\",\n        \"num_unique_values\": 1,\n        \"samples\": [\n          true\n        ],\n        \"semantic_type\": \"\",\n        \"description\": \"\"\n      }\n    }\n  ]\n}"
            }
          },
          "metadata": {},
          "execution_count": 23
        }
      ]
    },
    {
      "cell_type": "markdown",
      "source": [
        "## **3** Train Validation Split (70 train - 30 val) <font color = red>[6 marks]</font> <br>"
      ],
      "metadata": {
        "id": "TwKLW4em-qMu"
      }
    },
    {
      "cell_type": "markdown",
      "source": [
        "#### **3.1** *Perform train and validation split ratio* <font color = red>[6 marks]</font> <br>\n",
        "Split the dataset with the help of input_tokens and pos_tokens and make a ratio of 70:30 split for training and validation datasets."
      ],
      "metadata": {
        "id": "z_pJDTVO-71z"
      }
    },
    {
      "cell_type": "markdown",
      "source": [
        "###### **3.1.1** **Split the dataset into train_df and val_df into 70:30 ratio** <font color = red> [1 marks]</font> <br>"
      ],
      "metadata": {
        "id": "l-64gdDiIy9u"
      }
    },
    {
      "cell_type": "code",
      "source": [
        "# split the dataset into training and validation sets\n",
        "\n",
        "# X = df_cleaned['input_tokens'].tolist()\n",
        "# y = df_cleaned['pos_tokens'].tolist()\n",
        "\n",
        "\n",
        "train_df, val_df = train_test_split(df_cleaned, test_size=0.3, random_state=42)\n"
      ],
      "metadata": {
        "id": "W20A_-9E_WOv"
      },
      "execution_count": 24,
      "outputs": []
    },
    {
      "cell_type": "markdown",
      "source": [
        "###### **3.1.2** **Print the first five rows of train_df and val_df** <font color = red> [1 marks]</font> <br>"
      ],
      "metadata": {
        "id": "PUA05_77JRAv"
      }
    },
    {
      "cell_type": "code",
      "source": [
        "# print the first five rows of train_df\n",
        "\n",
        "print(train_df.head())"
      ],
      "metadata": {
        "id": "pgMZfsbV_XhK",
        "colab": {
          "base_uri": "https://localhost:8080/"
        },
        "outputId": "b582f8e9-d8fe-4506-c445-d1e057433990"
      },
      "execution_count": 25,
      "outputs": [
        {
          "output_type": "stream",
          "name": "stdout",
          "text": [
            "                                                                                                                                                                                                                                                                input                                                                                                                                                                                                                                                                                                                                                                                                                               pos                                                                                                                                                                                                                                                                                                input_tokens                                                                                                                                                                                                                                                                                                                                                                                                                                                                  pos_tokens  input_length  pos_length  lengths_equal\n",
            "98   1 cup Gram flour besan 1/2 teaspoon Ajwain Carom seeds 1/4 Red Chilli powder 2 tablespoons Curd Dahi Yogurt Sunflower Oil Green Bell Pepper Capsicum Cumin Asafoetida hing Turmeric Garam masala Amchur Dry Mango Powder Coriander Dhania 4 sprig Leaves chopped  quantity unit ingredient ingredient ingredient quantity unit ingredient ingredient ingredient quantity ingredient ingredient ingredient quantity unit ingredient ingredient ingredient ingredient ingredient ingredient ingredient ingredient ingredient ingredient ingredient ingredient ingredient ingredient ingredient ingredient ingredient ingredient ingredient ingredient ingredient quantity unit ingredient ingredient  [1, cup, Gram, flour, besan, 1/2, teaspoon, Ajwain, Carom, seeds, 1/4, Red, Chilli, powder, 2, tablespoons, Curd, Dahi, Yogurt, Sunflower, Oil, Green, Bell, Pepper, Capsicum, Cumin, Asafoetida, hing, Turmeric, Garam, masala, Amchur, Dry, Mango, Powder, Coriander, Dhania, 4, sprig, Leaves, chopped]  [quantity, unit, ingredient, ingredient, ingredient, quantity, unit, ingredient, ingredient, ingredient, quantity, ingredient, ingredient, ingredient, quantity, unit, ingredient, ingredient, ingredient, ingredient, ingredient, ingredient, ingredient, ingredient, ingredient, ingredient, ingredient, ingredient, ingredient, ingredient, ingredient, ingredient, ingredient, ingredient, ingredient, ingredient, ingredient, quantity, unit, ingredient, ingredient]            41          41           True\n",
            "31                                                                                                                     1 eggplant 2 inch ginger onion tomato green chillies teaspoon turmeric powder garam masala coriander tablespoon butter red chili oil sprigs of                                                                                                                                                                                                             quantity ingredient quantity unit ingredient ingredient ingredient ingredient ingredient unit ingredient ingredient ingredient ingredient ingredient unit ingredient ingredient ingredient ingredient unit ingredient                                                                                                                                       [1, eggplant, 2, inch, ginger, onion, tomato, green, chillies, teaspoon, turmeric, powder, garam, masala, coriander, tablespoon, butter, red, chili, oil, sprigs, of]                                                                                                                                                                                                                                [quantity, ingredient, quantity, unit, ingredient, ingredient, ingredient, ingredient, ingredient, unit, ingredient, ingredient, ingredient, ingredient, ingredient, unit, ingredient, ingredient, ingredient, ingredient, unit, ingredient]            22          22           True\n",
            "12                                                                                                               2 onions 1 teaspoon cumin seeds tablespoons black urad dal split tamarind paste 3 dry red chillies 1/2 jaggery teaspoons oil salt sprig curry leaves                                                                                                                                                                                quantity ingredient quantity unit ingredient ingredient unit ingredient ingredient ingredient ingredient ingredient ingredient quantity ingredient ingredient ingredient quantity ingredient unit ingredient ingredient unit ingredient ingredient                                                                                                                              [2, onions, 1, teaspoon, cumin, seeds, tablespoons, black, urad, dal, split, tamarind, paste, 3, dry, red, chillies, 1/2, jaggery, teaspoons, oil, salt, sprig, curry, leaves]                                                                                                                                                                                                [quantity, ingredient, quantity, unit, ingredient, ingredient, unit, ingredient, ingredient, ingredient, ingredient, ingredient, ingredient, quantity, ingredient, ingredient, ingredient, quantity, ingredient, unit, ingredient, ingredient, unit, ingredient, ingredient]            25          25           True\n",
            "35                                                                                                      2 cups Makki Ka Atta Yellow Corn Meal Flour 1 1/2 Methi Leaves Fenugreek chopped Green Chillies tablespoon Ajwain Carom seeds Kashmiri Red Chilli Powder Salt                                                                                                                                                       quantity unit ingredient ingredient ingredient ingredient ingredient ingredient ingredient quantity quantity ingredient ingredient ingredient ingredient ingredient ingredient unit ingredient ingredient ingredient ingredient ingredient ingredient ingredient ingredient                                                                                                                    [2, cups, Makki, Ka, Atta, Yellow, Corn, Meal, Flour, 1, 1/2, Methi, Leaves, Fenugreek, chopped, Green, Chillies, tablespoon, Ajwain, Carom, seeds, Kashmiri, Red, Chilli, Powder, Salt]                                                                                                                                                                      [quantity, unit, ingredient, ingredient, ingredient, ingredient, ingredient, ingredient, ingredient, quantity, quantity, ingredient, ingredient, ingredient, ingredient, ingredient, ingredient, unit, ingredient, ingredient, ingredient, ingredient, ingredient, ingredient, ingredient, ingredient]            26          26           True\n",
            "120                                                      10 prawns 1 tablespoon soy sauce teaspoon sesame gingelly oil cloves garlic finely chopped 2 green chillies coriander dhania leaves 1/2 whole black peppercorns crushed sunflower salt few drops lemon juice                                                                                                    quantity ingredient quantity unit ingredient ingredient unit ingredient ingredient ingredient ingredient ingredient ingredient ingredient quantity ingredient ingredient ingredient ingredient ingredient quantity ingredient ingredient ingredient ingredient ingredient ingredient quantity ingredient ingredient ingredient                                                                [10, prawns, 1, tablespoon, soy, sauce, teaspoon, sesame, gingelly, oil, cloves, garlic, finely, chopped, 2, green, chillies, coriander, dhania, leaves, 1/2, whole, black, peppercorns, crushed, sunflower, salt, few, drops, lemon, juice]                                                                                                              [quantity, ingredient, quantity, unit, ingredient, ingredient, unit, ingredient, ingredient, ingredient, ingredient, ingredient, ingredient, ingredient, quantity, ingredient, ingredient, ingredient, ingredient, ingredient, quantity, ingredient, ingredient, ingredient, ingredient, ingredient, ingredient, quantity, ingredient, ingredient, ingredient]            31          31           True\n"
          ]
        }
      ]
    },
    {
      "cell_type": "code",
      "source": [
        "# print the first five rows of the val_df\n",
        "\n",
        "print(val_df .head())"
      ],
      "metadata": {
        "id": "Kgtg5WE4_d7h",
        "colab": {
          "base_uri": "https://localhost:8080/"
        },
        "outputId": "aa6b5de0-fa7c-4d4e-b1b5-2b9cfc088c01"
      },
      "execution_count": 26,
      "outputs": [
        {
          "output_type": "stream",
          "name": "stdout",
          "text": [
            "                                                                                                                                                                                                                                                                                                                                                                  input                                                                                                                                                                                                                                                                                                                                                                                                                                                                                                                                                                                         pos                                                                                                                                                                                                                                                                                                                                                                                                                input_tokens                                                                                                                                                                                                                                                                                                                                                                                                                                                                                                                                                                                                                                          pos_tokens  input_length  pos_length  lengths_equal\n",
            "15                                                                                                                                                           1 cup rice 12 small onions 2 cloves garlic inch ginger green chillies bay leaf tsp red chilli powder turmeric carrot beans potatoes ghee cinnamon fennel whole pepper coriander seeds 1/4 peas mint leaves                                                                                                                                                                                                                                             quantity unit ingredient quantity unit ingredient quantity ingredient ingredient unit ingredient unit ingredient ingredient ingredient unit ingredient ingredient ingredient ingredient ingredient ingredient ingredient ingredient ingredient ingredient ingredient ingredient ingredient ingredient quantity ingredient ingredient ingredient                                                                                                                                                                               [1, cup, rice, 12, small, onions, 2, cloves, garlic, inch, ginger, green, chillies, bay, leaf, tsp, red, chilli, powder, turmeric, carrot, beans, potatoes, ghee, cinnamon, fennel, whole, pepper, coriander, seeds, 1/4, peas, mint, leaves]                                                                                                                                                                                                                                                                  [quantity, unit, ingredient, quantity, unit, ingredient, quantity, ingredient, ingredient, unit, ingredient, unit, ingredient, ingredient, ingredient, unit, ingredient, ingredient, ingredient, ingredient, ingredient, ingredient, ingredient, ingredient, ingredient, ingredient, ingredient, ingredient, ingredient, ingredient, quantity, ingredient, ingredient, ingredient]            34          34           True\n",
            "9    2 Burger buns 5 Pickled Jalapenos sliced Cheese Slices Potatoes Aloo pressure cooked 1 Onion chopped tablespoon Red Chilli powder Salt Whole Egg 1/2 cup Wheat Bread crumbs 4 cloves Garlic Onions Tomatoes Homemade tomato puree Green Bell Pepper Capsicum Soy granules teaspoon flakes Cumin Jeera Dried oregano Tabasco Original Hot Sauce Honey Sunflower Oil  quantity ingredient ingredient quantity ingredient ingredient ingredient ingredient ingredient ingredient ingredient ingredient ingredient quantity ingredient ingredient unit ingredient ingredient ingredient ingredient ingredient ingredient quantity unit ingredient ingredient ingredient quantity unit ingredient ingredient ingredient ingredient ingredient ingredient ingredient ingredient ingredient ingredient ingredient ingredient unit ingredient ingredient ingredient ingredient ingredient ingredient ingredient ingredient ingredient ingredient ingredient ingredient  [2, Burger, buns, 5, Pickled, Jalapenos, sliced, Cheese, Slices, Potatoes, Aloo, pressure, cooked, 1, Onion, chopped, tablespoon, Red, Chilli, powder, Salt, Whole, Egg, 1/2, cup, Wheat, Bread, crumbs, 4, cloves, Garlic, Onions, Tomatoes, Homemade, tomato, puree, Green, Bell, Pepper, Capsicum, Soy, granules, teaspoon, flakes, Cumin, Jeera, Dried, oregano, Tabasco, Original, Hot, Sauce, Honey, Sunflower, Oil]  [quantity, ingredient, ingredient, quantity, ingredient, ingredient, ingredient, ingredient, ingredient, ingredient, ingredient, ingredient, ingredient, quantity, ingredient, ingredient, unit, ingredient, ingredient, ingredient, ingredient, ingredient, ingredient, quantity, unit, ingredient, ingredient, ingredient, quantity, unit, ingredient, ingredient, ingredient, ingredient, ingredient, ingredient, ingredient, ingredient, ingredient, ingredient, ingredient, ingredient, unit, ingredient, ingredient, ingredient, ingredient, ingredient, ingredient, ingredient, ingredient, ingredient, ingredient, ingredient, ingredient]            55          55           True\n",
            "115                                                                                                                                                                                                                                     1/4 cup Rice Yellow Moong Dal 1 Carrot Gajjar 3 Green beans French Beans teaspoon Ghee Cumin seeds Asafoetida hing Salt a pinch                                                                                                                                                                                                                                                                                                                                                          quantity unit ingredient ingredient ingredient ingredient quantity ingredient ingredient quantity ingredient ingredient ingredient ingredient unit ingredient ingredient ingredient ingredient ingredient ingredient quantity unit                                                                                                                                                                                                                                                                     [1/4, cup, Rice, Yellow, Moong, Dal, 1, Carrot, Gajjar, 3, Green, beans, French, Beans, teaspoon, Ghee, Cumin, seeds, Asafoetida, hing, Salt, a, pinch]                                                                                                                                                                                                                                                                                                                                                                                          [quantity, unit, ingredient, ingredient, ingredient, ingredient, quantity, ingredient, ingredient, quantity, ingredient, ingredient, ingredient, ingredient, unit, ingredient, ingredient, ingredient, ingredient, ingredient, ingredient, quantity, unit]            23          23           True\n",
            "78                                                                                                               4 Potatoes Aloo 50 grams Mozzarella cheese 1 teaspoon Mustard seeds inch Ginger grated Onion finely chopped 2 Green Chillies 1/4 Asafoetida hing 1/2 Turmeric powder Haldi Coriander Dhania Leaves small bunch Sunflower Oil cup Gram flour besan Salt                                                                                                                                                                                    quantity ingredient ingredient quantity unit ingredient ingredient quantity unit ingredient ingredient unit ingredient ingredient ingredient ingredient ingredient quantity ingredient ingredient quantity ingredient ingredient quantity ingredient ingredient ingredient ingredient ingredient ingredient ingredient ingredient ingredient ingredient unit ingredient ingredient ingredient ingredient                                                                                                                              [4, Potatoes, Aloo, 50, grams, Mozzarella, cheese, 1, teaspoon, Mustard, seeds, inch, Ginger, grated, Onion, finely, chopped, 2, Green, Chillies, 1/4, Asafoetida, hing, 1/2, Turmeric, powder, Haldi, Coriander, Dhania, Leaves, small, bunch, Sunflower, Oil, cup, Gram, flour, besan, Salt]                                                                                                                                                                                                    [quantity, ingredient, ingredient, quantity, unit, ingredient, ingredient, quantity, unit, ingredient, ingredient, unit, ingredient, ingredient, ingredient, ingredient, ingredient, quantity, ingredient, ingredient, quantity, ingredient, ingredient, quantity, ingredient, ingredient, ingredient, ingredient, ingredient, ingredient, ingredient, ingredient, ingredient, ingredient, unit, ingredient, ingredient, ingredient, ingredient]            39          39           True\n",
            "66                                                                       1 cup rice 2 water tsp ghee cardamom long star anise 1/2 inch cinnamon whole black pepper bay leaf 1/4 onion sprig green coriander mint 200 grams cottage cheese tomatoes tablespoons cream ginger 3 cloves garlic chili powder cumin garam masala red chilli kasoori methi honey tbsp cashews                                                                                                   quantity unit ingredient quantity ingredient unit ingredient ingredient ingredient ingredient ingredient quantity unit ingredient ingredient ingredient ingredient ingredient ingredient quantity ingredient unit ingredient ingredient ingredient quantity unit ingredient ingredient ingredient unit ingredient ingredient quantity ingredient ingredient ingredient ingredient ingredient ingredient ingredient ingredient ingredient ingredient ingredient ingredient unit ingredient                                                                             [1, cup, rice, 2, water, tsp, ghee, cardamom, long, star, anise, 1/2, inch, cinnamon, whole, black, pepper, bay, leaf, 1/4, onion, sprig, green, coriander, mint, 200, grams, cottage, cheese, tomatoes, tablespoons, cream, ginger, 3, cloves, garlic, chili, powder, cumin, garam, masala, red, chilli, kasoori, methi, honey, tbsp, cashews]                                                                                                          [quantity, unit, ingredient, quantity, ingredient, unit, ingredient, ingredient, ingredient, ingredient, ingredient, quantity, unit, ingredient, ingredient, ingredient, ingredient, ingredient, ingredient, quantity, ingredient, unit, ingredient, ingredient, ingredient, quantity, unit, ingredient, ingredient, ingredient, unit, ingredient, ingredient, quantity, ingredient, ingredient, ingredient, ingredient, ingredient, ingredient, ingredient, ingredient, ingredient, ingredient, ingredient, ingredient, unit, ingredient]            48          48           True\n"
          ]
        }
      ]
    },
    {
      "cell_type": "markdown",
      "source": [
        "###### **3.1.3** **Extract the dataset into train_df and val_df into X_train, X_val, y_train and y_val and display their length** <font color = red> [2 marks]</font> <br>\n",
        "\n",
        "Extract X_train, X_val, y_train and y_val by extracting the list of input_tokens and pos_tokens from train_df and val_df and also display their length"
      ],
      "metadata": {
        "id": "7prEiaiqI_VZ"
      }
    },
    {
      "cell_type": "code",
      "source": [
        "# extract the training and validation sets by taking input_tokens and pos_tokens\n",
        "\n",
        "X_train = train_df['input_tokens'].tolist()\n",
        "y_train = train_df['pos_tokens'].tolist()\n",
        "\n",
        "X_val = val_df['input_tokens'].tolist()\n",
        "y_val = val_df['pos_tokens'].tolist()"
      ],
      "metadata": {
        "id": "BFVnCD71IHXF"
      },
      "execution_count": 27,
      "outputs": []
    },
    {
      "cell_type": "code",
      "source": [
        "# validate the shape of training and validation samples\n",
        "\n",
        "print(\"Number of training samples (X_train):\", len(X_train))\n",
        "print(\"Number of training labels  (y_train):\", len(y_train))\n",
        "print(\"Number of validation samples (X_val):\", len(X_val))\n",
        "print(\"Number of validation labels  (y_val):\", len(y_val))"
      ],
      "metadata": {
        "id": "yQPOVz3J_fiq",
        "colab": {
          "base_uri": "https://localhost:8080/"
        },
        "outputId": "b7f55e3c-5bd9-4e94-e714-44f3ea30126b"
      },
      "execution_count": 28,
      "outputs": [
        {
          "output_type": "stream",
          "name": "stdout",
          "text": [
            "Number of training samples (X_train): 142\n",
            "Number of training labels  (y_train): 142\n",
            "Number of validation samples (X_val): 62\n",
            "Number of validation labels  (y_val): 62\n"
          ]
        }
      ]
    },
    {
      "cell_type": "markdown",
      "source": [
        "###### **3.1.4** **Display the number of unique labels present in y_train** <font color = red> [2 marks]</font> <br>"
      ],
      "metadata": {
        "id": "8uicUYglLeiA"
      }
    },
    {
      "cell_type": "code",
      "source": [
        "# Display the number of unique labels present in y_train\n",
        "\n",
        "all_labels = [label for sublist in y_train for label in sublist]\n",
        "\n",
        "unique_labels = set(all_labels)\n",
        "\n",
        "print(f\"Number of unique POS labels in y_train: {len(unique_labels)}\")\n",
        "print(\"Unique labels:\", unique_labels)"
      ],
      "metadata": {
        "id": "hzWtzpdINt6X",
        "colab": {
          "base_uri": "https://localhost:8080/"
        },
        "outputId": "333ac94c-bc29-4adb-bdff-438a204bc0d8"
      },
      "execution_count": 29,
      "outputs": [
        {
          "output_type": "stream",
          "name": "stdout",
          "text": [
            "Number of unique POS labels in y_train: 3\n",
            "Unique labels: {'unit', 'ingredient', 'quantity'}\n"
          ]
        }
      ]
    },
    {
      "cell_type": "markdown",
      "source": [
        "## **4** Exploratory Recipe Data Analysis on Training Dataset <font color = red>[16 marks]</font> <br>"
      ],
      "metadata": {
        "id": "QFm46QrB4gmj"
      }
    },
    {
      "cell_type": "markdown",
      "source": [
        "#### **4.1** *Flatten the lists for input_tokens & pos_tokens* <font color = red>[2 marks]</font> <br>\n",
        "\n",
        "Define a function **flatten_list** for flattening the structure for input_tokens and pos_tokens. The input parameter passed to this function is a nested list.\n",
        "\n",
        "Initialise the dataset_name with a value ***'Training'***\n",
        "\n",
        "\n"
      ],
      "metadata": {
        "id": "KUWIp0n_NeH6"
      }
    },
    {
      "cell_type": "code",
      "source": [
        "# flatten the list for nested_list (input_tokens, pos_tokens)\n",
        "\n",
        "def flatten_list(nested_list):\n",
        "\n",
        "    return [item for sublist in nested_list for item in sublist]\n"
      ],
      "metadata": {
        "id": "WzcY0gPiOe8o"
      },
      "execution_count": 30,
      "outputs": []
    },
    {
      "cell_type": "code",
      "source": [
        "# initialise the dataset_name\n",
        "dataset_name = 'Training'"
      ],
      "metadata": {
        "id": "DXRda29gNBH8"
      },
      "execution_count": 31,
      "outputs": []
    },
    {
      "cell_type": "markdown",
      "source": [
        "#### **4.2** *Extract and validate the tokens after using the flattening technique* <font color = red>[2 marks]</font> <br>\n",
        "\n",
        "Define a function named ***extract_and_validate_tokens*** with parameters dataframe and dataset_name (Training/Validation), validate the length of input_tokens and pos_tokens from dataframe and display first 10 records for both the input_tokens and pos_tokens. Execute this function\n",
        "\n",
        "\n"
      ],
      "metadata": {
        "id": "eGOqhd8OOr1E"
      }
    },
    {
      "cell_type": "code",
      "source": [
        "# define a extract_and_validate_tokens with parameters (df, dataset_name)\n",
        "# call the flatten_list and apply it on input_tokens and pos_tokens\n",
        "# validate their length and display first 10 records having input and pos tokens\n",
        "\n",
        "def extract_and_validate_tokens(X, y, dataset_name):\n",
        "    print(f\"Dataset: {dataset_name}\\n\")\n",
        "\n",
        "    all_input_tokens = flatten_list(X)\n",
        "    all_pos_tokens = flatten_list(y)\n",
        "\n",
        "    if len(all_input_tokens) == len(all_pos_tokens):\n",
        "        print(\"All sequences have matching input and pos token lengths.\")\n",
        "    else:\n",
        "        print(\"There are sequences with mismatched token lengths.\")\n",
        "\n",
        "    print(\"First 10 input_tokens sequences:\")\n",
        "    print(X[:10])\n",
        "\n",
        "    print(\"\\nFirst 10 pos_tokens sequences:\")\n",
        "    print(y[:10])\n"
      ],
      "metadata": {
        "id": "H3GMX83xP7ja"
      },
      "execution_count": 32,
      "outputs": []
    },
    {
      "cell_type": "code",
      "source": [
        "# extract the tokens and its pos tags\n",
        "\n",
        "# Validate and view training data\n",
        "extract_and_validate_tokens(X_train, y_train, 'Training')\n",
        "\n",
        "# Validate and view validation data\n",
        "extract_and_validate_tokens(X_val, y_val, 'Validation')\n"
      ],
      "metadata": {
        "id": "ajdbYMgeLpf9",
        "colab": {
          "base_uri": "https://localhost:8080/"
        },
        "outputId": "ec804fe0-7301-42c2-af2c-4229aec5103c"
      },
      "execution_count": 33,
      "outputs": [
        {
          "output_type": "stream",
          "name": "stdout",
          "text": [
            "Dataset: Training\n",
            "\n",
            "All sequences have matching input and pos token lengths.\n",
            "First 10 input_tokens sequences:\n",
            "[['1', 'cup', 'Gram', 'flour', 'besan', '1/2', 'teaspoon', 'Ajwain', 'Carom', 'seeds', '1/4', 'Red', 'Chilli', 'powder', '2', 'tablespoons', 'Curd', 'Dahi', 'Yogurt', 'Sunflower', 'Oil', 'Green', 'Bell', 'Pepper', 'Capsicum', 'Cumin', 'Asafoetida', 'hing', 'Turmeric', 'Garam', 'masala', 'Amchur', 'Dry', 'Mango', 'Powder', 'Coriander', 'Dhania', '4', 'sprig', 'Leaves', 'chopped'], ['1', 'eggplant', '2', 'inch', 'ginger', 'onion', 'tomato', 'green', 'chillies', 'teaspoon', 'turmeric', 'powder', 'garam', 'masala', 'coriander', 'tablespoon', 'butter', 'red', 'chili', 'oil', 'sprigs', 'of'], ['2', 'onions', '1', 'teaspoon', 'cumin', 'seeds', 'tablespoons', 'black', 'urad', 'dal', 'split', 'tamarind', 'paste', '3', 'dry', 'red', 'chillies', '1/2', 'jaggery', 'teaspoons', 'oil', 'salt', 'sprig', 'curry', 'leaves'], ['2', 'cups', 'Makki', 'Ka', 'Atta', 'Yellow', 'Corn', 'Meal', 'Flour', '1', '1/2', 'Methi', 'Leaves', 'Fenugreek', 'chopped', 'Green', 'Chillies', 'tablespoon', 'Ajwain', 'Carom', 'seeds', 'Kashmiri', 'Red', 'Chilli', 'Powder', 'Salt'], ['10', 'prawns', '1', 'tablespoon', 'soy', 'sauce', 'teaspoon', 'sesame', 'gingelly', 'oil', 'cloves', 'garlic', 'finely', 'chopped', '2', 'green', 'chillies', 'coriander', 'dhania', 'leaves', '1/2', 'whole', 'black', 'peppercorns', 'crushed', 'sunflower', 'salt', 'few', 'drops', 'lemon', 'juice'], ['2', 'cups', 'Whole', 'Wheat', 'Flour', 'Salt', 'Ghee', '1', 'tablespoon', '200', 'grams', 'Paneer', 'Homemade', 'Cottage', 'Cheese', '1/4', 'Hung', 'Curd', 'Greek', 'Yogurt', 'inch', 'Ginger', '4', 'cloves', 'Garlic', 'Kasuri', 'Methi', 'Dried', 'Fenugreek', 'Leaves', '1/2', 'teaspoon', 'Turmeric', 'powder', 'Chaat', 'Masala', 'Powder', 'Garam', 'masala', 'Mint', 'Pudina', 'Coal', 'Onion', 'Lemon', 'juice'], ['1/2', 'cup', 'Coriander', 'Dhania', 'Leaves', 'chopped', '4', 'Green', 'Chillies', '1', 'inch', 'Ginger', 'Salt', 'Lemon', 'juice', 'extracted', '2', 'cups', 'Kabuli', 'Chana', 'White', 'Chickpeas', 'soaked', 'overnight', 'tablespoon', 'Ghee', 'Onion', 'finely', '3', 'cloves', 'Garlic', 'Cinnamon', 'Stick', 'Dalchini', 'Bay', 'leaf', 'tej', 'patta', 'Brown', 'cardamom', 'Badi', 'Elaichi', 'teaspoon', 'Black', 'Kala', 'Namak', '1/4', 'Garam', 'masala', 'powder', 'Powder'], ['300', 'grams', 'Tofu', 'crumbled', '1', 'Onion', 'chopped', 'Red', 'Bell', 'pepper', 'Capsicum', 'Tomato', 'Green', 'Chilli', 'teaspoon', 'Cumin', 'seeds', 'Jeera', '2', 'powder', 'Black', 'Turmeric', 'Haldi', '4', 'sprig', 'Coriander', 'Dhania', 'Leaves', 'Salt', 'Sunflower', 'Oil'], ['500', 'grams', 'Baby', 'Potatoes', '2', 'Dry', 'Red', 'Chillies', 'teaspoons', 'Sesame', 'seeds', '1', 'teaspoon', 'Cumin', 'Fennel', '1/4', 'Asafoetida', 'hing', '1/2', 'Turmeric', 'powder', 'Kashmiri', 'Chilli', 'Powder', 'tablespoons', 'flakes', 'Amchur', 'Mango', 'Coriander', 'Dhania', 'Leaves', 'finely', 'chopped', 'tablespoon', 'Sunflower', 'Oil', 'Salt'], ['1', 'cup', 'rice', '2', 'tablespoons', 'ghee', 'teaspoon', 'cumin', 'seeds', 'bay', 'leaf', 'lentil', 'sugar', '3', 'long', 'green', 'chillies', 'tablespoon', 'ginger', 'garlic', 'paste', 'onions', 'tomatoes', '1/2', 'capsicum', 'red', 'chilli', 'powder', 'turmeric', 'coriander', 'garam', 'masala', 'tofu', 'cut', 'salt', 'garnish']]\n",
            "\n",
            "First 10 pos_tokens sequences:\n",
            "[['quantity', 'unit', 'ingredient', 'ingredient', 'ingredient', 'quantity', 'unit', 'ingredient', 'ingredient', 'ingredient', 'quantity', 'ingredient', 'ingredient', 'ingredient', 'quantity', 'unit', 'ingredient', 'ingredient', 'ingredient', 'ingredient', 'ingredient', 'ingredient', 'ingredient', 'ingredient', 'ingredient', 'ingredient', 'ingredient', 'ingredient', 'ingredient', 'ingredient', 'ingredient', 'ingredient', 'ingredient', 'ingredient', 'ingredient', 'ingredient', 'ingredient', 'quantity', 'unit', 'ingredient', 'ingredient'], ['quantity', 'ingredient', 'quantity', 'unit', 'ingredient', 'ingredient', 'ingredient', 'ingredient', 'ingredient', 'unit', 'ingredient', 'ingredient', 'ingredient', 'ingredient', 'ingredient', 'unit', 'ingredient', 'ingredient', 'ingredient', 'ingredient', 'unit', 'ingredient'], ['quantity', 'ingredient', 'quantity', 'unit', 'ingredient', 'ingredient', 'unit', 'ingredient', 'ingredient', 'ingredient', 'ingredient', 'ingredient', 'ingredient', 'quantity', 'ingredient', 'ingredient', 'ingredient', 'quantity', 'ingredient', 'unit', 'ingredient', 'ingredient', 'unit', 'ingredient', 'ingredient'], ['quantity', 'unit', 'ingredient', 'ingredient', 'ingredient', 'ingredient', 'ingredient', 'ingredient', 'ingredient', 'quantity', 'quantity', 'ingredient', 'ingredient', 'ingredient', 'ingredient', 'ingredient', 'ingredient', 'unit', 'ingredient', 'ingredient', 'ingredient', 'ingredient', 'ingredient', 'ingredient', 'ingredient', 'ingredient'], ['quantity', 'ingredient', 'quantity', 'unit', 'ingredient', 'ingredient', 'unit', 'ingredient', 'ingredient', 'ingredient', 'ingredient', 'ingredient', 'ingredient', 'ingredient', 'quantity', 'ingredient', 'ingredient', 'ingredient', 'ingredient', 'ingredient', 'quantity', 'ingredient', 'ingredient', 'ingredient', 'ingredient', 'ingredient', 'ingredient', 'quantity', 'ingredient', 'ingredient', 'ingredient'], ['quantity', 'unit', 'ingredient', 'ingredient', 'ingredient', 'ingredient', 'ingredient', 'quantity', 'unit', 'quantity', 'unit', 'ingredient', 'ingredient', 'ingredient', 'ingredient', 'quantity', 'ingredient', 'ingredient', 'ingredient', 'ingredient', 'unit', 'ingredient', 'quantity', 'unit', 'ingredient', 'ingredient', 'ingredient', 'ingredient', 'ingredient', 'ingredient', 'quantity', 'unit', 'ingredient', 'ingredient', 'ingredient', 'ingredient', 'ingredient', 'ingredient', 'ingredient', 'ingredient', 'ingredient', 'ingredient', 'ingredient', 'ingredient', 'ingredient'], ['quantity', 'unit', 'ingredient', 'ingredient', 'ingredient', 'ingredient', 'quantity', 'ingredient', 'ingredient', 'quantity', 'unit', 'ingredient', 'ingredient', 'ingredient', 'ingredient', 'ingredient', 'quantity', 'unit', 'ingredient', 'ingredient', 'ingredient', 'ingredient', 'ingredient', 'ingredient', 'unit', 'ingredient', 'ingredient', 'ingredient', 'quantity', 'unit', 'ingredient', 'ingredient', 'ingredient', 'ingredient', 'ingredient', 'ingredient', 'ingredient', 'ingredient', 'ingredient', 'ingredient', 'ingredient', 'ingredient', 'unit', 'ingredient', 'ingredient', 'ingredient', 'quantity', 'ingredient', 'ingredient', 'ingredient', 'ingredient'], ['quantity', 'unit', 'ingredient', 'ingredient', 'quantity', 'ingredient', 'ingredient', 'ingredient', 'ingredient', 'ingredient', 'ingredient', 'ingredient', 'ingredient', 'ingredient', 'unit', 'ingredient', 'ingredient', 'ingredient', 'quantity', 'ingredient', 'ingredient', 'ingredient', 'ingredient', 'quantity', 'unit', 'ingredient', 'ingredient', 'ingredient', 'ingredient', 'ingredient', 'ingredient'], ['quantity', 'unit', 'ingredient', 'ingredient', 'quantity', 'ingredient', 'ingredient', 'ingredient', 'unit', 'ingredient', 'ingredient', 'quantity', 'unit', 'ingredient', 'ingredient', 'quantity', 'ingredient', 'ingredient', 'quantity', 'ingredient', 'ingredient', 'ingredient', 'ingredient', 'ingredient', 'unit', 'ingredient', 'ingredient', 'ingredient', 'ingredient', 'ingredient', 'ingredient', 'ingredient', 'ingredient', 'unit', 'ingredient', 'ingredient', 'ingredient'], ['quantity', 'unit', 'ingredient', 'quantity', 'unit', 'ingredient', 'unit', 'ingredient', 'ingredient', 'ingredient', 'ingredient', 'ingredient', 'ingredient', 'quantity', 'ingredient', 'ingredient', 'ingredient', 'unit', 'ingredient', 'ingredient', 'ingredient', 'ingredient', 'ingredient', 'quantity', 'ingredient', 'ingredient', 'ingredient', 'ingredient', 'ingredient', 'ingredient', 'ingredient', 'ingredient', 'ingredient', 'ingredient', 'ingredient', 'ingredient']]\n",
            "Dataset: Validation\n",
            "\n",
            "All sequences have matching input and pos token lengths.\n",
            "First 10 input_tokens sequences:\n",
            "[['1', 'cup', 'rice', '12', 'small', 'onions', '2', 'cloves', 'garlic', 'inch', 'ginger', 'green', 'chillies', 'bay', 'leaf', 'tsp', 'red', 'chilli', 'powder', 'turmeric', 'carrot', 'beans', 'potatoes', 'ghee', 'cinnamon', 'fennel', 'whole', 'pepper', 'coriander', 'seeds', '1/4', 'peas', 'mint', 'leaves'], ['2', 'Burger', 'buns', '5', 'Pickled', 'Jalapenos', 'sliced', 'Cheese', 'Slices', 'Potatoes', 'Aloo', 'pressure', 'cooked', '1', 'Onion', 'chopped', 'tablespoon', 'Red', 'Chilli', 'powder', 'Salt', 'Whole', 'Egg', '1/2', 'cup', 'Wheat', 'Bread', 'crumbs', '4', 'cloves', 'Garlic', 'Onions', 'Tomatoes', 'Homemade', 'tomato', 'puree', 'Green', 'Bell', 'Pepper', 'Capsicum', 'Soy', 'granules', 'teaspoon', 'flakes', 'Cumin', 'Jeera', 'Dried', 'oregano', 'Tabasco', 'Original', 'Hot', 'Sauce', 'Honey', 'Sunflower', 'Oil'], ['1/4', 'cup', 'Rice', 'Yellow', 'Moong', 'Dal', '1', 'Carrot', 'Gajjar', '3', 'Green', 'beans', 'French', 'Beans', 'teaspoon', 'Ghee', 'Cumin', 'seeds', 'Asafoetida', 'hing', 'Salt', 'a', 'pinch'], ['4', 'Potatoes', 'Aloo', '50', 'grams', 'Mozzarella', 'cheese', '1', 'teaspoon', 'Mustard', 'seeds', 'inch', 'Ginger', 'grated', 'Onion', 'finely', 'chopped', '2', 'Green', 'Chillies', '1/4', 'Asafoetida', 'hing', '1/2', 'Turmeric', 'powder', 'Haldi', 'Coriander', 'Dhania', 'Leaves', 'small', 'bunch', 'Sunflower', 'Oil', 'cup', 'Gram', 'flour', 'besan', 'Salt'], ['1', 'cup', 'rice', '2', 'water', 'tsp', 'ghee', 'cardamom', 'long', 'star', 'anise', '1/2', 'inch', 'cinnamon', 'whole', 'black', 'pepper', 'bay', 'leaf', '1/4', 'onion', 'sprig', 'green', 'coriander', 'mint', '200', 'grams', 'cottage', 'cheese', 'tomatoes', 'tablespoons', 'cream', 'ginger', '3', 'cloves', 'garlic', 'chili', 'powder', 'cumin', 'garam', 'masala', 'red', 'chilli', 'kasoori', 'methi', 'honey', 'tbsp', 'cashews'], ['500', 'grams', 'Hakka', 'Noodles', '1/2', 'teaspoon', 'Salt', '1', 'tablespoon', 'Sunflower', 'Oil', 'Onion', 'Green', 'Bell', 'Pepper', 'Capsicum', '15', 'cloves', 'Garlic', 'Soy', 'sauce', 'Red', 'Chilli', 'White', 'vinegar', 'Tomato', 'Ketchup', '3', 'Dry', 'Chillies', 'crushed', 'Black', 'pepper', 'powder'], ['2', 'Mango', 'Ripe', '1', 'cup', 'Sugar', 'teaspoon', 'Saffron', 'strands', '1/4', 'Cinnamon', 'Powder', 'Dalchini'], ['500', 'grams', 'Baby', 'Potatoes', '1/2', 'teaspoon', 'Cumin', 'powder', 'Jeera', 'Black', 'pepper', 'Garam', 'masala', '2', 'teaspoons', 'Lemon', 'juice', 'Sesame', 'seeds', 'Til', '1', 'tablespoon', 'Ghee', 'or', 'clarified', 'butter', 'Rock', 'Salt', 'cup', 'Coriander', 'Dhania', 'Leaves', 'roughly', 'chopped', 'inch', 'Ginger', 'Green', 'Chilli'], ['3', 'Potatoes', 'Aloo', '2', 'Green', 'zucchini', '1', 'tablespoon', 'Red', 'Chilli', 'flakes', 'Dried', 'oregano', 'Thyme', 'Leaves', 'Black', 'pepper', 'powder', '1/4', 'cup', 'Cheddar', 'cheese', 'grated', '1/2', 'Whole', 'Wheat', 'Bread', 'crumbs', 'Salt'], ['1', 'cup', 'Basil', 'leaves', '1/2', 'Mint', 'Leaves', 'Pudina', 'tablespoon', 'Spirulina', 'Badam', 'Almond', 'blanched', '4', 'cloves', 'Garlic', 'Tofu', 'teaspoon', 'Black', 'pepper', 'powder', '2', 'Salt', '1/4', 'Extra', 'Virgin', 'Olive', 'Oil', 'Pasta', 'chopped', 'Green', 'zucchini', 'diced', 'Yellow', 'Bell', 'Pepper', 'Capsicum', 'Tomato', 'Red', 'Chilli', 'flakes', 'Dried', 'oregano']]\n",
            "\n",
            "First 10 pos_tokens sequences:\n",
            "[['quantity', 'unit', 'ingredient', 'quantity', 'unit', 'ingredient', 'quantity', 'ingredient', 'ingredient', 'unit', 'ingredient', 'unit', 'ingredient', 'ingredient', 'ingredient', 'unit', 'ingredient', 'ingredient', 'ingredient', 'ingredient', 'ingredient', 'ingredient', 'ingredient', 'ingredient', 'ingredient', 'ingredient', 'ingredient', 'ingredient', 'ingredient', 'ingredient', 'quantity', 'ingredient', 'ingredient', 'ingredient'], ['quantity', 'ingredient', 'ingredient', 'quantity', 'ingredient', 'ingredient', 'ingredient', 'ingredient', 'ingredient', 'ingredient', 'ingredient', 'ingredient', 'ingredient', 'quantity', 'ingredient', 'ingredient', 'unit', 'ingredient', 'ingredient', 'ingredient', 'ingredient', 'ingredient', 'ingredient', 'quantity', 'unit', 'ingredient', 'ingredient', 'ingredient', 'quantity', 'unit', 'ingredient', 'ingredient', 'ingredient', 'ingredient', 'ingredient', 'ingredient', 'ingredient', 'ingredient', 'ingredient', 'ingredient', 'ingredient', 'ingredient', 'unit', 'ingredient', 'ingredient', 'ingredient', 'ingredient', 'ingredient', 'ingredient', 'ingredient', 'ingredient', 'ingredient', 'ingredient', 'ingredient', 'ingredient'], ['quantity', 'unit', 'ingredient', 'ingredient', 'ingredient', 'ingredient', 'quantity', 'ingredient', 'ingredient', 'quantity', 'ingredient', 'ingredient', 'ingredient', 'ingredient', 'unit', 'ingredient', 'ingredient', 'ingredient', 'ingredient', 'ingredient', 'ingredient', 'quantity', 'unit'], ['quantity', 'ingredient', 'ingredient', 'quantity', 'unit', 'ingredient', 'ingredient', 'quantity', 'unit', 'ingredient', 'ingredient', 'unit', 'ingredient', 'ingredient', 'ingredient', 'ingredient', 'ingredient', 'quantity', 'ingredient', 'ingredient', 'quantity', 'ingredient', 'ingredient', 'quantity', 'ingredient', 'ingredient', 'ingredient', 'ingredient', 'ingredient', 'ingredient', 'ingredient', 'ingredient', 'ingredient', 'ingredient', 'unit', 'ingredient', 'ingredient', 'ingredient', 'ingredient'], ['quantity', 'unit', 'ingredient', 'quantity', 'ingredient', 'unit', 'ingredient', 'ingredient', 'ingredient', 'ingredient', 'ingredient', 'quantity', 'unit', 'ingredient', 'ingredient', 'ingredient', 'ingredient', 'ingredient', 'ingredient', 'quantity', 'ingredient', 'unit', 'ingredient', 'ingredient', 'ingredient', 'quantity', 'unit', 'ingredient', 'ingredient', 'ingredient', 'unit', 'ingredient', 'ingredient', 'quantity', 'ingredient', 'ingredient', 'ingredient', 'ingredient', 'ingredient', 'ingredient', 'ingredient', 'ingredient', 'ingredient', 'ingredient', 'ingredient', 'ingredient', 'unit', 'ingredient'], ['quantity', 'unit', 'ingredient', 'ingredient', 'quantity', 'unit', 'ingredient', 'quantity', 'unit', 'ingredient', 'ingredient', 'ingredient', 'ingredient', 'ingredient', 'ingredient', 'ingredient', 'quantity', 'unit', 'ingredient', 'ingredient', 'ingredient', 'ingredient', 'ingredient', 'ingredient', 'ingredient', 'ingredient', 'ingredient', 'quantity', 'ingredient', 'ingredient', 'ingredient', 'ingredient', 'ingredient', 'ingredient'], ['quantity', 'ingredient', 'ingredient', 'quantity', 'unit', 'ingredient', 'unit', 'ingredient', 'ingredient', 'quantity', 'ingredient', 'ingredient', 'ingredient'], ['quantity', 'unit', 'ingredient', 'ingredient', 'quantity', 'unit', 'ingredient', 'ingredient', 'ingredient', 'ingredient', 'ingredient', 'ingredient', 'ingredient', 'quantity', 'unit', 'ingredient', 'ingredient', 'ingredient', 'ingredient', 'ingredient', 'quantity', 'unit', 'ingredient', 'ingredient', 'ingredient', 'ingredient', 'ingredient', 'ingredient', 'unit', 'ingredient', 'ingredient', 'ingredient', 'ingredient', 'ingredient', 'unit', 'ingredient', 'ingredient', 'ingredient'], ['quantity', 'ingredient', 'ingredient', 'quantity', 'ingredient', 'ingredient', 'quantity', 'unit', 'ingredient', 'ingredient', 'ingredient', 'ingredient', 'ingredient', 'ingredient', 'ingredient', 'ingredient', 'ingredient', 'ingredient', 'quantity', 'unit', 'ingredient', 'ingredient', 'ingredient', 'quantity', 'ingredient', 'ingredient', 'ingredient', 'ingredient', 'ingredient'], ['quantity', 'unit', 'ingredient', 'ingredient', 'quantity', 'ingredient', 'ingredient', 'ingredient', 'unit', 'ingredient', 'ingredient', 'ingredient', 'ingredient', 'quantity', 'unit', 'ingredient', 'ingredient', 'unit', 'ingredient', 'ingredient', 'ingredient', 'quantity', 'ingredient', 'quantity', 'ingredient', 'ingredient', 'ingredient', 'ingredient', 'ingredient', 'ingredient', 'ingredient', 'ingredient', 'ingredient', 'ingredient', 'ingredient', 'ingredient', 'ingredient', 'ingredient', 'ingredient', 'ingredient', 'ingredient', 'ingredient', 'ingredient']]\n"
          ]
        }
      ]
    },
    {
      "cell_type": "code",
      "source": [],
      "metadata": {
        "id": "bubz3mPaQFFP"
      },
      "execution_count": 33,
      "outputs": []
    },
    {
      "cell_type": "markdown",
      "source": [
        "#### **4.3** *Categorise tokens into labels (unit, ingredient, quantity)* <font color = red>[2 marks]</font> <br>\n",
        "\n",
        "Define a function ***categorize_tokens*** to categorise tokens into ingredients, units and quantities by using extracted tokens in the previous code and return a list of ingredients, units and quantities. Execute this function to get the list.\n",
        "\n"
      ],
      "metadata": {
        "id": "htZVn5wcQSok"
      }
    },
    {
      "cell_type": "code",
      "source": [
        "# define a categorize_tokens function and provide the tokens and pos_tags as parameters and create ingredient, unit and quantity list and return it\n",
        "# validate the list that it comprised of these labels, if not return empty arrays\n",
        "\n",
        "def categorize_tokens(tokens, pos_tags):\n",
        "    allowed_labels = {'ingredient', 'unit', 'quantity'}\n",
        "\n",
        "    for pos in pos_tags:\n",
        "        if pos not in allowed_labels:\n",
        "            return [], [], []\n",
        "\n",
        "    ingredients = []\n",
        "    units = []\n",
        "    quantities = []\n",
        "\n",
        "    for token, pos in zip(tokens, pos_tags):\n",
        "        if pos == 'ingredient':\n",
        "            ingredients.append(token)\n",
        "        elif pos == 'unit':\n",
        "            units.append(token)\n",
        "        elif pos == 'quantity':\n",
        "            quantities.append(token)\n",
        "\n",
        "    return ingredients, units, quantities\n",
        "\n"
      ],
      "metadata": {
        "id": "7xq0a4L7Quct"
      },
      "execution_count": 34,
      "outputs": []
    },
    {
      "cell_type": "code",
      "source": [
        "all_train_tokens = flatten_list(X_train)\n",
        "all_train_pos_tags = flatten_list(y_train)\n"
      ],
      "metadata": {
        "id": "0m5IHbTHQh7H"
      },
      "execution_count": 35,
      "outputs": []
    },
    {
      "cell_type": "code",
      "source": [
        "#  call the function to categorise the labels into respective list\n",
        "\n",
        "ingredients, units, quantities = categorize_tokens(all_train_tokens, all_train_pos_tags)\n",
        "\n",
        "print(\"Ingredients:\", ingredients)\n",
        "print(\"Units:\", units)\n",
        "print(\"Quantities:\", quantities)\n"
      ],
      "metadata": {
        "id": "evcsigvUL7bM",
        "colab": {
          "base_uri": "https://localhost:8080/"
        },
        "outputId": "2f0681bd-0add-4648-c748-7797ca35223d"
      },
      "execution_count": 36,
      "outputs": [
        {
          "output_type": "stream",
          "name": "stdout",
          "text": [
            "Ingredients: ['Gram', 'flour', 'besan', 'Ajwain', 'Carom', 'seeds', 'Red', 'Chilli', 'powder', 'Curd', 'Dahi', 'Yogurt', 'Sunflower', 'Oil', 'Green', 'Bell', 'Pepper', 'Capsicum', 'Cumin', 'Asafoetida', 'hing', 'Turmeric', 'Garam', 'masala', 'Amchur', 'Dry', 'Mango', 'Powder', 'Coriander', 'Dhania', 'Leaves', 'chopped', 'eggplant', 'ginger', 'onion', 'tomato', 'green', 'chillies', 'turmeric', 'powder', 'garam', 'masala', 'coriander', 'butter', 'red', 'chili', 'oil', 'of', 'onions', 'cumin', 'seeds', 'black', 'urad', 'dal', 'split', 'tamarind', 'paste', 'dry', 'red', 'chillies', 'jaggery', 'oil', 'salt', 'curry', 'leaves', 'Makki', 'Ka', 'Atta', 'Yellow', 'Corn', 'Meal', 'Flour', 'Methi', 'Leaves', 'Fenugreek', 'chopped', 'Green', 'Chillies', 'Ajwain', 'Carom', 'seeds', 'Kashmiri', 'Red', 'Chilli', 'Powder', 'Salt', 'prawns', 'soy', 'sauce', 'sesame', 'gingelly', 'oil', 'cloves', 'garlic', 'finely', 'chopped', 'green', 'chillies', 'coriander', 'dhania', 'leaves', 'whole', 'black', 'peppercorns', 'crushed', 'sunflower', 'salt', 'drops', 'lemon', 'juice', 'Whole', 'Wheat', 'Flour', 'Salt', 'Ghee', 'Paneer', 'Homemade', 'Cottage', 'Cheese', 'Hung', 'Curd', 'Greek', 'Yogurt', 'Ginger', 'Garlic', 'Kasuri', 'Methi', 'Dried', 'Fenugreek', 'Leaves', 'Turmeric', 'powder', 'Chaat', 'Masala', 'Powder', 'Garam', 'masala', 'Mint', 'Pudina', 'Coal', 'Onion', 'Lemon', 'juice', 'Coriander', 'Dhania', 'Leaves', 'chopped', 'Green', 'Chillies', 'Ginger', 'Salt', 'Lemon', 'juice', 'extracted', 'Kabuli', 'Chana', 'White', 'Chickpeas', 'soaked', 'overnight', 'Ghee', 'Onion', 'finely', 'Garlic', 'Cinnamon', 'Stick', 'Dalchini', 'Bay', 'leaf', 'tej', 'patta', 'Brown', 'cardamom', 'Badi', 'Elaichi', 'Black', 'Kala', 'Namak', 'Garam', 'masala', 'powder', 'Powder', 'Tofu', 'crumbled', 'Onion', 'chopped', 'Red', 'Bell', 'pepper', 'Capsicum', 'Tomato', 'Green', 'Chilli', 'Cumin', 'seeds', 'Jeera', 'powder', 'Black', 'Turmeric', 'Haldi', 'Coriander', 'Dhania', 'Leaves', 'Salt', 'Sunflower', 'Oil', 'Baby', 'Potatoes', 'Dry', 'Red', 'Chillies', 'Sesame', 'seeds', 'Cumin', 'Fennel', 'Asafoetida', 'hing', 'Turmeric', 'powder', 'Kashmiri', 'Chilli', 'Powder', 'flakes', 'Amchur', 'Mango', 'Coriander', 'Dhania', 'Leaves', 'finely', 'chopped', 'Sunflower', 'Oil', 'Salt', 'rice', 'ghee', 'cumin', 'seeds', 'bay', 'leaf', 'lentil', 'sugar', 'long', 'green', 'chillies', 'ginger', 'garlic', 'paste', 'onions', 'tomatoes', 'capsicum', 'red', 'chilli', 'powder', 'turmeric', 'coriander', 'garam', 'masala', 'tofu', 'cut', 'salt', 'garnish', 'Sooji', 'Semolina', 'Rava', 'Curd', 'Dahi', 'Yogurt', 'Onion', 'powder', 'finely', 'chopped', 'Green', 'Bell', 'Pepper', 'Capsicum', 'Coriander', 'Dhania', 'Leaves', 'Chilli', 'Black', 'pepper', 'Salt', 'Sunflower', 'Oil', 'Bhindi', 'Lady', 'Finger', 'Okra', 'Onion', 'finely', 'chopped', 'Ginger', 'grated', 'Curd', 'Dahi', 'Yogurt', 'Gram', 'flour', 'besan', 'Garam', 'masala', 'powder', 'Turmeric', 'Haldi', 'Red', 'Chilli', 'Salt', 'Caramelized', 'onions', 'Sunflower', 'Oil', 'Ghee', 'Cumin', 'seeds', 'Jeera', 'Dry', 'Chillies', 'Coriander', 'Dhania', 'Leaves', 'small', 'bunch', 'Broken', 'Wheat', 'Dalia', 'Godumai', 'Rava', 'Salt', 'Sunflower', 'Oil', 'Gram', 'flour', 'besan', 'Onion', 'finely', 'chopped', 'Coriander', 'Dhania', 'Leaves', 'Green', 'Chilli', 'Turmeric', 'powder', 'Haldi', 'Cumin', 'seeds', 'Jeera', 'Ajwain', 'Carom', 'Water', 'Enos', 'fruit', 'salt', 'Vivatta', 'Maida', 'Sugar', 'Butter', 'unsalted', 'Milk', 'Powder', 'Baking', 'powder', 'Vanilla', 'Extract', 'Pheni', 'roll', 'Milk', 'Sugar', 'Ghee', 'Cashew', 'nuts', 'Raisins', 'Almond', 'Meal', 'Badam', 'Powder', 'Cabbage', 'Patta', 'Gobi', 'Muttaikose', 'Spinach', 'Fresh', 'Pomegranate', 'Fruit', 'Kernels', 'Lemon', 'juice', 'Extra', 'Virgin', 'Olive', 'Oil', 'Salt', 'and', 'Pepper', 'Karela', 'Bitter', 'Gourd', 'Pavakkai', 'sliced', 'into', 'rounds', 'Coriander', 'Powder', 'Dhania', 'Red', 'Chilli', 'powder', 'Asafoetida', 'hing', 'Gram', 'flour', 'besan', 'Black', 'Salt', 'Kala', 'Namak', 'Sunflower', 'Oil', 'Hung', 'Curd', 'Greek', 'Yogurt', 'Chaat', 'Masala', 'Sweet', 'Chutney', 'Date', 'Tamarind', 'Sev', 'Aloo', 'Bhujia', 'Dates', 'Leaves', 'small', 'bunch', 'Raw', 'Peanuts', 'Moongphali', 'Gram', 'flour', 'besan', 'Rice', 'Red', 'Chilli', 'powder', 'Coriander', 'Powder', 'Dhania', 'Chaat', 'Masala', 'Water', 'Black', 'pepper', 'Sunflower', 'Oil', 'Salt', 'to', 'fry', 'oil', 'cumin', 'seeds', 'garlic', 'grated', 'onions', 'finely', 'chopped', 'red', 'chilli', 'powder', 'turmeric', 'coconut', 'milk', 'vegetable', 'Stock', 'Dijon', 'Mustard', 'carrots', 'cut', 'round', 'thinly', 'green', 'beans', 'into', 'small', 'pieces', 'peas', 'steam', 'potatoes', 'boiled', 'salt', 'chana', 'dal', 'white', 'urad', 'red', 'chillies', 'coriander', 'seeds', 'ginger', 'onion', 'tomato', 'mustard', 'asafoetida', 'curry', 'raw', 'banana', 'chopped', 'suran', 'black', 'gram', 'turmeric', 'powder', 'red', 'chili', 'cumin', 'seeds', 'coconut', 'grated', 'whole', 'pepper', 'garlic', 'green', 'oil', 'mustard', 'Paneer', 'Homemade', 'Cottage', 'Cheese', 'Potato', 'Aloo', 'Bay', 'leaf', 'tej', 'patta', 'Dry', 'Red', 'Chilli', 'Panch', 'Phoran', 'Masala', 'roasted', 'and', 'powdered', 'Tomato', 'big', 'sized', 'Turmeric', 'powder', 'Haldi', 'Cumin', 'seeds', 'Jeera', 'Ginger', 'grated', 'Salt', 'Sugar', 'Sunflower', 'Oil', 'bay', 'leaves', 'coriander', 'seeds', 'whole', 'pepper', 'celery', 'cumin', 'cardamom', 'large', 'mace', 'stone', 'flowers', 'star', 'anis', 'small', 'Nutmeg', 'Powder', 'Cinnamon', 'Long', 'tomatoes', 'curry', 'leaves', 'green', 'chillies', 'turmeric', 'powder', 'coriander', 'salt', 'rock', 'sugar', 'Elephant', 'yam', 'Suran', 'Senai', 'Ratalu', 'Onion', 'Green', 'Chillies', 'Ginger', 'Garlic', 'Curry', 'leaves', 'Cumin', 'seeds', 'Jeera', 'Turmeric', 'powder', 'Haldi', 'Coriander', 'Powder', 'Dhania', 'Red', 'Chilli', 'Black', 'pepper', 'Garam', 'masala', 'Salt', 'Sunflower', 'Oil', 'Moth', 'Sprouts', 'Matki', 'White', 'Urad', 'Dal', 'Split', 'Green', 'Chillies', 'Fennel', 'seeds', 'Saunf', 'Ginger', 'Spinach', 'Leaves', 'Palak', 'Turmeric', 'powder', 'Haldi', 'Sunflower', 'Oil', 'Carrots', 'Gajjar', 'Cabbage', 'Patta', 'Gobi', 'Muttaikose', 'Green', 'Bell', 'Pepper', 'Capsicum', 'Turmeric', 'powder', 'Haldi', 'Sugar', 'Lemon', 'juice', 'Salt', 'Sunflower', 'Oil', 'Mustard', 'seeds', 'Asafoetida', 'hing', 'Curry', 'leaves', 'Chillies', 'slit', 'lengthwise', 'lentil', 'water', 'long', 'whole', 'black', 'peppers', 'cumin', 'mustard', 'bay', 'leaf', 'curry', 'leaves', 'Jaggery', 'grated', 'tamarind', 'paste', 'goda', 'masala', 'oil', 'coriander', 'salt', 'green', 'peas', 'cheese', 'ginger', 'chili', 'turmeric', 'powder', 'red', 'mango', 'coriander', 'wheat', 'flour', 'water', 'lukewarm', 'Whole', 'Wheat', 'Flour', 'All', 'Purpose', 'Maida', 'Ajwain', 'Carom', 'seeds', 'Cumin', 'Jeera', 'Ghee', 'Salt', 'Chana', 'dal', 'Bengal', 'Gram', 'Dal', 'Turmeric', 'powder', 'Haldi', 'Garam', 'masala', 'Red', 'Chilli', 'Amchur', 'Dry', 'Mango', 'Powder', 'Sugar', 'Asafoetida', 'hing', 'Green', 'Chillies', 'slit', 'Curry', 'leaves', 'Sweet', 'Chutney', 'Date', 'Tamarind', 'Coriander', 'Mint', 'Onion', 'finely', 'chopped', 'Fresh', 'Pomegranate', 'Fruit', 'Kernels', 'Sev', 'Cooked', 'rice', 'Coriander', 'Dhania', 'Leaves', 'Whole', 'Black', 'Peppercorns', 'crushed', 'Lemon', 'juice', 'Rajma', 'Large', 'Kidney', 'Beans', 'Homemade', 'tomato', 'puree', 'Onion', 'chopped', 'Garlic', 'Cumin', 'seeds', 'Jeera', 'roasted', 'Chipotle', 'Chillies', 'Peppers', 'Sunflower', 'Oil', 'Red', 'Bell', 'pepper', 'Capsicum', 'sliced', 'Green', 'Pepper', 'Yellow', 'Dried', 'oregano', 'Chilli', 'flakes', 'Extra', 'Virgin', 'Olive', 'Del', 'Monte', 'Corn', 'Kernels', 'fire', 'Tomato', 'Cheddar', 'cheese', 'Lettuce', 'leaves', 'shredded', 'olives', 'Guacamole', 'recipes', 'All', 'Purpose', 'Flour', 'Maida', 'Ghee', 'melted', 'Ajwain', 'Carom', 'seeds', 'Green', 'Peas', 'Matar', 'Sweet', 'corn', 'Chillies', 'finely', 'chopped', 'Ginger', 'grated', 'Fennel', 'Saunf', 'Garam', 'masala', 'powder', 'Chaat', 'Masala', 'Powder', 'Coriander', 'Dhania', 'Leaves', 'small', 'bunch', 'raw', 'mango', 'tamarind', 'water', 'jaggery', 'sambar', 'powder', 'turmeric', 'salt', 'mustard', 'asafoetida', 'Curry', 'leaves', 'dry', 'red', 'chillies', 'oil', 'Potatoes', 'Aloo', 'Fennel', 'seeds', 'Saunf', 'Red', 'Chilli', 'powder', 'Turmeric', 'Haldi', 'Fresh', 'cream', 'or', 'Coriander', 'Dhania', 'Leaves', 'Whole', 'Wheat', 'Brown', 'Bread', 'Green', 'zucchini', 'Carrot', 'Gajjar', 'Red', 'Bell', 'pepper', 'Capsicum', 'Spinach', 'Leaves', 'Palak', 'Button', 'mushrooms', 'Onion', 'Garlic', 'Extra', 'Virgin', 'Olive', 'Oil', 'Dijon', 'Mustard', 'Fresh', 'Thyme', 'leaves', 'Black', 'powder', 'crushed', 'or', 'red', 'chilli', 'flakes', 'Milk', 'Eggs', 'lightly', 'whisked', 'Cheddar', 'cheese', 'grated', 'and', 'for', 'topping', 'Butter', 'greasing', 'the', 'baking', 'dish', 'Salt', 'Potato', 'Aloo', 'Green', 'Chilli', 'Spaghetti', 'Pasta', 'Ginger', 'Coriander', 'Dhania', 'Leaves', 'Fried', 'Bread', 'Cubes', 'Croutons', 'Extra', 'Virgin', 'Olive', 'Oil', 'Salt', 'and', 'Pepper', 'Idli', 'Green', 'Bell', 'Pepper', 'Capsicum', 'Tomato', 'Chillies', 'Red', 'Chilli', 'powder', 'Turmeric', 'Ketchup', 'Sunflower', 'Oil', 'Salt', 'All', 'Purpose', 'Flour', 'Maida', 'Sugar', 'Dark', 'chocolate', 'Cocoa', 'Powder', 'Salted', 'butter', 'Milk', 'Baking', 'powder', 'soda', 'Vanilla', 'Extract', 'Britannia', 'Cream', 'Cheese', 'Caster', 'Fresh', 'raspberries', 'Gawar', 'Phali', 'Ajwain', 'SSP', 'Asafoetida', 'Onion', 'Tomatoes', 'Garlic', 'Ginger', 'Turmeric', 'Red', 'Chilli', 'Coriander', 'Powder', 'Jaggery', 'Raw', 'Peanuts', 'Salt', 'Water', 'Mustard', 'oil', 'Leaves', 'Vellai', 'Poosanikai', 'Turmeric', 'powder', 'Salt', 'Sunflower', 'Oil', 'Dry', 'Red', 'Chillies', 'Fresh', 'coconut', 'grated', 'Tamarind', 'Water', 'Methi', 'Seeds', 'Cumin', 'seeds', 'Coriander', 'Dhania', 'Sesame', 'Jaggery', 'Mustard', 'Curry', 'leaves', 'Water', 'Tea', 'leaves', 'Milk', 'Saffron', 'strands', 'Curd', 'Vada', 'Papdi', 'puris', 'Sweet', 'Chutney', 'Date', 'Tamarind', 'Green', 'Coriander', 'Mint', 'Onions', 'finely', 'chopped', 'Carrot', 'Gajjar', 'grated', 'Anardana', 'Powder', 'Pomegranate', 'Seed', 'Raw', 'Peanuts', 'Moongphali', 'roasted', 'and', 'halved', 'Boondi', 'or', 'sev', 'Dhania', 'Leaves', 'Bajra', 'Flour', 'Whole', 'Wheat', 'Turmeric', 'powder', 'Black', 'pepper', 'Ginger', 'grated', 'Green', 'Chilli', 'Coriander', 'Leaves', 'Sunflower', 'Oil', 'cheese', 'spinach', 'green', 'chillies', 'onion', 'tomato', 'garlic', 'cumin', 'red', 'chilli', 'powder', 'garam', 'masala', 'mango', 'butter', 'salt', 'oil', 'Jackfruit', 'Raw', 'Kathal', 'Onion', 'sliced', 'Garlic', 'chopped', 'Ginger', 'Cumin', 'powder', 'Jeera', 'Black', 'pepper', 'Cinnamon', 'Powder', 'Dalchini', 'Paprika', 'Turmeric', 'Haldi', 'Rajma', 'Large', 'Kidney', 'Beans', 'soaked', 'boiled', 'Tomato', 'Red', 'Chilli', 'Sugar', 'Cooked', 'rice', 'Dried', 'Thyme', 'Leaves', 'Bell', 'Capsicum', 'Yellow', 'Pepper', 'Green', 'Sour', 'cream', 'Salsa', 'Tortillas', 'Tamarind', 'Water', 'Arhar', 'dal', 'Split', 'Toor', 'Dal', 'Asafoetida', 'hing', 'Salt', 'Mustard', 'seeds', 'Cumin', 'Jeera', 'Methi', 'Seeds', 'Fenugreek', 'Curry', 'leaves', 'Sunflower', 'Oil', 'for', 'cooking', 'rice', 'noodles', 'baby', 'corn', 'capsicum', 'red', 'yellow', 'green', 'Thai', 'Basil', 'leaves', 'onions', 'garlic', 'ginger', 'brown', 'sugar', 'honey', 'soy', 'sauce', 'fish', 'Sriracha', 'small', 'potatoes', 'turmeric', 'powder', 'cardamom', 'cinnamon', 'long', 'bay', 'leaf', 'tomato', 'puree', 'garam', 'masala', 'yogurt', 'red', 'chilli', 'coriander', 'sugar', 'salt', 'stock', 'green', 'onion', 'ginger', 'cloves', 'garlic', 'chillies', 'green', 'peas', 'gram', 'flour', 'cheese', 'ginger', 'chillies', 'turmeric', 'powder', 'cumin', 'salt', 'oil', 'Ragi', 'Flour', 'Finger', 'Millet', 'Nagli', 'Water', 'Salt', 'Sunflower', 'Oil', 'Ghee', 'Rice', 'flour', 'Karela', 'Bitter', 'Gourd', 'Pavakkai', 'Salt', 'Onion', 'Gram', 'flour', 'besan', 'Turmeric', 'powder', 'Haldi', 'Red', 'Chilli', 'Cumin', 'seeds', 'Jeera', 'Coriander', 'Powder', 'Dhania', 'Amchur', 'Dry', 'Mango', 'Sunflower', 'Oil', 'Chicken', 'Thighs', 'Wings', 'Soy', 'sauce', 'Honey', 'Vinegar', 'Garlic', 'Minced', 'Ginger', 'Grated', 'Sesame', 'Gingelly', 'Oil', 'Olive', 'Black', 'pepper', 'powder', 'seeds', 'Til', 'Quinoa', 'Water', 'Extra', 'Virgin', 'Olive', 'Oil', 'Mustard', 'seeds', 'Cumin', 'Jeera', 'White', 'Urad', 'Dal', 'Split', 'Chana', 'dal', 'Bengal', 'Gram', 'Curry', 'leaves', 'Green', 'Chillies', 'finely', 'chopped', 'Shallot', 'Tomato', 'Carrot', 'Gajjar', 'Del', 'Monte', 'Whole', 'Corn', 'Kernels', 'peas', 'Matar', 'beans', 'French', 'Beans', 'Coriander', 'Powder', 'Dhania', 'Garam', 'masala', 'powder', 'Salt', 'Leaves', 'few', 'Carrot', 'Gajjar', 'Sweet', 'corn', 'Whole', 'Wheat', 'Flour', 'Onion', 'finely', 'chopped', 'Del', 'Monte', 'Sandwich', 'Spread', 'Coriander', 'Dhania', 'Leaves', 'Eggs', 'Baking', 'powder', 'soda', 'Green', 'Chillies', 'Instant', 'Oats', 'Oatmeal', 'Wheat', 'Flakes', 'Cereal', 'Pine', 'nuts', 'Pumpkin', 'seeds', 'Dates', 'dried', 'ones', 'finely', 'chopped', 'Dried', 'raspberries', 'Raisins', 'sultana', 'Badam', 'Almond', 'Walnuts', 'Cinnamon', 'Powder', 'Dalchini', 'Nutmeg', 'powder', 'Vanilla', 'Extract', 'Sunflower', 'Oil', 'Honey', 'Sooji', 'Semolina', 'Rava', 'Ghee', 'Milk', 'Sugar', 'Saffron', 'strands', 'Cardamom', 'Elaichi', 'Pods', 'Seeds', 'Cashew', 'nuts', 'Raisins', 'Mixed', 'dry', 'fruits', 'chopped', 'Fish', 'fillet', 'basa', 'Prawns', 'Clamps', 'Baby', 'Potatoes', 'Carrots', 'Gajjar', 'Onion', 'Tomato', 'Fresh', 'Red', 'chillies', 'cloves', 'Garlic', 'Cumin', 'powder', 'Jeera', 'Paprika', 'Salt', 'Lemon', 'juice', 'Black', 'pepper', 'Coriander', 'Dhania', 'Leaves', 'Extra', 'Virgin', 'Olive', 'Oil', 'Chicken', 'stock', 'Coconut', 'milk', 'Amla', 'Nellikai', 'Gooseberry', 'Methi', 'Seeds', 'Fenugreek', 'Mustard', 'seeds', 'oil', 'Red', 'Chilli', 'powder', 'Asafoetida', 'hing', 'Salt', 'Ada', 'Milk', 'Sugar', 'Ghee', 'Cardamom', 'Powder', 'Elaichi', 'Ridge', 'Gourd', 'Skin', 'Turai', 'Peerkangai', 'White', 'Urad', 'Dal', 'Methi', 'Seeds', 'Fenugreek', 'Dry', 'Red', 'Chillies', 'Curry', 'leaves', 'Tamarind', 'Mustard', 'seeds', 'Sunflower', 'Oil', 'Salt', 'Potatoes', 'Cheese', 'Tomatoes', 'Ginger', 'Grated', 'Green', 'Chillies', 'Red', 'Chilli', 'Powder', 'Coriander', 'Cumin', 'Salt', 'oil', 'coriander', 'Finely', 'chopped', 'Potatoes', 'Aloo', 'Lotus', 'Stem', 'Homemade', 'tomato', 'puree', 'Cumin', 'seeds', 'Jeera', 'Asafoetida', 'hing', 'Coriander', 'Powder', 'Dhania', 'Turmeric', 'powder', 'Haldi', 'Red', 'Chilli', 'Garam', 'masala', 'Salt', 'Sunflower', 'Oil', 'Leaves', 'Onions', 'Garlic', 'Ginger', 'Green', 'Chillies', 'Aam', 'Papad', 'pieces', 'Mint', 'Leaves', 'Pudina', 'Coriander', 'Dhania', 'Green', 'Chillies', 'Sugar', 'Salt', 'Hot', 'water', 'Kashmiri', 'dry', 'red', 'chillies', 'Methi', 'Seeds', 'Fenugreek', 'Garlic', 'cloves', 'Shallots', 'peeled', 'Cumin', 'seeds', 'Jeera', 'Turmeric', 'powder', 'Haldi', 'Vinegar', 'Water', 'Potatoes', 'Aloo', 'cleaned', 'Salt', 'Sunflower', 'Oil', 'Mustard', 'Curry', 'leaves', 'Sugar', 'Chana', 'dal', 'Bengal', 'Gram', 'Dal', 'Dry', 'Red', 'Chillies', 'Fennel', 'seeds', 'Salt', 'Sunflower', 'Oil', 'Onion', 'finely', 'chopped', 'Tomato', 'Green', 'cloves', 'Garlic', 'Coriander', 'Powder', 'Chilli', 'powder', 'Cinnamon', 'Stick', 'Bay', 'leaf', 'Cardamom', 'Pods', 'Seeds', 'Curry', 'leaves', 'Leaves', 'Fresh', 'coconut', 'Poppy', 'Cashew', 'nuts', 'Roasted', 'Pottukadalai', 'Sundkai', 'fenugreek', 'Arhar', 'dal', 'boiled', 'mashed', 'Tomato', 'Tamarind', 'Turmeric', 'Powder', 'Sambar', 'Coriander', 'mustard', 'cumin', 'seeds', 'dry', 'red', 'chili', 'asafoetida', 'oil', 'salt', 'water', 'Green', 'beans', 'Garlic', 'Soy', 'sauce', 'Thai', 'Sweet', 'Chilli', 'Sauce', 'Lemon', 'Rice', 'Wine', 'Vinegar', 'Roasted', 'Peanuts', 'Salt', 'Sesame', 'Gingelly', 'Oil', 'small', 'onions', 'red', 'chili', 'powder', 'turmeric', 'mango', 'coriander', 'salt', 'cloves', 'garlic', 'finely', 'chopped', 'ginger', 'Button', 'mushrooms', 'Potato', 'Aloo', 'Onion', 'Green', 'Chilli', 'Ginger', 'Sunflower', 'Oil', 'All', 'Purpose', 'Flour', 'Maida', 'trumpet', 'mustard', 'cumin', 'seeds', 'ginger', 'tomatoes', 'turmeric', 'powder', 'red', 'chilli', 'coriander', 'jaggery', 'oil', 'water', 'Whole', 'Wheat', 'Flour', 'Salt', 'Water', 'Ghee', 'Curd', 'Dahi', 'Yogurt', 'Carrot', 'Gajjar', 'Orange', 'Walnuts', 'Cashew', 'nuts', 'Salt', 'sugar', 'Cumin', 'powder', 'Jeera', 'Raita', 'masala', 'Mooli', 'Mullangi', 'Radish', 'Potato', 'Aloo', 'Onion', 'Green', 'Chilli', 'Kasundi', 'mustard', 'sauce', 'Red', 'powder', 'Turmeric', 'Haldi', 'Mustard', 'seeds', 'Cumin', 'Jeera', 'Kalonji', 'Nigella', 'Seeds', 'oil', 'Sugar', 'Salt', 'Sweet', 'Potatoes', 'Onion', 'Rasam', 'Powder', 'Turmeric', 'powder', 'Haldi', 'Asafoetida', 'hing', 'Salt', 'Sunflower', 'Oil', 'Mustard', 'seeds', 'White', 'Urad', 'Dal', 'Split', 'Curry', 'leaves', 'Tindora', 'Dondakaya', 'Kovakkai', 'sliced', 'roundels', 'Sunflower', 'Oil', 'Mustard', 'seeds', 'Dry', 'Red', 'Chillies', 'Curry', 'leaves', 'Raw', 'Peanuts', 'Moongphali', 'coarsely', 'ground', 'Sesame', 'Til', 'roasted', 'Chilli', 'powder', 'Coriander', 'Powder', 'Dhania', 'Turmeric', 'Haldi', 'Salt', 'Extra', 'Virgin', 'Olive', 'Oil', 'Butter', 'unsalted', 'Onion', 'finely', 'chopped', 'Jasmine', 'Rice', 'Salt', 'Sweet', 'corn', 'Parsley', 'leaves', 'Parmesan', 'cheese', 'grated', 'Mozzarella', 'cut', 'into', 'small', 'cubes', 'All', 'Purpose', 'Flour', 'Maida', 'Whole', 'Eggs', 'beaten', 'with', 'a', 'fork', 'Wheat', 'Bread', 'crumbs', 'Sunflower', 'for', 'deep', 'frying', 'Kabuli', 'Chana', 'boiled', 'Potatoes', 'Aloo', 'Onion', 'finely', 'chopped', 'Tomato', 'Green', 'Chilli', 'Ginger', 'Garlic', 'Paste', 'Red', 'powder', 'Turmeric', 'Haldi', 'Coriander', 'Powder', 'Dhania', 'Garam', 'masala', 'Amchur', 'Dry', 'Mango', 'Cumin', 'seeds', 'Jeera', 'Leaves', 'cut', 'in', 'juliennes', 'long', 'thin', 'strips', 'Sunflower', 'Oil', 'Salt', 'Rice', 'Yellow', 'Moong', 'Dal', 'Mint', 'Leaves', 'Coriander', 'Dhania', 'Green', 'Chilli', 'Ginger', 'Cumin', 'seeds', 'Water', 'Sunflower', 'Oil', 'Salt', 'Ghee', 'Cashew', 'nuts', 'halved', 'Whole', 'Black', 'Peppercorns', 'Curry', 'leaves', 'Asafoetida', 'hing', 'Wheat', 'Grass', 'Powder', 'Black', 'pepper', 'powder', 'Cumin', 'Jeera', 'Lemon', 'juiced', 'Tomatoes', 'chopped', 'Onion', 'finely', 'Red', 'Wine', 'Vinaigrette', 'Dried', 'oregano', 'Garlic', 'minced', 'Black', 'pepper', 'powder', 'Dijon', 'Mustard', 'Cane', 'sugar', 'Extra', 'Virgin', 'Olive', 'Oil', 'Salt', 'Gawar', 'Phali', 'Kothavarangai', 'Cluster', 'beans', 'Ginger', 'Garlic', 'Green', 'Chillies', 'Roasted', 'Peanuts', 'Moongphali', 'Coriander', 'Dhania', 'Seeds', 'Cumin', 'seeds', 'Jeera', 'Tamarind', 'Salt', 'Mustard', 'White', 'Urad', 'Dal', 'Split', 'Asafoetida', 'hing', 'Pomegranate', 'juice', 'freshly', 'squeezed', 'Fresh', 'orange', 'Lemon', 'Ice', 'cubes', 'Fruit', 'Kernels', 'for', 'garnish', 'Salt', 'rimming', 'the', 'glass', 'Margarita', 'Tequila', 'Triple', 'sec', 'tamarind', 'paste', 'jaggery', 'rasam', 'powder', 'red', 'chili', 'oil', 'fenugreek', 'seeds', 'curry', 'leaves', 'mustard', 'asafoetida', 'to', 'green', 'chillies', 'thin', 'and', 'straight', 'Papaya', 'peeled', 'grated', 'Carrot', 'Gajjar', 'Sugar', 'Milk', 'Cardamom', 'Powder', 'Elaichi', 'Saffron', 'strands', 'Badam', 'Almond', 'Ghee', 'Whole', 'Egg', 'Onion', 'chopped', 'Jaggery', 'Salt', 'Sunflower', 'Oil', 'Coriander', 'Dhania', 'Leaves', 'Fresh', 'coconut', 'grated', 'Seeds', 'Dry', 'Red', 'Chilli', 'Sesame', 'seeds', 'Til', 'Poppy', 'Ginger', 'Garlic', 'Badam', 'Almond', 'Hard', 'taco', 'shells', 'Hariyali', 'Chicken', 'Tikka', 'Summer', 'Salad', 'Refried', 'beans', 'Nutralite', 'Cheesy', 'Garlic', 'Mayo', 'Tomato', 'Salsa', 'Whole', 'Wheat', 'Flour', 'Salt', 'Italian', 'seasoning', 'Cheese', 'spread', 'flavoured', 'Broccoli', 'cut', 'into', 'florets', 'Onion', 'thinly', 'sliced', 'Red', 'Bell', 'pepper', 'Capsicum', 'diced', 'Parsley', 'leaves', 'roughly', 'chopped', 'cabbage', 'leaves', 'tomatoes', 'tamarind', 'white', 'urad', 'dal', 'red', 'chillies', 'cloves', 'garlic', 'big', 'oil', 'Rye', 'Cumin', 'seeds', 'Curry', 'Whole', 'Wheat', 'Flour', 'All', 'Purpose', 'Maida', 'Sooji', 'Semolina', 'Rava', 'Curd', 'Dahi', 'Yogurt', 'Turmeric', 'powder', 'Haldi', 'Salt', 'Sunflower', 'Oil', 'kneading', 'Potatoes', 'Aloo', 'boiled', 'and', 'mashed', 'Cumin', 'seeds', 'Jeera', 'Onion', 'finely', 'chopped', 'Garlic', 'crushed', 'Ginger', 'Green', 'Chillies', 'Curry', 'leaves', 'Coriander', 'Dhania', 'Leaves', 'Red', 'Chilli', 'Yellow', 'Moong', 'Dal', 'Cucumber', 'finely', 'chopped', 'Carrot', 'Gajjar', 'grated', 'Fresh', 'coconut', 'Lemon', 'juice', 'Sunflower', 'Oil', 'Mustard', 'seeds', 'Green', 'Chillies', 'slit', 'Asafoetida', 'hing', 'Curry', 'leaves', 'roughly', 'torn', 'Coriander', 'Dhania', 'Leaves', 'Lemon', 'juice', 'Curd', 'Dahi', 'Yogurt', 'Sugar', 'powdered', 'Fresh', 'cream', 'Turmeric', 'powder', 'Vanilla', 'Extract', 'Orange', 'Zest', 'Rind', 'Barley', 'seeds', 'Broccoli', 'florets', 'Green', 'peas', 'Matar', 'Sweet', 'corn', 'beans', 'French', 'Beans', 'Carrots', 'Gajjar', 'Rocket', 'leaves', 'Tomatoes', 'chopped', 'Onion', 'Garlic', 'minced', 'Extra', 'Virgin', 'Olive', 'Oil', 'Basil', 'Fresh', 'Thyme', 'Red', 'Chilli', 'flakes', 'Corn', 'flour', 'Water', 'Sour', 'cream', 'Brown', 'Rice', 'Rolled', 'Oats', 'Or', 'Instant', 'Whole', 'Eggs', 'Spring', 'Onion', 'Greens', 'finely', 'chopped', 'Carrots', 'Gajjar', 'Green', 'beans', 'French', 'Beans', 'Cabbage', 'Patta', 'Gobi', 'Muttaikose', 'Sunflower', 'Oil', 'Salt', 'and', 'Pepper', 'Whole', 'Wheat', 'Flour', 'Sunflower', 'Oil', 'Salt', 'Button', 'mushrooms', 'Onion', 'finely', 'chopped', 'Cumin', 'seeds', 'Jeera', 'Garam', 'masala', 'powder', 'Green', 'Chillies', 'Turmeric', 'Haldi', 'Ghee', 'or', 'oil', 'for', 'cooking', 'Dry', 'beans', 'Extra', 'Virgin', 'Olive', 'Oil', 'Onion', 'finely', 'chopped', 'Garlic', 'grated', 'Tomatoes', 'pureed', 'Honey', 'Cumin', 'powder', 'Jeera', 'Dried', 'oregano', 'Red', 'Chilli', 'cayenne', 'pepper', 'Salt', 'and', 'Pepper', 'Whole', 'Eggs', 'Cinnamon', 'Stick', 'Dalchini', 'Bay', 'leaf', 'tej', 'patta', 'Cloves', 'Laung', 'Sunflower', 'Oil', 'Coriander', 'Powder', 'Dhania', 'Garam', 'masala', 'powder', 'Fresh', 'cream', 'Leaves', 'tightly', 'packed', 'Mint', 'Pudina', 'chopped', 'Green', 'Chillies', 'Onion', 'roughly', 'Ginger', 'Garlic', 'Fresh', 'cream', 'Water', 'Baby', 'Potatoes', 'Dry', 'Red', 'Chilli', 'Cumin', 'seeds', 'Curry', 'leaves', 'Coriander', 'Powder', 'Turmeric', 'powder', 'Garam', 'masala', 'Amchur', 'Mango', 'Lemon', 'juice', 'Leaves', 'chopped', 'Wood', 'apple', 'Jaggery', 'or', 'sugar', 'Black', 'Salt', 'Kala', 'Namak', 'Cumin', 'powder', 'Jeera', 'Lemon', 'juice', 'Mint', 'Leaves', 'Pudina', 'Water', 'chilled', 'Ice', 'cubes', 'Gram', 'flour', 'besan', 'Whole', 'Wheat', 'Flour', 'Rice', 'Cucumber', 'peeled', 'and', 'grated', 'Turmeric', 'powder', 'Haldi', 'Cumin', 'Jeera', 'Coriander', 'Powder', 'Dhania', 'Red', 'Chilli', 'Green', 'Chillies', 'finely', 'chopped', 'Leaves', 'cloves', 'Garlic', 'Salt', 'Ghee', 'for', 'smearing', 'on', 'thalipeeth', 'Fresh', 'coconut', 'grated', 'Palm', 'jaggery', 'use', 'date', 'Poha', 'Flattened', 'rice', 'All', 'Purpose', 'Flour', 'Maida', 'Sooji', 'Semolina', 'Rava', 'Milk', 'warm', 'palm', 'Pink', 'Masoor', 'Dal', 'Drumstick', 'Leaves', 'Moringa', 'Murungai', 'Keerai', 'Asafoetida', 'hing', 'Cumin', 'seeds', 'Jeera', 'Ginger', 'finely', 'chopped', 'Dry', 'Red', 'Chilli', 'Tomato', 'Green', 'slit', 'Coriander', 'Powder', 'Dhania', 'Turmeric', 'powder', 'Haldi', 'Salt', 'Ghee', 'Lemon', 'juice', 'extracted', 'Whole', 'Wheat', 'Brown', 'Bread', 'Milk', 'Khoya', 'Mawa', 'Sugar', 'Badam', 'Almond', 'finely', 'chopped', 'Ghee', 'for', 'deep', 'frying', 'Milk', 'White', 'vinegar', 'Sugar', 'Powder', 'Condensed', 'Cardamom', 'Pods', 'Seeds', 'Ghee', 'Pistachios', 'chopped', 'Saffron', 'strands', 'or', 'Yellow', 'food', 'colour', 'Oranges', 'Orange', 'Zest', 'Sugar', 'Whole', 'Eggs', 'Caster', 'Almond', 'Meal', 'Badam', 'Powder', 'Hazelnut', 'Baking', 'powder', 'Britannia', 'Cream', 'Cheese', 'Heavy', 'whipping', 'cream', 'Fresh', 'orange', 'juice', 'Icing', 'Chicken', 'cut', 'into', 'pieces', 'Ginger', 'paste', 'Garlic', 'Fresh', 'cream', 'Badam', 'Almond', 'Lemon', 'juice', 'Black', 'pepper', 'powder', 'Salt', 'Onion', 'sliced', 'Milk', 'Cardamom', 'Powder', 'Elaichi', 'Cinnamon', 'Stick', 'Dalchini', 'Bay', 'leaf', 'tej', 'patta', 'Kasuri', 'Methi', 'Dried', 'Fenugreek', 'Leaves', 'Ghee', 'Mooli', 'Mullangi', 'Radish', 'purple', 'Water', 'Garam', 'masala', 'powder', 'Salt', 'Black', 'pepper', 'slices', 'Coriander', 'Dhania', 'Leaves', 'chopped', 'kachris', 'garlic', 'chillies', 'cumin', 'seeds', 'curd', 'ghee', 'Rice', 'flour', 'Water', 'Sunflower', 'Oil', 'Salt', 'White', 'Urad', 'Dal', 'Whole', 'Green', 'Chillies', 'Ginger', 'Asafoetida', 'hing', 'Sesame', 'Gingelly', 'Mustard', 'seeds', 'Curry', 'leaves', 'Fresh', 'orange', 'juice', 'Ginger', 'grated', 'Tea', 'Monk', 'Seiki', 'Peppermint', 'Green', 'Chilled', 'water', 'Tender', 'coconut', 'water', 'Fresh', 'cream', 'Sugar', 'granulated', 'meat', 'extra', 'Condensed', 'Milk', 'Honey', 'glazing', 'Optional', 'Ice', 'cone', 'Basmati', 'rice', 'Yellow', 'Bell', 'Pepper', 'Capsicum', 'Red', 'Green', 'Chillies', 'chopped', 'Ginger', 'grated', 'Butter', 'Sesame', 'seeds', 'Til', 'Salt', 'Whole', 'Wheat', 'Flour', 'Spinach', 'chopped', 'Kaddu', 'Parangikai', 'Pumpkin', 'grated', 'Red', 'Chilli', 'powder', 'Turmeric', 'Haldi', 'Coriander', 'Powder', 'Dhania', 'Cumin', 'seeds', 'Jeera', 'Salt', 'Water', 'Sunflower', 'Oil', 'Arhar', 'dal', 'Water', 'Turmeric', 'powder', 'Green', 'Chillies', 'Tamarind', 'Lemon', 'juice', 'Ghee', 'Mustard', 'seeds', 'Asafoetida', 'hing', 'Curry', 'leaves', 'Handful', 'Coriander', 'Dhania', 'Leaves', 'Cardamom', 'Elaichi', 'Pods', 'Seeds', 'Whole', 'Black', 'Peppercorns', 'Cinnamon', 'Stick', 'Dalchini', 'cloves', 'Cloves', 'Laung', 'Mace', 'Javitri', 'Bay', 'leaf', 'tej', 'patta', 'cardamom', 'Badi', 'Kasuri', 'Methi', 'Dried', 'Fenugreek', 'Leaves', 'Kashmiri', 'Red', 'Chilli', 'Powder', 'Turmeric', 'powder', 'Haldi', 'Coriander', 'Dhania', 'Garam', 'masala', 'Samosas', 'mini', 'Cashew', 'nuts', 'Green', 'Onion', 'roughly', 'chopped', 'Tomato', 'Ginger', 'Sugar', 'Fresh', 'cream', 'Sunflower', 'Oil', 'Cauliflower', 'gobi', 'Garlic', 'sliced', 'Cumin', 'seeds', 'Jeera', 'roasted', 'and', 'crushed', 'Coriander', 'Powder', 'Dhania', 'Black', 'pepper', 'powder', 'or', 'red', 'chilli', 'Extra', 'Virgin', 'Olive', 'Oil', 'Anardana', 'Pomegranate', 'Seed', 'molasses', 'honey', 'Fresh', 'Herbs', 'Handful', 'of', 'herbs', 'choice', 'like', 'basil', 'Salt', 'yogurt', 'banana', 'fried', 'pomegranate', 'red', 'chili', 'powder', 'sugar', 'cumin', 'Dijon', 'mustard', 'salt', 'Onions', 'cut', 'into', 'thin', 'rings', 'Lemon', 'juice', 'extracted', 'Black', 'Salt', 'Kala', 'Namak', 'Red', 'Chilli', 'powder', 'Chaat', 'Masala', 'Powder', 'Cumin', 'seeds', 'Jeera', 'Cinnamon', 'Stick', 'Dalchini', 'Dry', 'ginger', 'powder', 'Turmeric', 'Haldi', 'Red', 'Chilli', 'Coriander', 'Dhania', 'Seeds', 'Fennel', 'Saunf', 'Whole', 'Black', 'Peppercorns', 'Garlic', 'Cardamom', 'Elaichi', 'Pods', 'Mace', 'Javitri', 'Jasmine', 'Rice', 'Coconut', 'milk', 'Salt', 'Oil', 'Onion', 'diced', 'Bell', 'pepper', 'Capsicum', 'sliced', 'thin', 'Gawar', 'Phali', 'Kothavarangai', 'Cluster', 'beans', 'chopped', 'into', 'half', 'Ginger', 'minced', 'Lemongrass', 'fresh', 'Lemon', 'juice', 'Jaggery', 'Thai', 'basil', 'leaves', 'garnish', 'Tomatoes', 'Dry', 'Red', 'Chillies', 'Tamarind', 'Paste', 'Chilli', 'powder', 'Turmeric', 'Haldi', 'Mustard', 'seeds', 'Methi', 'Seeds', 'Fenugreek', 'Garlic', 'Sunflower', 'Oil', 'Salt', 'Basella', 'Malabar', 'Spinach', 'Red', 'Chilli', 'powder', 'Turmeric', 'Haldi', 'Salt', 'Gram', 'flour', 'besan', 'Corn', 'Cumin', 'seeds', 'Jeera', 'Enos', 'fruit', 'salt', 'baking', 'for', 'the', 'batter', 'Sunflower', 'Oil', 'frying', 'Water', 'Tomato', 'Ketchup', 'Gram', 'flour', 'besan', 'Rice', 'Green', 'Moong', 'Sprouts', 'Onion', 'Coriander', 'Dhania', 'Leaves', 'Chillies', 'Ginger', 'grated', 'Powder', 'Garam', 'masala', 'powder', 'Lemon', 'juice', 'Salt', 'Red', 'Chilli', 'Sunflower', 'Oil', 'deep', 'fry', 'Chicken', 'Onion', 'chopped', 'Tomato', 'Green', 'Chillies', 'slit', 'Ginger', 'finely', 'Garlic', 'Turmeric', 'powder', 'Haldi', 'Garam', 'masala', 'Sesame', 'Gingelly', 'Oil', 'Methi', 'Seeds', 'Fenugreek', 'Coriander', 'Dhania', 'Dry', 'Red', 'Fennel', 'seeds', 'Saunf', 'Sorrel', 'Leaves', 'Gongura', 'picked', 'and', 'Paneer', 'Homemade', 'Cottage', 'Cheese', 'Potatoes', 'Aloo', 'Onion', 'julienned', 'Ginger', 'grated', 'Garlic', 'Green', 'Bell', 'Pepper', 'Capsicum', 'Tomatoes', 'finely', 'chopped', 'Pav', 'bhaji', 'masala', 'Coriander', 'Dhania', 'Leaves', 'French', 'bread', 'or', 'rye', 'to', 'make', 'sandwiches', 'Rocket', 'leaves', 'salad', 'for', 'the', 'sandwich', 'Spaghetti', 'Pasta', 'Spinach', 'amaranth', 'leaves', 'Garlic', 'finely', 'chopped', 'big', 'size', 'Extra', 'Virgin', 'Olive', 'Oil', 'Parmesan', 'cheese', 'grated', 'or', 'powdered', 'Okra', 'Oil', 'Onion', 'finely', 'chopped', 'Tomato', 'Grated', 'Ginger', 'Garlic', 'Finely', 'Cumin', 'seeds', 'asafoetida', 'cottage', 'cheese', 'pinched', 'coriander', 'powder', 'mango', 'red', 'chilli', 'turmeric', 'Tomatoes', 'Curry', 'leaves', 'Green', 'Chillies', 'Turmeric', 'powder', 'Coriander', 'Dhania', 'Sugar', 'Button', 'mushrooms', 'quartered', 'Spinach', 'Leaves', 'Palak', 'washed', 'and', 'chopped', 'Tomato', 'or', 'pureed', 'Garlic', 'finely', 'Ginger', 'Green', 'Chillies', 'slit', 'Cumin', 'seeds', 'Jeera', 'Cinnamon', 'Stick', 'Dalchini', 'powder', 'Turmeric', 'Haldi', 'Garam', 'masala', 'Fresh', 'cream', 'Ghee', 'Salt', 'Aar', 'Maach', 'Tomato', 'Bay', 'leaf', 'Ginger', 'Garlic', 'Paste', 'Green', 'Chillies', 'Cumin', 'seeds', 'Jeera', 'Coriander', 'Powder', 'Dhania', 'Red', 'Chilli', 'powder', 'Turmeric', 'Haldi', 'Mustard', 'oil', 'Salt', 'Water', 'Leaves', 'sprigs', 'Tindora', 'Dondakaya', 'Kovakkai', 'Mustard', 'seeds', 'White', 'Urad', 'Dal', 'Asafoetida', 'hing', 'Curry', 'leaves', 'Dry', 'Red', 'Chilli', 'Sunflower', 'Oil', 'Coriander', 'Dhania', 'Seeds', 'Chana', 'dal', 'Bengal', 'Gram', 'Chillies', 'bottle', 'gourd', 'onion', 'garlic', 'ginger', 'green', 'chillies', 'cumin', 'seeds', 'mustard', 'methi', 'fenugreek', 'turmeric', 'powder', 'red', 'chilli', 'coriander', 'tamarind', 'water', 'tomatoes', 'leaves', 'roasted', 'peanuts', 'sesame', 'fresh', 'coconut', 'Button', 'mushrooms', 'chopped', 'Green', 'peas', 'Matar', 'boiled', 'Cumin', 'seeds', 'Jeera', 'Mustard', 'Asafoetida', 'hing', 'Onion', 'paste', 'Tomato', 'Ginger', 'Garlic', 'Paste', 'Chilli', 'Red', 'powder', 'Turmeric', 'Haldi', 'Coriander', 'Powder', 'Dhania', 'Garam', 'masala', 'Leaves', 'fruit', 'pineapple', 'yogurt', 'turmeric', 'powder', 'jaggery', 'salt', 'coconut', 'green', 'chillies', 'mustard', 'dry', 'red', 'peppers', 'break', 'oil', 'curry', 'leaves', 'Bajra', 'Flour', 'Jowar', 'Whole', 'Wheat', 'Methi', 'Leaves', 'Ginger', 'Green', 'Chillies', 'Sesame', 'seeds', 'Red', 'Chilli', 'powder', 'Turmeric', 'Asafoetida', 'Curd', 'Sugar', 'Sunflower', 'Oil', 'idli', 'dosa', 'mixture', 'rice', 'rava', 'jaggery', 'coconut', 'grated', 'cardamom', 'powder', 'salt', 'water', 'oil', 'Sunflower', 'Oil', 'Ginger', 'grated', 'Green', 'Chilli', 'finely', 'chopped', 'Onion', 'Tomato', 'Turmeric', 'powder', 'Haldi', 'Red', 'Paneer', 'Homemade', 'Cottage', 'Cheese', 'crumpled', 'Coriander', 'Dhania', 'Leaves', 'Pav', 'buns', 'roasted', 'in', 'butter', 'Whole', 'Eggs', 'Roasted', 'Gram', 'Dal', 'Pottukadalai', 'Dry', 'Red', 'Chillies', 'Ginger', 'chopped', 'Garlic', 'Black', 'Peppercorns', 'Salt', 'Kabuli', 'Channa', 'cumin', 'seeds', 'ginger', 'paste', 'chana', 'masala', 'powder', 'red', 'chilli', 'Amchoor', 'turmeric', 'Coriander', 'salt', 'Potatoes', 'Garlic', 'powder', 'Onion', 'Dried', 'oregano', 'Coriander', 'Leaves', 'finely', 'chopped', 'Red', 'Chilli', 'flakes', 'All', 'Purpose', 'Flour', 'Maida', 'Rice', 'flour', 'Salt', 'Sunflower', 'Oil', 'for', 'deep', 'frying', 'the', 'tater', 'tots', 'Sooji', 'Semolina', 'Rava', 'Curd', 'Dahi', 'Yogurt', 'Saffron', 'strands', 'Cardamom', 'Powder', 'Elaichi', 'Baking', 'powder', 'Caster', 'Sugar', 'Cashew', 'nuts', 'Raisins', 'Ghee', 'Green', 'Coffee', 'beans', 'Cardamom', 'Elaichi', 'Pods', 'Seeds', 'Water', 'Saffron', 'strands', 'Rose', 'water', 'black', 'urad', 'dal', 'split', 'kidney', 'beans', 'tomatoes', 'chopped', 'ginger', 'grated', 'ghee', 'cumin', 'seeds', 'Kashmiri', 'red', 'chilli', 'powder', 'coriander', 'garam', 'masala', 'salt']\n",
            "Units: ['cup', 'teaspoon', 'tablespoons', 'sprig', 'inch', 'teaspoon', 'tablespoon', 'sprigs', 'teaspoon', 'tablespoons', 'teaspoons', 'sprig', 'cups', 'tablespoon', 'tablespoon', 'teaspoon', 'cups', 'tablespoon', 'grams', 'inch', 'cloves', 'teaspoon', 'cup', 'inch', 'cups', 'tablespoon', 'cloves', 'teaspoon', 'grams', 'teaspoon', 'sprig', 'grams', 'teaspoons', 'teaspoon', 'tablespoons', 'tablespoon', 'cup', 'tablespoons', 'teaspoon', 'tablespoon', 'cup', 'tablespoons', 'teaspoon', 'grams', 'inch', 'cup', 'tablespoons', 'teaspoon', 'tablespoon', 'cup', 'teaspoon', 'tablespoon', 'grams', 'pinch', 'teaspoon', 'grams', 'ml', 'cup', 'tablespoon', 'tablespoons', 'cup', 'tablespoons', 'teaspoons', 'teaspoon', 'pinch', 'cup', 'tablespoon', 'cup', 'tablespoons', 'tablespoon', 'teaspoon', 'pinch', 'teaspoons', 'teaspoon', 'cloves', 'cup', 'tablespoons', 'tablespoon', 'inches', 'Teaspoon', 'sprig', 'cup', 'teaspoon', 'tsp', 'cloves', 'grams', 'tablespoon', 'teaspoon', 'tablespoons', 'Spoon', 'inch', 'sprig', 'tsp', 'pinch', 'grams', 'teaspoon', 'sprig', 'teaspoons', 'cup', 'teaspoon', 'inch', 'cups', 'teaspoon', 'sprig', 'cups', 'cup', 'teaspoon', 'tablespoon', 'cup', 'inch', 'tsp', 'cup', 'teaspoon', 'tablespoons', 'tablespoon', 'sprig', 'cups', 'teaspoons', 'tablespoons', 'cloves', 'teaspoon', 'cup', 'cups', 'teaspoon', 'cup', 'inch', 'teaspoons', 'cup', 'tablespoon', 'teaspoon', 'Sprig', 'teaspoon', 'cup', 'sprig', 'cup', 'cloves', 'teaspoon', 'tablespoon', 'sprig', 'cups', 'gram', 'inch', 'sprigs', 'cup', 'teaspoon', 'cup', 'teaspoon', 'tablespoons', 'teaspoons', 'cup', 'tablespoon', 'teaspoon', 'grams', 'grams', 'teaspoon', 'cup', 'teaspoons', 'tablespoons', 'sprig', 'cups', 'teaspoon', 'cup', 'sprig', 'cup', 'teaspoon', 'inch', 'sprig', 'grams', 'cloves', 'small', 'Teaspoon', 'tsp', 'tbsp', 'grams', 'cloves', 'inch', 'tablespoon', 'teaspoon', 'cup', 'cup', 'teaspoon', 'sprig', 'pinch', 'grams', 'cup', 'cloves', 'inch', 'tbsp', 'Tbsp', 'grams', 'tsp', 'inch', 'cup', 'cup', 'tsp', 'teaspoon', 'cup', 'teaspoon', 'tablespoon', 'teaspoons', 'Tablespoon', 'teaspoon', 'cup', 'cups', 'tablespoons', 'teaspoon', 'cup', 'tablespoons', 'teaspoon', 'cup', 'tablespoon', 'tablespoons', 'teaspoon', 'cup', 'teaspoon', 'cups', 'grams', 'teaspoon', 'tablespoon', 'cup', 'grams', 'teaspoon', 'cup', 'liter', 'tablespoon', 'teaspoon', 'cups', 'teaspoons', 'grams', 'gms', 'inch', 'teaspoon', 'cup', 'teaspoon', 'teaspoons', 'sprig', 'inch', 'cup', 'tablespoon', 'cups', 'teaspoon', 'cup', 'tablespoon', 'cup', 'teaspoon', 'teaspoons', 'sprig', 'tablespoon', 'tablespoons', 'cup', 'tsp', 'teaspoon', 'grams', 'cloves', 'tablespoon', 'cup', 'tsp', 'inch', 'Sprig', 'grams', 'inch', 'teaspoon', 'cup', 'teaspoon', 'small', 'Spoon', 'tablespoon', 'cup', 'cup', 'grams', 'pinch', 'tablespoons', 'teaspoon', 'tablespoon', 'medium', 'teaspoon', 'a', 'pinch', 'teaspoons', 'sprig', 'grams', 'teaspoons', 'sprig', 'tablespoons', 'teaspoon', 'pinch', 'tablespoon', 'cups', 'teaspoon', 'cup', 'cup', 'tablespoon', 'teaspoon', 'teaspoons', 'sprig', 'inch', 'cup', 'inch', 'teaspoon', 'cups', 'tablespoons', 'sprig', 'pinch', 'grams', 'teaspoon', 'cups', 'cup', 'cloves', 'tablespoon', 'tablespoons', 'inch', 'cloves', 'tablespoons', 'teaspoon', 'grams', 'pinch', 'ml', 'cup', 'cup', 'teaspoon', 'tablespoon', 'Pinch', 'cut', 'cups', 'cup', 'teaspoon', 'tablespoons', 'tablespoon', 'sprig', 'cup', 'inch', 'cloves', 'cup', 'tablespoons', 'cup', 'pinch', 'teaspoon', 'sprig', 'cup', 'grams', 'tablespoons', 'Spoon', 'teaspoon', 'sprig', 'cup', 'tablespoon', 'teaspoon', 'pinch', 'cloves', 'inch', 'sprig', 'cup', 'tablespoon', 'teaspoon', 'sprig', 'cup', 'grams', 'tablespoons', 'teaspoon', 'drops', 'wedges', 'cup', 'cloves', 'tablespoon', 'teaspoon', 'teaspoons', 'cups', 'grams', 'cup', 'teaspoon', 'cup', 'teaspoons', 'grams', 'teaspoon', 'grams', 'teaspoon', 'clove', 'tablespoon', 'tablespoon', 'teaspoons', 'teaspoon', 'tablespoons', 'cups', 'cup', 'inch', 'cloves', 'cups', 'cup', 'teaspoon', 'sprig', 'tablespoons', 'tablespoons', 'teaspoon', 'cup', 'teaspoon', 'cups', 'cup', 'tablespoons', 'liter', 'cup', 'grams', 'teaspoon', 'inch', 'teaspoons', 'tablespoon', 'cup', 'grams', 'liter', 'tablespoons', 'cup', 'tablespoon', 'teaspoon', 'tablespoons', 'grams', 'teaspoon', 'gram', 'teaspoon', 'tablespoon', 'cup', 'inch', 'cups', 'teaspoon', 'cloves', 'dry', 'red', 'tablespoon', 'tablespoons', 'tsp', 'cup', 'teaspoon', 'cups', 'inch', 'sprig', 'cups', 'teaspoons', 'tablespoons', 'cup', 'cups', 'inch', 'teaspoon', 'cup', 'teaspoon', 'cup', 'cups', 'teaspoon', 'grams', 'tablespoon', 'inch', 'teaspoon', 'tablespoon', 'tablespoons', 'cups', 'teaspoon', 'tablespoon', 'tablespoons', 'cup', 'teaspoon', 'teaspoon', 'tablespoon', 'teaspoons', 'cloves', 'teaspoon', 'cups', 'cup', 'tablespoons', 'inch', 'Stalks', 'kg', 'teaspoon', 'teaspoons', 'tablespoon', 'cloves', 'grams', 'teaspoon', 'cup', 'cup', 'tablespoon', 'teaspoon', 'grams', 'inch', 'cloves', 'teaspoon', 'tablespoon', 'cups', 'grams', 'inch', 'cloves', 'tablespoons', 'grams', 'cloves', 'tablespoons', 'cup', 'grams', 'teaspoon', 'Teaspoon', 'cup', 'sprigs', 'teaspoon', 'sprig', 'pinch', 'grams', 'cloves', 'inch', 'teaspoon', 'tablespoons', 'tablespoon', 'tablespoons', 'teaspoon', 'grams', 'teaspoon', 'sprig', 'tablespoon', 'tablespoons', 'grams', 'cloves', 'inch', 'teaspoon', 'tablespoon', 'cup', 'sprig', 'tablespoons', 'cup', 'teaspoon', 'tablespoon', 'sprig', 'cups', 'teaspoon', 'teaspoons', 'cup', 'sprig', 'cup', 'cups', 'inch', 'tablespoon', 'teaspoons', 'teaspoon', 'tablespoons', 'cup', 'tablespoons', 'tablespoon', 'tablespoon', 'teaspoon', 'cups', 'tablespoons', 'inch', 'cloves', 'tablespoon', 'cup', 'teaspoon', 'teaspoons', 'tablespoon', 'teaspoon', 'tablespoon', 'cup', 'teaspoon', 'teaspoons', 'tablespoon', 'cups', 'teaspoon', 'cup', 'tablespoon', 'inch', 'teaspoon']\n",
            "Quantities: ['1', '1/2', '1/4', '2', '4', '1', '2', '2', '1', '3', '1/2', '2', '1', '1/2', '10', '1', '2', '1/2', 'few', '2', '1', '200', '1/4', '4', '1/2', '1/2', '4', '1', '2', '3', '1/4', '300', '1', '2', '4', '500', '2', '1', '1/4', '1/2', '1', '2', '3', '1/2', '1/2', '1/4', '2', '1', '200', '1', '2', '1/2', 'a', '1', '1/2', '1/3', '1/4', '300', '75', '175', '15', '1', '1/2', '100', 'one', '300', '1/4', '1', '2', '1', '2', '4', '2', '1', '1/4', '1/2', 'few', '1', '2', '1/2', '1/4', '2', '1', '1/2', '5', '1/4', '1', '2', '3', '1/2', '2', '1', '1/4', '3', '200', '2', '1', '1/2', '2', '5', '6', '1', '3', '1/4', '4', '2', '1/2', '1', 'a', '250', '1', '2', '1/2', '1', '1/2', '2', '1/4', '3', '1', '1/2', '1/4', '2', '1', '3', '5', '1/2', '1/2', '1', '2', '1', '2', '1/2', '1/4', '2', '1', '3', '1/2', '3/4', '1/4', '2', '1/4', '1', '1/2', '1', '1/2', '2', '5', '2', '1', '1/4', '1/2', '4', '6', '1/2', '1', '3', '2', '4', '1', '4', '50', '2', '10', '3/4', '10', '1', '2', '1/4', '1/2', '3', '1', '1/2', '3/4', '8', '250', 'cloves', '500', '1/2', '4', '30', '2', '3', '1', '2', '1', '1/4', '10', '4', '1', '2', '1/4', '1', '1/2', '4', '200', '50', '2', '1', '1/2', '200', '1', '4', '1/2', '2', '1/4', '2', '1/2', '1', '200', '1/2', '1/4', '1/3', '6', '1', '200', '2', '1', '1/2', '3', '1', '1/2', '2', '1', '6', '1', '3', '2', '1/2', '2', '1.5', '1', '1', '2', '1/2', '6', '4', '1/4', '2', '3/4', '1', '5', '1/4', '3', '1/2', '3', '1', '1/2', '3', '3/4', '5', '1', '250', '15', '5', '2', '1', '4', '1/4', '100', '1', '1/2', '1', '2', '3/4', '1/2', '2', '5', '3', '10', '30', '1/4', '7', '350', '5', '2', '1', '3', '1', '1/2', '1/4', '2', '4', '1', '1/2', '2', '12', '1/4', '7', '4', '1/2', '2', '1/3', '3', '1', '10', '1/2', '2', '1', '7', '5', '1/2', '1/4', '1', '2', '300', '3', '1', '2', '1/4', '20', '1', '6', '2', '200', '1', '2', '1/2', '1', '1/4', '1', '200', '1', '5', '6', '1/4', '3', '2', '1', '1/2', '2', '1', '1/2', '400', '2', '1/2', '1', '2', '1', '1/4', '3', '1', '3', '1/2', '2', '4', '1', '1/2', '1/4', '5', '2', '8', '50', '1/2', '1', '2', '1/2', '3', 'to', '15', '1', '4', '5', '3', '1/4', '1/2', '18', '300', '1/4', '1', '2', '10', 'to', '12', '400', '1/3', '1/8', '1', '1/2', '10', '4', '5', '4', '1', '1/2', '3/4', '2', '1/4', '4', '1', '1/4', '2', '3', '5', '8', '4', '1', '1/2', '2', '1/4', '1', '1/4', '2', '1', '3/4', '18', '2', '4', '3', '1/2', '1', '1/4', '2', 'a', 'for', '4', '1/2', '5', '1/2', '1', '1/4', '2', '1/4', '500', '2', '1/8', 'few', '1', 'two', '1', '1/4', '1/2', '2', '4', '2', '80', '3', '12', '1', '1', '2', '250', '1/4', '250', '1', '500', '1/4', '4', '1', '2', '2', '1', '12', '1', '1/2', '3', '1', '2', '1/2', '1/4', '1', '2', '5', '2', '1', '1/2', '1/4', '4', '3/4', '1', '200', '1/4', '2', '1/2', '24', '1', '150', '1/4', '1', '1/2', '2', '4', '3', '1/8', '3', '2', '6', '175', '150', '100', '1', '200', '75', '500', '2', '1', '1/2', '1/4', '4', '8', '2', '1/4', '1/2', '6', '12', '4', '1', '3', '1', '1/4', '2', '2', '4', '1/2', '1', '1/4', 'Little', 'for', '2', '1', 'finely', '1', '1/2', '1/4', '1', '5', '30', '1/2', '1/4', '3', '6', '1/2', '1', '15', '2', '2', '4', '1', '3', '1/4', '1', '1/4', '1/2', '2', '1', '1/2', '1', '2', '4', '1/2', '10', '1', '8', '2', '1/2', '200', '1', '1/2', '1/4', '1/2', '2', '1/4', '1', 'to', '500', '2', '1', '4', '6', '1/2', '1/4', '100', '2', '1', '3', '400', '200', '4', '3', '1/4', '250', '1', '2', '1/2', '1/4', '4', '2', '1/2', '1', '200', '500', '1', '2', '1/2', '1/4', '1', '2', '3', '1/2', 'Few', '400', '1', '1/2', 'pinch', '2', '4', '1/4', '500', '1', '6', '4', '1/2', '1/4', '2', '3', '1', '1/2', '1/4', '2', '2', '1', '1/2', '1/4', '1/2', '2', '3', '1', '1/4', '5', '1', '4', '1/3', '3', '1', '1/4', '2', '4', '2', '3', '1', '4', '1', '1/4', '2', '10', '1', '2', '1', '5', '1/2', '3', '10', '2', '1', '2.5', '1/8', '1', '4', '1/2']\n"
          ]
        }
      ]
    },
    {
      "cell_type": "markdown",
      "source": [
        "#### **4.4** *Top 10 Most Frequent Items* <font color = red>[3 marks]</font> <br>\n",
        "\n",
        "Define a function ***get_top_frequent_items*** to display top 10 most frequent items\n",
        "\n",
        "Here, item_list is used as a general parameter where you will call this function for ingredient and unit list\n",
        "\n",
        "Execute this function separately for top 10 most units and ingredients\n",
        "\n"
      ],
      "metadata": {
        "id": "QSGau4EgZCix"
      }
    },
    {
      "cell_type": "code",
      "source": [
        "# define a function get_top_frequent_items to get the top frequent items by using item_list, pos label and dataset_name(Training/Validation) and return top items\n",
        "\n",
        "def get_top_frequent_items(item_list, pos_label, dataset_name, top_n=10):\n",
        "\n",
        "\n",
        "    counter = Counter(item_list)\n",
        "    most_common = counter.most_common(top_n)\n",
        "\n",
        "    print(f\"Top {top_n} frequent {pos_label}s in {dataset_name} dataset:\")\n",
        "    for item, freq in most_common:\n",
        "        print(f\"{item}: {freq}\")\n",
        "\n",
        "    return most_common"
      ],
      "metadata": {
        "id": "kXc8h3H4ZOZ4"
      },
      "execution_count": 37,
      "outputs": []
    },
    {
      "cell_type": "code",
      "source": [
        "# get the top ingredients which are frequently seen in the recipe\n",
        "\n",
        "\n",
        "\n",
        "top_ingredients = get_top_frequent_items(ingredients, 'ingredient', 'Training')\n",
        "\n",
        "top_ingredients"
      ],
      "metadata": {
        "id": "W2jZCCf2MEke",
        "colab": {
          "base_uri": "https://localhost:8080/"
        },
        "outputId": "afd1d894-fb6c-4cc3-98bd-58e6da425fb9"
      },
      "execution_count": 38,
      "outputs": [
        {
          "output_type": "stream",
          "name": "stdout",
          "text": [
            "Top 10 frequent ingredients in Training dataset:\n",
            "powder: 91\n",
            "Salt: 68\n",
            "seeds: 67\n",
            "Oil: 61\n",
            "Coriander: 55\n",
            "chopped: 55\n",
            "Green: 53\n",
            "Red: 52\n",
            "Chilli: 50\n",
            "Leaves: 49\n"
          ]
        },
        {
          "output_type": "execute_result",
          "data": {
            "text/plain": [
              "[('powder', 91),\n",
              " ('Salt', 68),\n",
              " ('seeds', 67),\n",
              " ('Oil', 61),\n",
              " ('Coriander', 55),\n",
              " ('chopped', 55),\n",
              " ('Green', 53),\n",
              " ('Red', 52),\n",
              " ('Chilli', 50),\n",
              " ('Leaves', 49)]"
            ]
          },
          "metadata": {},
          "execution_count": 38
        }
      ]
    },
    {
      "cell_type": "code",
      "source": [
        "# get the top units which are frequently seen in the recipe\n",
        "\n",
        "\n",
        "top_units = get_top_frequent_items(units, 'unit', 'Training')\n",
        "\n",
        "print(\"\\n\")\n",
        "\n",
        "top_quantities = get_top_frequent_items(quantities, 'quantity', 'Training')"
      ],
      "metadata": {
        "id": "wipghGXAMYQR",
        "colab": {
          "base_uri": "https://localhost:8080/"
        },
        "outputId": "3f67e3cd-12bb-4bd4-a8ea-d9fc8dc5b38f"
      },
      "execution_count": 39,
      "outputs": [
        {
          "output_type": "stream",
          "name": "stdout",
          "text": [
            "Top 10 frequent units in Training dataset:\n",
            "teaspoon: 109\n",
            "cup: 91\n",
            "tablespoon: 63\n",
            "tablespoons: 48\n",
            "grams: 40\n",
            "inch: 36\n",
            "cups: 33\n",
            "sprig: 32\n",
            "teaspoons: 27\n",
            "cloves: 25\n",
            "\n",
            "\n",
            "Top 10 frequent quantitys in Training dataset:\n",
            "1: 136\n",
            "2: 112\n",
            "1/2: 95\n",
            "1/4: 72\n",
            "4: 43\n",
            "3: 43\n",
            "5: 20\n",
            "200: 14\n",
            "6: 12\n",
            "10: 11\n"
          ]
        }
      ]
    },
    {
      "cell_type": "markdown",
      "source": [
        "#### **4.5** *Plot Top 10 most frequent items* <font color = red>[2 marks]</font> <br>\n",
        "\n",
        "\n"
      ],
      "metadata": {
        "id": "9hldpjOHaPVZ"
      }
    },
    {
      "cell_type": "markdown",
      "source": [
        "Define a function ***plot_top_items*** to plot a bar graph on top 10 most frequent items for units and ingredients\n",
        "\n",
        "Here, item_list is used as a general parameter where you will call this function for ingredient and unit list"
      ],
      "metadata": {
        "id": "9ImpWstybDP_"
      }
    },
    {
      "cell_type": "code",
      "source": [
        "# define plot top items with parameters - top_item list, label to suggest whether its ingredient or unit, dataset_name\n",
        "\n",
        "def plot_top_items(top_items, label, dataset_name):\n",
        "    \"\"\"\n",
        "    Plots the top items with their frequencies.\n",
        "\n",
        "    Parameters:\n",
        "    - top_items: List of tuples (item, frequency)\n",
        "    - label: String label to describe the item type (e.g., 'ingredient', 'unit')\n",
        "    - dataset_name: String for the dataset name (e.g., 'Training', 'Validation')\n",
        "    \"\"\"\n",
        "    items = [item for item, freq in top_items]\n",
        "    frequencies = [freq for item, freq in top_items]\n",
        "\n",
        "    plt.figure(figsize=(10,6))\n",
        "    sns.barplot(x=frequencies, y=items, palette=\"viridis\")\n",
        "    plt.title(f\"Top {len(top_items)} {label}s in {dataset_name} Dataset\")\n",
        "    plt.xlabel(\"Frequency\")\n",
        "    plt.ylabel(label.capitalize())\n",
        "    plt.tight_layout()\n",
        "    plt.show()\n"
      ],
      "metadata": {
        "id": "Gmsq0L1vaxfc"
      },
      "execution_count": 40,
      "outputs": []
    },
    {
      "cell_type": "markdown",
      "source": [
        "#### **4.6** *Perform EDA analysis* <font color = red>[5 marks]</font> <br>\n",
        "\n",
        "Plot the bar plots for ingredients and units and provide the insights for training dataset\n",
        "\n",
        "---\n",
        "\n"
      ],
      "metadata": {
        "id": "rHusCfkJ4suh"
      }
    },
    {
      "cell_type": "code",
      "source": [
        "# plot the top frequent ingredients in training data\n",
        "\n",
        "plot_top_items(top_ingredients, 'ingredient', 'Training')\n"
      ],
      "metadata": {
        "id": "8seIqFKyYFmn",
        "colab": {
          "base_uri": "https://localhost:8080/",
          "height": 607
        },
        "outputId": "a0ea4048-7f84-403e-e08c-c03d4298ff2f"
      },
      "execution_count": 41,
      "outputs": [
        {
          "output_type": "display_data",
          "data": {
            "text/plain": [
              "<Figure size 1000x600 with 1 Axes>"
            ],
            "image/png": "[encoded data removed]"
          },
          "metadata": {}
        }
      ]
    },
    {
      "cell_type": "code",
      "source": [
        "# plot the top frequent units in training data\n",
        "\n",
        "plot_top_items(top_units, 'units', 'Training')"
      ],
      "metadata": {
        "id": "fbXAwiUkMtqT",
        "colab": {
          "base_uri": "https://localhost:8080/",
          "height": 607
        },
        "outputId": "be4ff712-8316-4a6e-e26e-ac7ce5fcd354"
      },
      "execution_count": 42,
      "outputs": [
        {
          "output_type": "display_data",
          "data": {
            "text/plain": [
              "<Figure size 1000x600 with 1 Axes>"
            ],
            "image/png": "[encoded data removed]"
          },
          "metadata": {}
        }
      ]
    },
    {
      "cell_type": "markdown",
      "source": [
        "## **5** Exploratory Recipe Data Analysis on Validation Dataset (Optional)<font color = red> [0 marks]</font> <br>"
      ],
      "metadata": {
        "id": "vYh7zbJpCajJ"
      }
    },
    {
      "cell_type": "markdown",
      "source": [
        "#### **5.1** *Execute EDA on Validation Dataset with insights (Optional)* <font color = red> [0 marks]</font> <br>\n",
        "Initialise the dataset_name as ***Validation*** and call the ***plot_top_items*** for top 10 ingredients and units in the recipe data\n",
        "Provide the insights for the same.\n",
        "\n"
      ],
      "metadata": {
        "id": "K2wPIaOGCmk2"
      }
    },
    {
      "cell_type": "code",
      "source": [
        "# initialise the dataset_name\n"
      ],
      "metadata": {
        "id": "atSk0ChLPXHd"
      },
      "execution_count": 43,
      "outputs": []
    },
    {
      "cell_type": "code",
      "source": [
        "# use extract and validate tokens, categorise tokens, get top frequent items for ingredient list and unit list on validation dataframe\n"
      ],
      "metadata": {
        "id": "AFPxheIuj1o8"
      },
      "execution_count": 44,
      "outputs": []
    },
    {
      "cell_type": "code",
      "source": [
        "# plot the top frequent ingredients in validation data\n"
      ],
      "metadata": {
        "id": "ikwox7ccMaU8"
      },
      "execution_count": 45,
      "outputs": []
    },
    {
      "cell_type": "code",
      "source": [
        "# plot the top frequent units in training data\n"
      ],
      "metadata": {
        "id": "9QjVeMWpPwKO"
      },
      "execution_count": 46,
      "outputs": []
    },
    {
      "cell_type": "markdown",
      "source": [
        "## **6** Feature Extraction For CRF Model <font color = red>[30 marks]</font> <br>"
      ],
      "metadata": {
        "id": "IvE92ait9GIS"
      }
    },
    {
      "cell_type": "markdown",
      "source": [
        "### **6.1** *Define a feature functions to take each token from recipe* <font color = red>[10 marks]</font>\n",
        "\n",
        "Define a function as ***word2features*** which takes a particular recipe and its index to work with all recipe input tokens and include custom key-value pairs.\n",
        "\n",
        "Also, use feature key-value pairs to mark the beginning and end of the sequence and to also check whether the word belongs to unit, quantity etc. Use keyword sets for unit and quantity for differentiating feature functions well. Also make use of relevant regex patterns on fractions, whole numbers etc."
      ],
      "metadata": {
        "id": "Gc5Q_Lj09GIT"
      }
    },
    {
      "cell_type": "markdown",
      "source": [
        "##### **6.1.1** **Define keywords for unit and quantity and create a quantity pattern to work on fractions, numbers and decimals** <font color = red>[3 marks]</font> <br>\n",
        "\n",
        "Create sets for **unit_keywords** and ***quantity_keywords*** and include all the words relevant for measuring the ingredients such as cup, tbsp, tsp etc. and in quantity keywords, include words such as half, quarter etc.\n",
        "\n",
        "Also suggested to use regex pattern as ***quantity_pattern*** to work with quantity in any format such as fractions, numbers and decimals.\n",
        "\n",
        "Then, load the spacy model and process the entire sentence"
      ],
      "metadata": {
        "id": "pyxmQ0PrhBra"
      }
    },
    {
      "cell_type": "code",
      "source": [
        "# define unit and quantity keywords along with quantity pattern\n",
        "\n",
        "# unit keywords\n",
        "\n",
        "unit_keywords = {\n",
        "    \"cup\", \"cups\", \"tbsp\", \"tablespoon\", \"tablespoons\", \"tsp\", \"teaspoon\", \"teaspoons\",\n",
        "    \"ml\", \"l\", \"litre\", \"litres\", \"g\", \"gram\", \"grams\", \"kg\", \"kilogram\", \"kilograms\",\n",
        "    \"oz\", \"ounce\", \"ounces\", \"lb\", \"pound\", \"pounds\", \"pinch\", \"clove\", \"cloves\",\n",
        "    \"can\", \"cans\", \"packet\", \"packets\", \"stick\", \"sticks\", \"slice\", \"slices\"\n",
        "}\n",
        "\n",
        "# quantity keywords\n",
        "\n",
        "quantity_keywords = {\n",
        "    \"half\", \"quarter\", \"third\", \"one\", \"two\", \"three\", \"four\", \"five\", \"six\", \"seven\",\n",
        "    \"eight\", \"nine\", \"ten\", \"1/2\", \"1/4\", \"3/4\", \"1/3\", \"2/3\"\n",
        "}\n",
        "\n",
        "\n",
        "\n",
        "\n",
        "quantity_pattern = re.compile(r'^\\d+(\\.\\d+)?$|^\\d+/\\d+$|^\\d+-\\d+/\\d+$')"
      ],
      "metadata": {
        "id": "GhFUPxeth0KI"
      },
      "execution_count": 47,
      "outputs": []
    },
    {
      "cell_type": "code",
      "source": [
        "# load spaCy model\n",
        "\n",
        "import spacy\n",
        "nlp = spacy.load(\"en_core_web_sm\")"
      ],
      "metadata": {
        "id": "9qmM8rw4VtJh"
      },
      "execution_count": 48,
      "outputs": []
    },
    {
      "cell_type": "markdown",
      "source": [
        "##### **6.1.2** **Define feature functions for CRF** <font color = red>[7 marks]</font> <br>\n",
        "\n",
        "Define ***word2features*** function and use the parameters such as sentence and its indexing as ***sent*** and ***i*** for extracting token level features for CRF Training.\n",
        "Build ***features*** dictionary, also mark the beginning and end of the sequence and use the ***unit_keywords***, ***quantity_keywords*** and ***quantity_pattern*** for knowing the presence of quantity or unit in the tokens"
      ],
      "metadata": {
        "id": "vrYD5tMNiFc-"
      }
    },
    {
      "cell_type": "markdown",
      "source": [
        "While building ***features*** dictionary, include\n",
        "- ***Core Features*** - The core features of a token should capture its lexical\n",
        "and grammatical properties. Include attributes like the raw token, its lemma, part-of-speech tag, dependency relation, and shape, as well as indicators for whether it's a stop word, digit, or punctuation. The details of the features are given below:\n",
        "\n",
        "    - `bias` - Constant feature with a fixed value of 1.0 to aid model learning.\n",
        "    - `token` - The lowercase form of the current token.\n",
        "    - `lemma` - The lowercase lemma (base form) of the token.\n",
        "    - `pos_tag` - Part-of-speech (POS) tag of the token.\n",
        "    - `tag` - Detailed POS tag of the token.\n",
        "    - `dep` - Dependency relation of the token in the sentence.\n",
        "    - `shape` - Shape of the token (e.g., \"Xxx\" for \"Milk\").\n",
        "    - `is_stop` - Boolean indicating if the token is a stopword.\n",
        "    - `is_digit` - Boolean indicating if the token consists of only digits.\n",
        "    - `has_digit` - Boolean indicating if the token contains at least one digit.\n",
        "    - `has_alpha` - Boolean indicating if the token contains at least one alphabetic character.\n",
        "    - `hyphenated` - Boolean indicating if the token contains a hyphen (-).\n",
        "    - `slash_present` - Boolean indicating if the token contains a slash (/).\n",
        "    - `is_title` - Boolean indicating if the token starts with an uppercase letter.\n",
        "    - `is_upper` - Boolean indicating if the token is fully uppercase.\n",
        "    - `is_punct` - Boolean indicating if the token is a punctuation mark.\n",
        "\n",
        "- ***Improved Quantity and Unit Detection*** - Use key-value pairs to mark the presence of quantities and units in the features dictionary. Utilise the unit_keywords, quantity_keywords, and quantity_pattern to identify and flag these elements. The details of the features are given below:\n",
        "\n",
        "    - `is_quantity` - Boolean indicating if the token matches a quantity pattern or keyword.\n",
        "    - `is_unit` - Boolean indicating if the token is a known measurement unit.\n",
        "    - `is_numeric` - Boolean indicating if the token matches a numeric pattern.\n",
        "    - `is_fraction` - Boolean indicating if the token represents a fraction (e.g., 1/2).\n",
        "    - `is_decimal` - Boolean indicating if the token represents a decimal number (e.g., 3.14).\n",
        "    - `preceding_word` - The previous token in the sentence, if available.\n",
        "    - `following_word` - The next token in the sentence, if available.\n",
        "\n",
        "- ***Contextual Features*** - Incorporate contextual information by adding features for the preceding and following tokens. Include indicators like BOS and EOS to mark the beginning and end of the sequence, and utilise unit_keywords, quantity_keywords, and quantity_pattern to identify the types of neighboring tokens. The features are given below:\n",
        "\n",
        "    - `prev_token` - The lowercase form of the previous token.\n",
        "    - `prev_is_quantity` - Boolean indicating if the previous token is a quantity.\n",
        "    - `prev_is_digit` - Boolean indicating if the previous token is a digit.\n",
        "    - `BOS` - Boolean indicating if the token is at the beginning of the sentence.\n",
        "    - `next_token` - The lowercase form of the next token.\n",
        "    - `next_is_unit` - Boolean indicating if the next token is a unit.\n",
        "    - `next_is_ingredient` - Boolean indicating if the next token is not a unit or quantity.\n",
        "    - `EOS` - Boolean indicating if the token is at the end of the sentence.\n",
        "\n"
      ],
      "metadata": {
        "id": "yAjf6j-dQtpr"
      }
    },
    {
      "cell_type": "code",
      "source": [
        "# define word2features for processing each token in the sentence sent by using index i.\n",
        "# use your own feature functions\n",
        "\n",
        "    # Process the entire sentence with spaCy\n",
        "\n",
        "\n",
        "def word2features(sent, i):\n",
        "    token = sent[i]\n",
        "\n",
        "    # --- Core Features ---\n",
        "    features = {\n",
        "        'bias': 1.0,\n",
        "        'token': token.text.lower(),\n",
        "        'lemma': token.lemma_.lower(),\n",
        "        'pos_tag': token.pos_,\n",
        "        'tag': token.tag_,\n",
        "        'dep': token.dep_,\n",
        "        'shape': token.shape_,\n",
        "        'is_stop': token.is_stop,\n",
        "        'is_digit': token.is_digit,\n",
        "        'has_digit': any(char.isdigit() for char in token.text),\n",
        "        'has_alpha': any(char.isalpha() for char in token.text),\n",
        "        'hyphenated': '-' in token.text,\n",
        "        'slash_present': '/' in token.text,\n",
        "        'is_title': token.text.istitle(),\n",
        "        'is_upper': token.text.isupper(),\n",
        "        'is_punct': token.is_punct\n",
        "    }\n",
        "\n",
        "    # --- Improved Quantity & Unit Detection ---\n",
        "    features.update({\n",
        "        'is_quantity': token.text.lower() in quantity_keywords or bool(quantity_pattern.match(token.text)),\n",
        "        'is_unit': token.text.lower() in unit_keywords,\n",
        "        'is_numeric': token.text.replace('.', '', 1).isdigit(),\n",
        "        'is_fraction': '/' in token.text and all(part.isdigit() for part in token.text.split('/') if part),\n",
        "        'is_decimal': '.' in token.text and token.text.replace('.', '', 1).isdigit()\n",
        "    })\n",
        "\n",
        "    # --- Contextual Features ---\n",
        "    if i > 0:\n",
        "        prev_token = sent[i - 1]\n",
        "        features.update({\n",
        "            'prev_token': prev_token.text.lower(),\n",
        "            'prev_is_quantity': prev_token.text.lower() in quantity_keywords or bool(quantity_pattern.match(prev_token.text)),\n",
        "            'prev_is_digit': prev_token.text.isdigit(),\n",
        "            'BOS': False\n",
        "        })\n",
        "    else:\n",
        "        features['BOS'] = True\n",
        "\n",
        "    if i < len(sent) - 1:\n",
        "        next_token = sent[i + 1]\n",
        "        features.update({\n",
        "            'next_token': next_token.text.lower(),\n",
        "            'next_is_unit': next_token.text.lower() in unit_keywords,\n",
        "            'next_is_ingredient': next_token.text.lower() not in unit_keywords.union(quantity_keywords),\n",
        "            'EOS': False\n",
        "        })\n",
        "    else:\n",
        "        features['EOS'] = True\n",
        "\n",
        "    return features\n"
      ],
      "metadata": {
        "id": "pRU7efTF9GIW"
      },
      "execution_count": 49,
      "outputs": []
    },
    {
      "cell_type": "code",
      "source": [
        "# def word2features(sent, i):\n",
        "#     token = sent[i]\n",
        "\n",
        "#     features = {\n",
        "#         'bias': 1.0,\n",
        "#         'word.lower()': token.text.lower(),\n",
        "#         'word.lemma_': token.lemma_,\n",
        "#         'word.pos_': token.pos_,\n",
        "#         'word.tag_': token.tag_,\n",
        "#         'word.dep_': token.dep_,\n",
        "#         'word.is_alpha': token.is_alpha,\n",
        "#         'word.is_stop': token.is_stop,\n",
        "#         'word.shape_': token.shape_,\n",
        "#         'word.is_digit': token.is_digit,\n",
        "#         'word.ent_type_': token.ent_type_,\n",
        "#     }\n",
        "\n",
        "#     # Add features about previous word (if exists)\n",
        "#     if i > 0:\n",
        "#         token1 = sent[i - 1]\n",
        "#         features.update({\n",
        "#             '-1:word.lower()': token1.text.lower(),\n",
        "#             '-1:word.pos_': token1.pos_,\n",
        "#             '-1:word.dep_': token1.dep_,\n",
        "#         })\n",
        "#     else:\n",
        "#         features['BOS'] = True  # Beginning of sentence\n",
        "\n",
        "#     # Add features about next word (if exists)\n",
        "#     if i < len(sent) - 1:\n",
        "#         token1 = sent[i + 1]\n",
        "#         features.update({\n",
        "#             '+1:word.lower()': token1.text.lower(),\n",
        "#             '+1:word.pos_': token1.pos_,\n",
        "#             '+1:word.dep_': token1.dep_,\n",
        "#         })\n",
        "#     else:\n",
        "#         features['EOS'] = True  # End of sentence\n",
        "\n",
        "#     return features\n"
      ],
      "metadata": {
        "id": "E2a092UStb-H"
      },
      "execution_count": 50,
      "outputs": []
    },
    {
      "cell_type": "markdown",
      "source": [
        "### **6.2** *Preparation of Recipe level features* <font color = red>[2 marks]</font>\n"
      ],
      "metadata": {
        "id": "hJm2nUw0998s"
      }
    },
    {
      "cell_type": "markdown",
      "source": [
        "##### **6.2.1** **Define function to work on all the recipes and call word2features for each recipe** <font color = red>[2 marks]</font> <br>\n",
        "\n",
        "Define ***sent2features*** function and inputs ***sent*** as a parameter and correctly generate feature functions for each token present in the sentence"
      ],
      "metadata": {
        "id": "KL19ooQejA5z"
      }
    },
    {
      "cell_type": "code",
      "source": [
        "# define sent2features by working on each token in the sentence and correctly generate dictionaries for features\n",
        "\n",
        "def sent2features(sent):\n",
        "    return [word2features(sent, i) for i in range(len(sent))]\n",
        "\n"
      ],
      "metadata": {
        "id": "NlQEifz-9GIW"
      },
      "execution_count": 51,
      "outputs": []
    },
    {
      "cell_type": "markdown",
      "source": [
        "### **6.3** *Convert X_train, X_val, y_train and y_val into train and validation feature sets and labels* <font color = red>[6 marks]</font>\n",
        "\n"
      ],
      "metadata": {
        "id": "FOK0t3c6-RiV"
      }
    },
    {
      "cell_type": "markdown",
      "source": [
        "##### **6.3.1** **Convert recipe into feature functions by using X_train and X_val** <font color = red>[2 marks]</font> <br>\n",
        "\n",
        "Create ***X_train_features*** and ***X_val_features*** as list to include the feature functions for each recipe present in training and validation sets"
      ],
      "metadata": {
        "id": "7tsd50b_nX0J"
      }
    },
    {
      "cell_type": "code",
      "source": [
        "# Convert input sentences into feature sets by taking training and validation dataset as X_train_features and X_val_features\n",
        "\n",
        "X_train_tokens = [nlp(\" \".join(sent)) for sent in X_train]\n",
        "X_val_tokens = [nlp(\" \".join(sent)) for sent in X_val]\n",
        "\n",
        "X_train_features = [sent2features(sent) for sent in X_train_tokens]\n",
        "X_val_features = [sent2features(sent) for sent in X_val_tokens]\n"
      ],
      "metadata": {
        "id": "-bVPGPa39GIW"
      },
      "execution_count": 52,
      "outputs": []
    },
    {
      "cell_type": "markdown",
      "source": [
        "##### **6.3.2** **Convert lables of y_train and y_val into list** <font color = red>[2 marks]</font> <br>\n",
        "\n",
        "Create ***y_train_labels*** and ***y_val_labels*** by using the list of y_train and y_val"
      ],
      "metadata": {
        "id": "jcwmwXn-n6cs"
      }
    },
    {
      "cell_type": "code",
      "source": [
        "# Convert labels into list as y_train_labels and y_val_labels\n",
        "\n",
        "y_train_labels = y_train\n",
        "y_val_labels = y_val\n"
      ],
      "metadata": {
        "id": "TiGgP3O6nfPg"
      },
      "execution_count": 53,
      "outputs": []
    },
    {
      "cell_type": "markdown",
      "source": [
        "##### **6.3.3** **Print the length of val and train features and labels** <font color = red>[2 marks]</font> <br>\n",
        "\n"
      ],
      "metadata": {
        "id": "4c-kjqtaoZvb"
      }
    },
    {
      "cell_type": "code",
      "source": [
        "# print the length of train features and labels\n",
        "\n",
        "print(\"Number of training feature sets:\", len(X_train_features))\n",
        "print(\"Number of training label sequences:\", len(y_train_labels))\n"
      ],
      "metadata": {
        "id": "mWId2Nn0okMV",
        "colab": {
          "base_uri": "https://localhost:8080/"
        },
        "outputId": "e758aa36-d069-4589-9140-5e421bdc6e53"
      },
      "execution_count": 54,
      "outputs": [
        {
          "output_type": "stream",
          "name": "stdout",
          "text": [
            "Number of training feature sets: 142\n",
            "Number of training label sequences: 142\n"
          ]
        }
      ]
    },
    {
      "cell_type": "code",
      "source": [
        "# print the length of validation features and labels\n",
        "\n",
        "print(\"Number of training feature sets:\", len(X_val_features))\n",
        "print(\"Number of training label sequences:\", len(y_val_labels))\n"
      ],
      "metadata": {
        "id": "LAt_m_LubRvn",
        "colab": {
          "base_uri": "https://localhost:8080/"
        },
        "outputId": "10c8df7f-3e00-4a7d-aba4-6746c0d2cf16"
      },
      "execution_count": 55,
      "outputs": [
        {
          "output_type": "stream",
          "name": "stdout",
          "text": [
            "Number of training feature sets: 62\n",
            "Number of training label sequences: 62\n"
          ]
        }
      ]
    },
    {
      "cell_type": "markdown",
      "source": [
        "### **6.4** *Applying weights to feature sets* <font color = red>[12 marks]</font> <br>\n",
        "\n",
        "\n"
      ],
      "metadata": {
        "id": "dZffFBH-pVhx"
      }
    },
    {
      "cell_type": "markdown",
      "source": [
        "##### **6.4.1** **Flatten the labels of y_train** <font color = red>[2 marks]</font> <br>\n",
        "\n",
        "Create ***y_train_flat*** to flatten the structure of nested y_train"
      ],
      "metadata": {
        "id": "Goh_fX-6pqhN"
      }
    },
    {
      "cell_type": "code",
      "source": [
        "# Flatten labels in y_train\n",
        "\n",
        "y_train_flat = [pos for seq in y_train for pos in seq]\n",
        "\n",
        "print(\"Length of flattened y_train:\", len(y_train_flat))"
      ],
      "metadata": {
        "id": "adLWfYn_p3gM",
        "colab": {
          "base_uri": "https://localhost:8080/"
        },
        "outputId": "585a68ee-feea-44b6-a932-cc86b56194e0"
      },
      "execution_count": 56,
      "outputs": [
        {
          "output_type": "stream",
          "name": "stdout",
          "text": [
            "Length of flattened y_train: 4632\n"
          ]
        }
      ]
    },
    {
      "cell_type": "markdown",
      "source": [
        "##### **6.4.2** **Count the labels present in training target dataset** <font color = red>[2 marks]</font> <br>\n",
        "\n",
        "Create ***label_counts*** to count the frequencies of labels present in y_train_flat and retrieve the total samples by using the values of label_counts as ***total_samples***"
      ],
      "metadata": {
        "id": "qk9UMBrbp9dp"
      }
    },
    {
      "cell_type": "code",
      "source": [
        "# Count label frequencies as label_counts and total_samples as getting the summation of values of label_counts\n",
        "\n",
        "\n",
        "label_counts = Counter(y_train_flat)\n",
        "total_samples = sum(label_counts.values())\n",
        "\n",
        "print(\"Label counts:\", label_counts)\n",
        "print(\"Total samples:\", total_samples)"
      ],
      "metadata": {
        "id": "6Kiu8jckqZSH",
        "colab": {
          "base_uri": "https://localhost:8080/"
        },
        "outputId": "21fd4b1a-2957-48ff-9fb7-3f1a2d29f5c6"
      },
      "execution_count": 57,
      "outputs": [
        {
          "output_type": "stream",
          "name": "stdout",
          "text": [
            "Label counts: Counter({'ingredient': 3411, 'quantity': 658, 'unit': 563})\n",
            "Total samples: 4632\n"
          ]
        }
      ]
    },
    {
      "cell_type": "markdown",
      "source": [
        "##### **6.4.3** **Compute weight_dict by using inverse frequency method for label weights** <font color = red>[2 marks]</font> <br>\n",
        "\n",
        "- Create ***weight_dict*** as dictionary with label and its inverse frequency count in ***label_counts***\n",
        "\n",
        "- Penalise ingredient label in the dictionary"
      ],
      "metadata": {
        "id": "4aCmDsZYqYA-"
      }
    },
    {
      "cell_type": "code",
      "source": [
        "# Compute class weights (inverse frequency method) by considering total_samples and label_counts\n",
        "\n",
        "class_weights = {label: total_samples / count for label, count in label_counts.items()}\n",
        "print(class_weights)\n"
      ],
      "metadata": {
        "id": "FpbEAZ3zqxEo",
        "colab": {
          "base_uri": "https://localhost:8080/"
        },
        "outputId": "76f8b588-77c9-440d-a45d-dff25dc47f0c"
      },
      "execution_count": 58,
      "outputs": [
        {
          "output_type": "stream",
          "name": "stdout",
          "text": [
            "{'quantity': 7.03951367781155, 'unit': 8.227353463587923, 'ingredient': 1.3579595426561126}\n"
          ]
        }
      ]
    },
    {
      "cell_type": "code",
      "source": [
        "# penalise ingredient label\n",
        "penalty_factor = 3\n",
        "\n",
        "class_weights['ingredient'] *= penalty_factor\n",
        "\n",
        "print(class_weights)\n"
      ],
      "metadata": {
        "id": "hns3HbujXESs",
        "colab": {
          "base_uri": "https://localhost:8080/"
        },
        "outputId": "1ad107fa-08f4-49f5-bd0e-d44ffe23f681"
      },
      "execution_count": 59,
      "outputs": [
        {
          "output_type": "stream",
          "name": "stdout",
          "text": [
            "{'quantity': 7.03951367781155, 'unit': 8.227353463587923, 'ingredient': 4.073878627968337}\n"
          ]
        }
      ]
    },
    {
      "cell_type": "markdown",
      "source": [
        "##### **6.4.4** **Extract features along with class weights** <font color = red>[4 marks]</font> <br>\n",
        "\n",
        "Define a function ***extract_features_with_class_weights*** to work with training and validation datasets and extract features by applying class weights\n",
        "\n",
        "\n",
        "\n"
      ],
      "metadata": {
        "id": "V8TdHMlPrhh8"
      }
    },
    {
      "cell_type": "code",
      "source": [
        "# Apply weights to feature extraction in extract_features_with_class_weights by using parameters such as X (input tokens), y(labels) and weight_dict (Class weights)\n",
        "\n",
        "def extract_features_with_class_weights(X, y, weight_dict):\n",
        "    \"\"\"\n",
        "    Extract features for each sentence and apply class weights to labels.\n",
        "\n",
        "    Parameters:\n",
        "    - X: list of tokenized sentences (list of lists of tokens)\n",
        "    - y: list of corresponding labels (list of lists of labels)\n",
        "    - weight_dict: dictionary mapping label -> weight\n",
        "\n",
        "    Returns:\n",
        "    - X_features: list of list of feature dicts (one dict per token)\n",
        "    - y_labels: unchanged labels (same structure as y)\n",
        "    - sample_weights: list of list of weights for each token\n",
        "    \"\"\"\n",
        "    X_features = []\n",
        "    sample_weights = []\n",
        "\n",
        "    for sent_tokens, sent_labels in zip(X, y):\n",
        "        # Extract features for sentence\n",
        "        sent_features = sent2features(sent_tokens)\n",
        "        X_features.append(sent_features)\n",
        "\n",
        "        # Assign weights for each label in the sentence\n",
        "        sent_weights = [weight_dict.get(label, 1.0) for label in sent_labels]\n",
        "        sample_weights.append(sent_weights)\n",
        "\n",
        "    return X_features, y, sample_weights\n"
      ],
      "metadata": {
        "id": "1km6GR4TjXPX"
      },
      "execution_count": 60,
      "outputs": []
    },
    {
      "cell_type": "markdown",
      "source": [
        "##### **6.4.5** **Execute extract_features_with_class_weights on training and validation datasets** <font color = red>[2 marks]</font> <br>\n",
        "\n",
        "Create ***X_train_weighted_features*** and ***X_val_weighted_features*** for extracting training and validation features along with their weights by calling ***extract_features_with_class_weights*** on the datasets"
      ],
      "metadata": {
        "id": "51ABmKwKsaiz"
      }
    },
    {
      "cell_type": "code",
      "source": [
        "# Apply manually computed class weights\n",
        "\n",
        "\n",
        "X_train_weighted_features, y_train_weighted, sample_weights_train = extract_features_with_class_weights(X_train_tokens, y_train, class_weights)\n",
        "X_val_weighted_features, y_val_weighted, sample_weights_val = extract_features_with_class_weights(X_val_tokens, y_val, class_weights)\n",
        "\n"
      ],
      "metadata": {
        "id": "-XUFFnm5sYE6"
      },
      "execution_count": 61,
      "outputs": []
    },
    {
      "cell_type": "code",
      "source": [
        "print(y_val_weighted[:5])"
      ],
      "metadata": {
        "colab": {
          "base_uri": "https://localhost:8080/"
        },
        "id": "NYhFg6OmlBCN",
        "outputId": "2fa342d2-e2e2-458d-845d-09a38fb6a19a"
      },
      "execution_count": 62,
      "outputs": [
        {
          "output_type": "stream",
          "name": "stdout",
          "text": [
            "[['quantity', 'unit', 'ingredient', 'quantity', 'unit', 'ingredient', 'quantity', 'ingredient', 'ingredient', 'unit', 'ingredient', 'unit', 'ingredient', 'ingredient', 'ingredient', 'unit', 'ingredient', 'ingredient', 'ingredient', 'ingredient', 'ingredient', 'ingredient', 'ingredient', 'ingredient', 'ingredient', 'ingredient', 'ingredient', 'ingredient', 'ingredient', 'ingredient', 'quantity', 'ingredient', 'ingredient', 'ingredient'], ['quantity', 'ingredient', 'ingredient', 'quantity', 'ingredient', 'ingredient', 'ingredient', 'ingredient', 'ingredient', 'ingredient', 'ingredient', 'ingredient', 'ingredient', 'quantity', 'ingredient', 'ingredient', 'unit', 'ingredient', 'ingredient', 'ingredient', 'ingredient', 'ingredient', 'ingredient', 'quantity', 'unit', 'ingredient', 'ingredient', 'ingredient', 'quantity', 'unit', 'ingredient', 'ingredient', 'ingredient', 'ingredient', 'ingredient', 'ingredient', 'ingredient', 'ingredient', 'ingredient', 'ingredient', 'ingredient', 'ingredient', 'unit', 'ingredient', 'ingredient', 'ingredient', 'ingredient', 'ingredient', 'ingredient', 'ingredient', 'ingredient', 'ingredient', 'ingredient', 'ingredient', 'ingredient'], ['quantity', 'unit', 'ingredient', 'ingredient', 'ingredient', 'ingredient', 'quantity', 'ingredient', 'ingredient', 'quantity', 'ingredient', 'ingredient', 'ingredient', 'ingredient', 'unit', 'ingredient', 'ingredient', 'ingredient', 'ingredient', 'ingredient', 'ingredient', 'quantity', 'unit'], ['quantity', 'ingredient', 'ingredient', 'quantity', 'unit', 'ingredient', 'ingredient', 'quantity', 'unit', 'ingredient', 'ingredient', 'unit', 'ingredient', 'ingredient', 'ingredient', 'ingredient', 'ingredient', 'quantity', 'ingredient', 'ingredient', 'quantity', 'ingredient', 'ingredient', 'quantity', 'ingredient', 'ingredient', 'ingredient', 'ingredient', 'ingredient', 'ingredient', 'ingredient', 'ingredient', 'ingredient', 'ingredient', 'unit', 'ingredient', 'ingredient', 'ingredient', 'ingredient'], ['quantity', 'unit', 'ingredient', 'quantity', 'ingredient', 'unit', 'ingredient', 'ingredient', 'ingredient', 'ingredient', 'ingredient', 'quantity', 'unit', 'ingredient', 'ingredient', 'ingredient', 'ingredient', 'ingredient', 'ingredient', 'quantity', 'ingredient', 'unit', 'ingredient', 'ingredient', 'ingredient', 'quantity', 'unit', 'ingredient', 'ingredient', 'ingredient', 'unit', 'ingredient', 'ingredient', 'quantity', 'ingredient', 'ingredient', 'ingredient', 'ingredient', 'ingredient', 'ingredient', 'ingredient', 'ingredient', 'ingredient', 'ingredient', 'ingredient', 'ingredient', 'unit', 'ingredient']]\n"
          ]
        }
      ]
    },
    {
      "cell_type": "code",
      "source": [
        "print(y_val_weighted==y_val)"
      ],
      "metadata": {
        "colab": {
          "base_uri": "https://localhost:8080/"
        },
        "id": "7JMqaZrBlf2v",
        "outputId": "574a24d9-87c5-4bca-c110-a571f0da23f7"
      },
      "execution_count": 63,
      "outputs": [
        {
          "output_type": "stream",
          "name": "stdout",
          "text": [
            "True\n"
          ]
        }
      ]
    },
    {
      "cell_type": "code",
      "source": [
        "print(y_val[:5])"
      ],
      "metadata": {
        "colab": {
          "base_uri": "https://localhost:8080/"
        },
        "id": "vT3mhfvMlCms",
        "outputId": "f6f7658a-e0b4-43e1-ce1a-95a7aee92f4b"
      },
      "execution_count": 64,
      "outputs": [
        {
          "output_type": "stream",
          "name": "stdout",
          "text": [
            "[['quantity', 'unit', 'ingredient', 'quantity', 'unit', 'ingredient', 'quantity', 'ingredient', 'ingredient', 'unit', 'ingredient', 'unit', 'ingredient', 'ingredient', 'ingredient', 'unit', 'ingredient', 'ingredient', 'ingredient', 'ingredient', 'ingredient', 'ingredient', 'ingredient', 'ingredient', 'ingredient', 'ingredient', 'ingredient', 'ingredient', 'ingredient', 'ingredient', 'quantity', 'ingredient', 'ingredient', 'ingredient'], ['quantity', 'ingredient', 'ingredient', 'quantity', 'ingredient', 'ingredient', 'ingredient', 'ingredient', 'ingredient', 'ingredient', 'ingredient', 'ingredient', 'ingredient', 'quantity', 'ingredient', 'ingredient', 'unit', 'ingredient', 'ingredient', 'ingredient', 'ingredient', 'ingredient', 'ingredient', 'quantity', 'unit', 'ingredient', 'ingredient', 'ingredient', 'quantity', 'unit', 'ingredient', 'ingredient', 'ingredient', 'ingredient', 'ingredient', 'ingredient', 'ingredient', 'ingredient', 'ingredient', 'ingredient', 'ingredient', 'ingredient', 'unit', 'ingredient', 'ingredient', 'ingredient', 'ingredient', 'ingredient', 'ingredient', 'ingredient', 'ingredient', 'ingredient', 'ingredient', 'ingredient', 'ingredient'], ['quantity', 'unit', 'ingredient', 'ingredient', 'ingredient', 'ingredient', 'quantity', 'ingredient', 'ingredient', 'quantity', 'ingredient', 'ingredient', 'ingredient', 'ingredient', 'unit', 'ingredient', 'ingredient', 'ingredient', 'ingredient', 'ingredient', 'ingredient', 'quantity', 'unit'], ['quantity', 'ingredient', 'ingredient', 'quantity', 'unit', 'ingredient', 'ingredient', 'quantity', 'unit', 'ingredient', 'ingredient', 'unit', 'ingredient', 'ingredient', 'ingredient', 'ingredient', 'ingredient', 'quantity', 'ingredient', 'ingredient', 'quantity', 'ingredient', 'ingredient', 'quantity', 'ingredient', 'ingredient', 'ingredient', 'ingredient', 'ingredient', 'ingredient', 'ingredient', 'ingredient', 'ingredient', 'ingredient', 'unit', 'ingredient', 'ingredient', 'ingredient', 'ingredient'], ['quantity', 'unit', 'ingredient', 'quantity', 'ingredient', 'unit', 'ingredient', 'ingredient', 'ingredient', 'ingredient', 'ingredient', 'quantity', 'unit', 'ingredient', 'ingredient', 'ingredient', 'ingredient', 'ingredient', 'ingredient', 'quantity', 'ingredient', 'unit', 'ingredient', 'ingredient', 'ingredient', 'quantity', 'unit', 'ingredient', 'ingredient', 'ingredient', 'unit', 'ingredient', 'ingredient', 'quantity', 'ingredient', 'ingredient', 'ingredient', 'ingredient', 'ingredient', 'ingredient', 'ingredient', 'ingredient', 'ingredient', 'ingredient', 'ingredient', 'ingredient', 'unit', 'ingredient']]\n"
          ]
        }
      ]
    },
    {
      "cell_type": "markdown",
      "source": [
        "## **7** Model Building and Training <font color = red>[10 marks]</font> <br>"
      ],
      "metadata": {
        "id": "Aah9bFDlAuzI"
      }
    },
    {
      "cell_type": "markdown",
      "source": [
        "### **7.1** *Initialise the CRF model and train it* <font color = red>[5 marks]</font>\n",
        "Train the CRF model with the specified hyperparameters such as\n",
        "\n",
        "### CRF Model Hyperparameters Explanation\n",
        "\n",
        "| Parameter                  | Description |\n",
        "|----------------------------|-------------|\n",
        "| **algorithm='lbfgs'**      | Optimisation algorithm used for training. `lbfgs` (Limited-memory Broyden–Fletcher–Goldfarb–Shanno) is a quasi-Newton optimisation method. |\n",
        "| **c1=0.5**                | L1 regularisation term to control sparsity in feature weights. Helps in feature selection. |\n",
        "| **c2=1.0**                | L2 regularisation term to prevent overfitting by penalising large weights. |\n",
        "| **max_iterations=100**     | Maximum number of iterations for model training. Higher values allow more convergence but increase computation time. |\n",
        "| **all_possible_transitions=True** | Ensures that all possible state transitions are considered in training, making the model more robust. |\n",
        "\n",
        "Use weight_dict for training CRF\n",
        "\n"
      ],
      "metadata": {
        "id": "axrvWR9TAuzJ"
      }
    },
    {
      "cell_type": "code",
      "source": [
        "# initialise CRF model with the specified hyperparameters and use weight_dict\n",
        "\n",
        "# train the CRF model with the weighted training data\n",
        "\n",
        "\n",
        "from sklearn_crfsuite import CRF\n",
        "\n",
        "crf = CRF(\n",
        "    algorithm='lbfgs',            # Optimization algorithm\n",
        "    c1=0.5,                      # L1 regularization coefficient\n",
        "    c2=1.0,                      # L2 regularization coefficient\n",
        "    max_iterations=100,          # Max training iterations\n",
        "    all_possible_transitions=True\n",
        ")\n",
        "\n",
        "# Train the CRF model on weighted training data\n",
        "crf.fit(X_train_weighted_features, y_train_weighted)\n"
      ],
      "metadata": {
        "id": "jig2J_n1AuzM",
        "colab": {
          "base_uri": "https://localhost:8080/",
          "height": 97
        },
        "outputId": "3c954aa8-a286-4972-d54d-11c66e5e172b"
      },
      "execution_count": 65,
      "outputs": [
        {
          "output_type": "execute_result",
          "data": {
            "text/plain": [
              "CRF(algorithm='lbfgs', all_possible_transitions=True, c1=0.5, c2=1.0,\n",
              "    max_iterations=100)"
            ],
            "text/html": [
              "<style>#sk-container-id-1 {\n",
              "  /* Definition of color scheme common for light and dark mode */\n",
              "  --sklearn-color-text: #000;\n",
              "  --sklearn-color-text-muted: #666;\n",
              "  --sklearn-color-line: gray;\n",
              "  /* Definition of color scheme for unfitted estimators */\n",
              "  --sklearn-color-unfitted-level-0: #fff5e6;\n",
              "  --sklearn-color-unfitted-level-1: #f6e4d2;\n",
              "  --sklearn-color-unfitted-level-2: #ffe0b3;\n",
              "  --sklearn-color-unfitted-level-3: chocolate;\n",
              "  /* Definition of color scheme for fitted estimators */\n",
              "  --sklearn-color-fitted-level-0: #f0f8ff;\n",
              "  --sklearn-color-fitted-level-1: #d4ebff;\n",
              "  --sklearn-color-fitted-level-2: #b3dbfd;\n",
              "  --sklearn-color-fitted-level-3: cornflowerblue;\n",
              "\n",
              "  /* Specific color for light theme */\n",
              "  --sklearn-color-text-on-default-background: var(--sg-text-color, var(--theme-code-foreground, var(--jp-content-font-color1, black)));\n",
              "  --sklearn-color-background: var(--sg-background-color, var(--theme-background, var(--jp-layout-color0, white)));\n",
              "  --sklearn-color-border-box: var(--sg-text-color, var(--theme-code-foreground, var(--jp-content-font-color1, black)));\n",
              "  --sklearn-color-icon: #696969;\n",
              "\n",
              "  @media (prefers-color-scheme: dark) {\n",
              "    /* Redefinition of color scheme for dark theme */\n",
              "    --sklearn-color-text-on-default-background: var(--sg-text-color, var(--theme-code-foreground, var(--jp-content-font-color1, white)));\n",
              "    --sklearn-color-background: var(--sg-background-color, var(--theme-background, var(--jp-layout-color0, #111)));\n",
              "    --sklearn-color-border-box: var(--sg-text-color, var(--theme-code-foreground, var(--jp-content-font-color1, white)));\n",
              "    --sklearn-color-icon: #878787;\n",
              "  }\n",
              "}\n",
              "\n",
              "#sk-container-id-1 {\n",
              "  color: var(--sklearn-color-text);\n",
              "}\n",
              "\n",
              "#sk-container-id-1 pre {\n",
              "  padding: 0;\n",
              "}\n",
              "\n",
              "#sk-container-id-1 input.sk-hidden--visually {\n",
              "  border: 0;\n",
              "  clip: rect(1px 1px 1px 1px);\n",
              "  clip: rect(1px, 1px, 1px, 1px);\n",
              "  height: 1px;\n",
              "  margin: -1px;\n",
              "  overflow: hidden;\n",
              "  padding: 0;\n",
              "  position: absolute;\n",
              "  width: 1px;\n",
              "}\n",
              "\n",
              "#sk-container-id-1 div.sk-dashed-wrapped {\n",
              "  border: 1px dashed var(--sklearn-color-line);\n",
              "  margin: 0 0.4em 0.5em 0.4em;\n",
              "  box-sizing: border-box;\n",
              "  padding-bottom: 0.4em;\n",
              "  background-color: var(--sklearn-color-background);\n",
              "}\n",
              "\n",
              "#sk-container-id-1 div.sk-container {\n",
              "  /* jupyter's `normalize.less` sets `[hidden] { display: none; }`\n",
              "     but bootstrap.min.css set `[hidden] { display: none !important; }`\n",
              "     so we also need the `!important` here to be able to override the\n",
              "     default hidden behavior on the sphinx rendered scikit-learn.org.\n",
              "     See: https://github.com/scikit-learn/scikit-learn/issues/21755 */\n",
              "  display: inline-block !important;\n",
              "  position: relative;\n",
              "}\n",
              "\n",
              "#sk-container-id-1 div.sk-text-repr-fallback {\n",
              "  display: none;\n",
              "}\n",
              "\n",
              "div.sk-parallel-item,\n",
              "div.sk-serial,\n",
              "div.sk-item {\n",
              "  /* draw centered vertical line to link estimators */\n",
              "  background-image: linear-gradient(var(--sklearn-color-text-on-default-background), var(--sklearn-color-text-on-default-background));\n",
              "  background-size: 2px 100%;\n",
              "  background-repeat: no-repeat;\n",
              "  background-position: center center;\n",
              "}\n",
              "\n",
              "/* Parallel-specific style estimator block */\n",
              "\n",
              "#sk-container-id-1 div.sk-parallel-item::after {\n",
              "  content: \"\";\n",
              "  width: 100%;\n",
              "  border-bottom: 2px solid var(--sklearn-color-text-on-default-background);\n",
              "  flex-grow: 1;\n",
              "}\n",
              "\n",
              "#sk-container-id-1 div.sk-parallel {\n",
              "  display: flex;\n",
              "  align-items: stretch;\n",
              "  justify-content: center;\n",
              "  background-color: var(--sklearn-color-background);\n",
              "  position: relative;\n",
              "}\n",
              "\n",
              "#sk-container-id-1 div.sk-parallel-item {\n",
              "  display: flex;\n",
              "  flex-direction: column;\n",
              "}\n",
              "\n",
              "#sk-container-id-1 div.sk-parallel-item:first-child::after {\n",
              "  align-self: flex-end;\n",
              "  width: 50%;\n",
              "}\n",
              "\n",
              "#sk-container-id-1 div.sk-parallel-item:last-child::after {\n",
              "  align-self: flex-start;\n",
              "  width: 50%;\n",
              "}\n",
              "\n",
              "#sk-container-id-1 div.sk-parallel-item:only-child::after {\n",
              "  width: 0;\n",
              "}\n",
              "\n",
              "/* Serial-specific style estimator block */\n",
              "\n",
              "#sk-container-id-1 div.sk-serial {\n",
              "  display: flex;\n",
              "  flex-direction: column;\n",
              "  align-items: center;\n",
              "  background-color: var(--sklearn-color-background);\n",
              "  padding-right: 1em;\n",
              "  padding-left: 1em;\n",
              "}\n",
              "\n",
              "\n",
              "/* Toggleable style: style used for estimator/Pipeline/ColumnTransformer box that is\n",
              "clickable and can be expanded/collapsed.\n",
              "- Pipeline and ColumnTransformer use this feature and define the default style\n",
              "- Estimators will overwrite some part of the style using the `sk-estimator` class\n",
              "*/\n",
              "\n",
              "/* Pipeline and ColumnTransformer style (default) */\n",
              "\n",
              "#sk-container-id-1 div.sk-toggleable {\n",
              "  /* Default theme specific background. It is overwritten whether we have a\n",
              "  specific estimator or a Pipeline/ColumnTransformer */\n",
              "  background-color: var(--sklearn-color-background);\n",
              "}\n",
              "\n",
              "/* Toggleable label */\n",
              "#sk-container-id-1 label.sk-toggleable__label {\n",
              "  cursor: pointer;\n",
              "  display: flex;\n",
              "  width: 100%;\n",
              "  margin-bottom: 0;\n",
              "  padding: 0.5em;\n",
              "  box-sizing: border-box;\n",
              "  text-align: center;\n",
              "  align-items: start;\n",
              "  justify-content: space-between;\n",
              "  gap: 0.5em;\n",
              "}\n",
              "\n",
              "#sk-container-id-1 label.sk-toggleable__label .caption {\n",
              "  font-size: 0.6rem;\n",
              "  font-weight: lighter;\n",
              "  color: var(--sklearn-color-text-muted);\n",
              "}\n",
              "\n",
              "#sk-container-id-1 label.sk-toggleable__label-arrow:before {\n",
              "  /* Arrow on the left of the label */\n",
              "  content: \"▸\";\n",
              "  float: left;\n",
              "  margin-right: 0.25em;\n",
              "  color: var(--sklearn-color-icon);\n",
              "}\n",
              "\n",
              "#sk-container-id-1 label.sk-toggleable__label-arrow:hover:before {\n",
              "  color: var(--sklearn-color-text);\n",
              "}\n",
              "\n",
              "/* Toggleable content - dropdown */\n",
              "\n",
              "#sk-container-id-1 div.sk-toggleable__content {\n",
              "  max-height: 0;\n",
              "  max-width: 0;\n",
              "  overflow: hidden;\n",
              "  text-align: left;\n",
              "  /* unfitted */\n",
              "  background-color: var(--sklearn-color-unfitted-level-0);\n",
              "}\n",
              "\n",
              "#sk-container-id-1 div.sk-toggleable__content.fitted {\n",
              "  /* fitted */\n",
              "  background-color: var(--sklearn-color-fitted-level-0);\n",
              "}\n",
              "\n",
              "#sk-container-id-1 div.sk-toggleable__content pre {\n",
              "  margin: 0.2em;\n",
              "  border-radius: 0.25em;\n",
              "  color: var(--sklearn-color-text);\n",
              "  /* unfitted */\n",
              "  background-color: var(--sklearn-color-unfitted-level-0);\n",
              "}\n",
              "\n",
              "#sk-container-id-1 div.sk-toggleable__content.fitted pre {\n",
              "  /* unfitted */\n",
              "  background-color: var(--sklearn-color-fitted-level-0);\n",
              "}\n",
              "\n",
              "#sk-container-id-1 input.sk-toggleable__control:checked~div.sk-toggleable__content {\n",
              "  /* Expand drop-down */\n",
              "  max-height: 200px;\n",
              "  max-width: 100%;\n",
              "  overflow: auto;\n",
              "}\n",
              "\n",
              "#sk-container-id-1 input.sk-toggleable__control:checked~label.sk-toggleable__label-arrow:before {\n",
              "  content: \"▾\";\n",
              "}\n",
              "\n",
              "/* Pipeline/ColumnTransformer-specific style */\n",
              "\n",
              "#sk-container-id-1 div.sk-label input.sk-toggleable__control:checked~label.sk-toggleable__label {\n",
              "  color: var(--sklearn-color-text);\n",
              "  background-color: var(--sklearn-color-unfitted-level-2);\n",
              "}\n",
              "\n",
              "#sk-container-id-1 div.sk-label.fitted input.sk-toggleable__control:checked~label.sk-toggleable__label {\n",
              "  background-color: var(--sklearn-color-fitted-level-2);\n",
              "}\n",
              "\n",
              "/* Estimator-specific style */\n",
              "\n",
              "/* Colorize estimator box */\n",
              "#sk-container-id-1 div.sk-estimator input.sk-toggleable__control:checked~label.sk-toggleable__label {\n",
              "  /* unfitted */\n",
              "  background-color: var(--sklearn-color-unfitted-level-2);\n",
              "}\n",
              "\n",
              "#sk-container-id-1 div.sk-estimator.fitted input.sk-toggleable__control:checked~label.sk-toggleable__label {\n",
              "  /* fitted */\n",
              "  background-color: var(--sklearn-color-fitted-level-2);\n",
              "}\n",
              "\n",
              "#sk-container-id-1 div.sk-label label.sk-toggleable__label,\n",
              "#sk-container-id-1 div.sk-label label {\n",
              "  /* The background is the default theme color */\n",
              "  color: var(--sklearn-color-text-on-default-background);\n",
              "}\n",
              "\n",
              "/* On hover, darken the color of the background */\n",
              "#sk-container-id-1 div.sk-label:hover label.sk-toggleable__label {\n",
              "  color: var(--sklearn-color-text);\n",
              "  background-color: var(--sklearn-color-unfitted-level-2);\n",
              "}\n",
              "\n",
              "/* Label box, darken color on hover, fitted */\n",
              "#sk-container-id-1 div.sk-label.fitted:hover label.sk-toggleable__label.fitted {\n",
              "  color: var(--sklearn-color-text);\n",
              "  background-color: var(--sklearn-color-fitted-level-2);\n",
              "}\n",
              "\n",
              "/* Estimator label */\n",
              "\n",
              "#sk-container-id-1 div.sk-label label {\n",
              "  font-family: monospace;\n",
              "  font-weight: bold;\n",
              "  display: inline-block;\n",
              "  line-height: 1.2em;\n",
              "}\n",
              "\n",
              "#sk-container-id-1 div.sk-label-container {\n",
              "  text-align: center;\n",
              "}\n",
              "\n",
              "/* Estimator-specific */\n",
              "#sk-container-id-1 div.sk-estimator {\n",
              "  font-family: monospace;\n",
              "  border: 1px dotted var(--sklearn-color-border-box);\n",
              "  border-radius: 0.25em;\n",
              "  box-sizing: border-box;\n",
              "  margin-bottom: 0.5em;\n",
              "  /* unfitted */\n",
              "  background-color: var(--sklearn-color-unfitted-level-0);\n",
              "}\n",
              "\n",
              "#sk-container-id-1 div.sk-estimator.fitted {\n",
              "  /* fitted */\n",
              "  background-color: var(--sklearn-color-fitted-level-0);\n",
              "}\n",
              "\n",
              "/* on hover */\n",
              "#sk-container-id-1 div.sk-estimator:hover {\n",
              "  /* unfitted */\n",
              "  background-color: var(--sklearn-color-unfitted-level-2);\n",
              "}\n",
              "\n",
              "#sk-container-id-1 div.sk-estimator.fitted:hover {\n",
              "  /* fitted */\n",
              "  background-color: var(--sklearn-color-fitted-level-2);\n",
              "}\n",
              "\n",
              "/* Specification for estimator info (e.g. \"i\" and \"?\") */\n",
              "\n",
              "/* Common style for \"i\" and \"?\" */\n",
              "\n",
              ".sk-estimator-doc-link,\n",
              "a:link.sk-estimator-doc-link,\n",
              "a:visited.sk-estimator-doc-link {\n",
              "  float: right;\n",
              "  font-size: smaller;\n",
              "  line-height: 1em;\n",
              "  font-family: monospace;\n",
              "  background-color: var(--sklearn-color-background);\n",
              "  border-radius: 1em;\n",
              "  height: 1em;\n",
              "  width: 1em;\n",
              "  text-decoration: none !important;\n",
              "  margin-left: 0.5em;\n",
              "  text-align: center;\n",
              "  /* unfitted */\n",
              "  border: var(--sklearn-color-unfitted-level-1) 1pt solid;\n",
              "  color: var(--sklearn-color-unfitted-level-1);\n",
              "}\n",
              "\n",
              ".sk-estimator-doc-link.fitted,\n",
              "a:link.sk-estimator-doc-link.fitted,\n",
              "a:visited.sk-estimator-doc-link.fitted {\n",
              "  /* fitted */\n",
              "  border: var(--sklearn-color-fitted-level-1) 1pt solid;\n",
              "  color: var(--sklearn-color-fitted-level-1);\n",
              "}\n",
              "\n",
              "/* On hover */\n",
              "div.sk-estimator:hover .sk-estimator-doc-link:hover,\n",
              ".sk-estimator-doc-link:hover,\n",
              "div.sk-label-container:hover .sk-estimator-doc-link:hover,\n",
              ".sk-estimator-doc-link:hover {\n",
              "  /* unfitted */\n",
              "  background-color: var(--sklearn-color-unfitted-level-3);\n",
              "  color: var(--sklearn-color-background);\n",
              "  text-decoration: none;\n",
              "}\n",
              "\n",
              "div.sk-estimator.fitted:hover .sk-estimator-doc-link.fitted:hover,\n",
              ".sk-estimator-doc-link.fitted:hover,\n",
              "div.sk-label-container:hover .sk-estimator-doc-link.fitted:hover,\n",
              ".sk-estimator-doc-link.fitted:hover {\n",
              "  /* fitted */\n",
              "  background-color: var(--sklearn-color-fitted-level-3);\n",
              "  color: var(--sklearn-color-background);\n",
              "  text-decoration: none;\n",
              "}\n",
              "\n",
              "/* Span, style for the box shown on hovering the info icon */\n",
              ".sk-estimator-doc-link span {\n",
              "  display: none;\n",
              "  z-index: 9999;\n",
              "  position: relative;\n",
              "  font-weight: normal;\n",
              "  right: .2ex;\n",
              "  padding: .5ex;\n",
              "  margin: .5ex;\n",
              "  width: min-content;\n",
              "  min-width: 20ex;\n",
              "  max-width: 50ex;\n",
              "  color: var(--sklearn-color-text);\n",
              "  box-shadow: 2pt 2pt 4pt #999;\n",
              "  /* unfitted */\n",
              "  background: var(--sklearn-color-unfitted-level-0);\n",
              "  border: .5pt solid var(--sklearn-color-unfitted-level-3);\n",
              "}\n",
              "\n",
              ".sk-estimator-doc-link.fitted span {\n",
              "  /* fitted */\n",
              "  background: var(--sklearn-color-fitted-level-0);\n",
              "  border: var(--sklearn-color-fitted-level-3);\n",
              "}\n",
              "\n",
              ".sk-estimator-doc-link:hover span {\n",
              "  display: block;\n",
              "}\n",
              "\n",
              "/* \"?\"-specific style due to the `<a>` HTML tag */\n",
              "\n",
              "#sk-container-id-1 a.estimator_doc_link {\n",
              "  float: right;\n",
              "  font-size: 1rem;\n",
              "  line-height: 1em;\n",
              "  font-family: monospace;\n",
              "  background-color: var(--sklearn-color-background);\n",
              "  border-radius: 1rem;\n",
              "  height: 1rem;\n",
              "  width: 1rem;\n",
              "  text-decoration: none;\n",
              "  /* unfitted */\n",
              "  color: var(--sklearn-color-unfitted-level-1);\n",
              "  border: var(--sklearn-color-unfitted-level-1) 1pt solid;\n",
              "}\n",
              "\n",
              "#sk-container-id-1 a.estimator_doc_link.fitted {\n",
              "  /* fitted */\n",
              "  border: var(--sklearn-color-fitted-level-1) 1pt solid;\n",
              "  color: var(--sklearn-color-fitted-level-1);\n",
              "}\n",
              "\n",
              "/* On hover */\n",
              "#sk-container-id-1 a.estimator_doc_link:hover {\n",
              "  /* unfitted */\n",
              "  background-color: var(--sklearn-color-unfitted-level-3);\n",
              "  color: var(--sklearn-color-background);\n",
              "  text-decoration: none;\n",
              "}\n",
              "\n",
              "#sk-container-id-1 a.estimator_doc_link.fitted:hover {\n",
              "  /* fitted */\n",
              "  background-color: var(--sklearn-color-fitted-level-3);\n",
              "}\n",
              "</style><div id=\"sk-container-id-1\" class=\"sk-top-container\"><div class=\"sk-text-repr-fallback\"><pre>CRF(algorithm=&#x27;lbfgs&#x27;, all_possible_transitions=True, c1=0.5, c2=1.0,\n",
              "    max_iterations=100)</pre><b>In a Jupyter environment, please rerun this cell to show the HTML representation or trust the notebook. <br />On GitHub, the HTML representation is unable to render, please try loading this page with nbviewer.org.</b></div><div class=\"sk-container\" hidden><div class=\"sk-item\"><div class=\"sk-estimator fitted sk-toggleable\"><input class=\"sk-toggleable__control sk-hidden--visually\" id=\"sk-estimator-id-1\" type=\"checkbox\" checked><label for=\"sk-estimator-id-1\" class=\"sk-toggleable__label fitted sk-toggleable__label-arrow\"><div><div>CRF</div></div><div><span class=\"sk-estimator-doc-link fitted\">i<span>Fitted</span></span></div></label><div class=\"sk-toggleable__content fitted\"><pre>CRF(algorithm=&#x27;lbfgs&#x27;, all_possible_transitions=True, c1=0.5, c2=1.0,\n",
              "    max_iterations=100)</pre></div> </div></div></div></div>"
            ]
          },
          "metadata": {},
          "execution_count": 65
        }
      ]
    },
    {
      "cell_type": "markdown",
      "source": [
        "### **7.2** *Evaluation of Training Dataset using CRF model* <font color = red>[4 marks]</font>\n",
        "Evaluate on training dataset using CRF by using flat classification report and confusion matrix"
      ],
      "metadata": {
        "id": "sDLwvYqOF6m_"
      }
    },
    {
      "cell_type": "code",
      "source": [
        "# evaluate on the training dataset\n",
        "\n",
        "from sklearn.metrics import classification_report, accuracy_score\n",
        "import itertools\n",
        "\n",
        "y_train_pred = crf.predict(X_train_weighted_features)\n",
        "\n",
        "# Flatten the lists of lists for evaluation\n",
        "y_true_flat = list(itertools.chain.from_iterable(y_train))\n",
        "y_pred_flat = list(itertools.chain.from_iterable(y_train_pred))\n",
        "\n",
        "# Print accuracy\n",
        "print(\"Training Accuracy:\", accuracy_score(y_true_flat, y_pred_flat))\n",
        "\n"
      ],
      "metadata": {
        "id": "Us57jWSQ6laL",
        "colab": {
          "base_uri": "https://localhost:8080/"
        },
        "outputId": "6e48b17d-91a9-4525-b545-cd52025ad77f"
      },
      "execution_count": 66,
      "outputs": [
        {
          "output_type": "stream",
          "name": "stdout",
          "text": [
            "Training Accuracy: 0.9911485319516408\n"
          ]
        }
      ]
    },
    {
      "cell_type": "code",
      "source": [
        "# specify the flat classification report by using training data for evaluation\n",
        "print(classification_report(y_true_flat, y_pred_flat))"
      ],
      "metadata": {
        "id": "gNGZnd-D6oq3",
        "colab": {
          "base_uri": "https://localhost:8080/"
        },
        "outputId": "91dbc911-aae4-448b-bca6-de0ddc9f55e5"
      },
      "execution_count": 67,
      "outputs": [
        {
          "output_type": "stream",
          "name": "stdout",
          "text": [
            "              precision    recall  f1-score   support\n",
            "\n",
            "  ingredient       0.99      1.00      0.99      3411\n",
            "    quantity       1.00      0.98      0.99       658\n",
            "        unit       0.98      0.96      0.97       563\n",
            "\n",
            "    accuracy                           0.99      4632\n",
            "   macro avg       0.99      0.98      0.99      4632\n",
            "weighted avg       0.99      0.99      0.99      4632\n",
            "\n"
          ]
        }
      ]
    },
    {
      "cell_type": "code",
      "source": [
        "# create a confusion matrix on training datset\n",
        "import matplotlib.pyplot as plt\n",
        "from sklearn.metrics import confusion_matrix, ConfusionMatrixDisplay\n",
        "import itertools\n",
        "\n",
        "# Predict on training data\n",
        "y_train_pred = crf.predict(X_train_weighted_features)\n",
        "\n",
        "# Flatten the lists of lists for evaluation\n",
        "y_true_flat = list(itertools.chain.from_iterable(y_train))\n",
        "y_pred_flat = list(itertools.chain.from_iterable(y_train_pred))\n",
        "\n",
        "# Get unique labels\n",
        "labels = list(set(y_true_flat))  # all unique labels in training data\n",
        "\n",
        "# Compute confusion matrix\n",
        "cm = confusion_matrix(y_true_flat, y_pred_flat, labels=labels)\n",
        "\n",
        "# Plot confusion matrix\n",
        "disp = ConfusionMatrixDisplay(confusion_matrix=cm, display_labels=labels)\n",
        "fig, ax = plt.subplots(figsize=(12,12))\n",
        "disp.plot(ax=ax, cmap=plt.cm.Blues, xticks_rotation=45)\n",
        "plt.title(\"Confusion Matrix on Training Data\")\n",
        "plt.show()\n"
      ],
      "metadata": {
        "id": "GqP9WBvJ63qm",
        "colab": {
          "base_uri": "https://localhost:8080/",
          "height": 961
        },
        "outputId": "9dd4d4e0-d2e0-4d1e-c531-d31fba1ae892"
      },
      "execution_count": 68,
      "outputs": [
        {
          "output_type": "display_data",
          "data": {
            "text/plain": [
              "<Figure size 1200x1200 with 2 Axes>"
            ],
            "image/png": "[encoded data removed]"
          },
          "metadata": {}
        }
      ]
    },
    {
      "cell_type": "markdown",
      "source": [
        "### **7.3** *Save the CRF model* <font color = red>[1 marks]</font>\n",
        "Save the CRF model"
      ],
      "metadata": {
        "id": "Yps2-XscGuHc"
      }
    },
    {
      "cell_type": "code",
      "source": [
        "# dump the model using joblib as crf_model.pkl\n",
        "import joblib\n",
        "\n",
        "# Assuming your trained CRF model is stored in the variable 'crf'\n",
        "joblib.dump(crf, 'crf_model.pkl')\n",
        "\n",
        "print(\"Model saved as crf_model.pkl\")"
      ],
      "metadata": {
        "id": "iAYDLatcGzEN",
        "colab": {
          "base_uri": "https://localhost:8080/"
        },
        "outputId": "a7f37222-8653-4683-e316-bc0e3c41b2d1"
      },
      "execution_count": 69,
      "outputs": [
        {
          "output_type": "stream",
          "name": "stdout",
          "text": [
            "Model saved as crf_model.pkl\n"
          ]
        }
      ]
    },
    {
      "cell_type": "markdown",
      "source": [
        "## **8** Prediction and Model Evaluation <font color = red>[3 marks]</font> <br>"
      ],
      "metadata": {
        "id": "agM32oUlBo1K"
      }
    },
    {
      "cell_type": "markdown",
      "source": [
        "### **8.1** *Predict and Evaluate the CRF model on validation set* <font color = red>[3 marks]</font>\n",
        "Evaluate the metrics for CRF model by using flat classification report and confusion matrix\n",
        "\n",
        "\n"
      ],
      "metadata": {
        "id": "b5BYmkTrBo1L"
      }
    },
    {
      "cell_type": "code",
      "source": [
        "# predict the crf model on validation dataset\n",
        "crf = joblib.load('crf_model.pkl')\n",
        "y_val_pred = crf.predict(X_val_weighted_features)"
      ],
      "metadata": {
        "id": "qhH6Sp8tBo1M"
      },
      "execution_count": 70,
      "outputs": []
    },
    {
      "cell_type": "code",
      "source": [
        "# specify flat classification report\n",
        "\n",
        "from sklearn.metrics import classification_report\n",
        "\n",
        "# Flatten the list of lists for true and predicted labels\n",
        "y_val_true_flat = [label for sent in y_val for label in sent]\n",
        "y_val_pred_flat = [label for sent in y_val_pred for label in sent]\n",
        "\n",
        "# Generate and print the classification report\n",
        "print(classification_report(y_val_true_flat, y_val_pred_flat))\n"
      ],
      "metadata": {
        "id": "SMktt_w1kovB",
        "colab": {
          "base_uri": "https://localhost:8080/"
        },
        "outputId": "81ea7934-304d-471e-a7fd-ef4befc65add"
      },
      "execution_count": 71,
      "outputs": [
        {
          "output_type": "stream",
          "name": "stdout",
          "text": [
            "              precision    recall  f1-score   support\n",
            "\n",
            "  ingredient       0.99      0.99      0.99      1611\n",
            "    quantity       0.99      0.97      0.98       294\n",
            "        unit       0.96      0.95      0.95       244\n",
            "\n",
            "    accuracy                           0.98      2149\n",
            "   macro avg       0.98      0.97      0.97      2149\n",
            "weighted avg       0.98      0.98      0.98      2149\n",
            "\n"
          ]
        }
      ]
    },
    {
      "cell_type": "code",
      "source": [
        "# create a confusion matrix on validation dataset\n",
        "\n",
        "acc = accuracy_score(y_val_true_flat, y_val_pred_flat)\n",
        "\n",
        "print(f\"Validation Accuracy: {acc:.4f}\")\n",
        "cm1= confusion_matrix(y_val_true_flat, y_val_pred_flat)\n",
        "plt.figure(figsize=(8,6))\n",
        "sns.heatmap(cm1, annot=True, fmt='d', xticklabels=sorted(set(y_val_true_flat)), yticklabels=sorted(set(y_val_pred_flat)))\n",
        "plt.xlabel('Predicted Label')\n",
        "plt.ylabel('True Label')\n",
        "plt.title('Confusion Matrix on Validation Set')\n",
        "plt.show()"
      ],
      "metadata": {
        "id": "eI2tUBRRk4jK",
        "colab": {
          "base_uri": "https://localhost:8080/",
          "height": 582
        },
        "outputId": "d84b759b-878a-4003-8d14-35bde70fdac6"
      },
      "execution_count": 72,
      "outputs": [
        {
          "output_type": "stream",
          "name": "stdout",
          "text": [
            "Validation Accuracy: 0.9842\n"
          ]
        },
        {
          "output_type": "display_data",
          "data": {
            "text/plain": [
              "<Figure size 800x600 with 2 Axes>"
            ],
            "image/png": "[encoded data removed]"
          },
          "metadata": {}
        }
      ]
    },
    {
      "cell_type": "markdown",
      "source": [
        "## **9** Error Analysis on Validation Data <font color = red>[10 marks]</font> <br>\n",
        "Investigate misclassified samples in validation dataset and provide the insights\n"
      ],
      "metadata": {
        "id": "8pD6hD3NEV3q"
      }
    },
    {
      "cell_type": "markdown",
      "source": [
        "### **9.1** *Investigate misclassified samples in validation dataset* <font color = red>[8 marks]</font>\n",
        "\n"
      ],
      "metadata": {
        "id": "R9tUvjrzFjib"
      }
    },
    {
      "cell_type": "markdown",
      "source": [
        "##### **9.1.1** Flatten the labels of validation data and initialise error data <font color = red>[2 marks]</font> <br>\n",
        "\n",
        "\n",
        "\n",
        "Flatten the true and predicted labels and initialise the error data as ***error_data***"
      ],
      "metadata": {
        "id": "Lb15uObqxKe4"
      }
    },
    {
      "cell_type": "code",
      "source": [
        "# flatten Labels and Initialise Error Data\n",
        "\n",
        "y_val_true_flat = [label for sent in y_val for label in sent]\n",
        "y_val_pred_flat = [label for sent in y_val_pred for label in sent]\n",
        "\n",
        "errors = []\n",
        "\n",
        "\n",
        "for i, (true_label, pred_label) in enumerate(zip(y_val_true_flat, y_val_pred_flat)):\n",
        "    if true_label != pred_label:\n",
        "        errors.append({\n",
        "            'index': i,\n",
        "            'true_label': true_label,\n",
        "            'predicted_label': pred_label\n",
        "        })"
      ],
      "metadata": {
        "id": "gbgYAjd-UzkI"
      },
      "execution_count": 73,
      "outputs": []
    },
    {
      "cell_type": "markdown",
      "source": [
        "##### **9.1.2** Iterate the validation data and collect Error Information<font color = red> [2 marks]</font> <br>\n",
        "\n",
        "\n",
        "\n",
        "Iterate through validation data (X_val, y_val_labels, y_pred_val) and compare true vs. predicted labels. Collect error details, including surrounding context, previous/next tokens, and class weights, then store them in error_data"
      ],
      "metadata": {
        "id": "LS9foWfdXHOg"
      }
    },
    {
      "cell_type": "code",
      "source": [
        "# iterate and collect Error Information\n",
        "\n",
        "            # get previous and next tokens with handling for boundary cases\n",
        "\n",
        "error_data = []\n",
        "\n",
        "for sent_idx, (features, true_labels, pred_labels) in enumerate(zip(X_val_weighted_features, y_val, y_val_pred)):\n",
        "    for tok_idx in range(len(features)):\n",
        "        true_label = true_labels[tok_idx]\n",
        "        pred_label = pred_labels[tok_idx]\n",
        "\n",
        "        if true_label != pred_label:\n",
        "            token = features[tok_idx].get('token', '')\n",
        "\n",
        "            # Previous and next tokens (also lowercased)\n",
        "            prev_token = features[tok_idx - 1].get('token', '') if tok_idx > 0 else None\n",
        "            next_token = features[tok_idx + 1].get('token', '') if tok_idx < len(features) - 1 else None\n",
        "\n",
        "            error_data.append({\n",
        "                'sentence': sent_idx,\n",
        "                'token': token,\n",
        "                'true': true_label,\n",
        "                'pred': pred_label,\n",
        "                'prev_token': prev_token,\n",
        "                'next_token': next_token\n",
        "            })\n"
      ],
      "metadata": {
        "id": "_VKLc1s0U0yY"
      },
      "execution_count": 74,
      "outputs": []
    },
    {
      "cell_type": "markdown",
      "source": [
        "##### **9.1.3** Create dataframe from error_data and print overall accuracy <font color = red>[1 marks]</font> <br>\n",
        "\n",
        "\n",
        "\n",
        "Change error_data into dataframe and then use it to illustrate the overall accuracy of validation data"
      ],
      "metadata": {
        "id": "G_R8CCAFZSzF"
      }
    },
    {
      "cell_type": "code",
      "source": [
        "# Create DataFrame and Print Overall Accuracy\n",
        "\n",
        "df_errors = pd.DataFrame(error_data)\n",
        "\n",
        "df_errors['context'] = (\n",
        "    df_errors['prev_token'].fillna('') + ' ' +\n",
        "    df_errors['token'] + ' ' +\n",
        "    df_errors['next_token'].fillna('')\n",
        ")\n",
        "\n",
        "print(\" Sample Errors:\")\n",
        "print(df_errors[['token', 'true', 'pred', 'context']].head())\n",
        "\n",
        "y_val_true_flat = [label for sent in y_val for label in sent]\n",
        "y_val_pred_flat = [label for sent in y_val_pred for label in sent]\n",
        "\n",
        "# print overall accuracy\n",
        "\n",
        "accuracy = accuracy_score(y_val_true_flat, y_val_pred_flat)\n",
        "print(f\"\\n Overall Validation Accuracy: {accuracy:.2f}\")\n"
      ],
      "metadata": {
        "id": "fUffRP7XU3YC",
        "colab": {
          "base_uri": "https://localhost:8080/"
        },
        "outputId": "eaa42758-5a7a-43ce-db40-ca236b245f9e"
      },
      "execution_count": 75,
      "outputs": [
        {
          "output_type": "stream",
          "name": "stdout",
          "text": [
            " Sample Errors:\n",
            "    token        true        pred                 context\n",
            "0   small        unit  ingredient         12 small onions\n",
            "1  cloves  ingredient        unit         2 cloves garlic\n",
            "2   green        unit  ingredient   ginger green chillies\n",
            "3  cloves  ingredient        unit         3 cloves garlic\n",
            "4  stalks        unit  ingredient  tomatoes stalks spring\n",
            "\n",
            " Overall Validation Accuracy: 0.98\n"
          ]
        }
      ]
    },
    {
      "cell_type": "markdown",
      "source": [
        "##### **9.1.4** Analyse errors by label type<font color = red> [3 marks]</font> <br>\n",
        "Analyse errors found in the validation data by each label and display their class weights along with accuracy and also display the error dataframe with token,  previous token, next token, true label, predicted label and context"
      ],
      "metadata": {
        "id": "8OUYHFmgZhgJ"
      }
    },
    {
      "cell_type": "code",
      "source": [
        "df_errors.head()"
      ],
      "metadata": {
        "colab": {
          "base_uri": "https://localhost:8080/",
          "height": 206
        },
        "id": "icsuV9Uwl7Fn",
        "outputId": "a3c57d25-2813-4bc0-8daa-72620a1026f0"
      },
      "execution_count": 76,
      "outputs": [
        {
          "output_type": "execute_result",
          "data": {
            "text/plain": [
              "   sentence   token        true        pred prev_token next_token                 context\n",
              "0         0   small        unit  ingredient         12     onions         12 small onions\n",
              "1         0  cloves  ingredient        unit          2     garlic         2 cloves garlic\n",
              "2         0   green        unit  ingredient     ginger   chillies   ginger green chillies\n",
              "3         4  cloves  ingredient        unit          3     garlic         3 cloves garlic\n",
              "4        16  stalks        unit  ingredient   tomatoes     spring  tomatoes stalks spring"
            ],
            "text/html": [
              "\n",
              "  <div id=\"df-ec6ffc15-31c5-48ba-a4a1-64a8fb8b1e3b\" class=\"colab-df-container\">\n",
              "    <div>\n",
              "<style scoped>\n",
              "    .dataframe tbody tr th:only-of-type {\n",
              "        vertical-align: middle;\n",
              "    }\n",
              "\n",
              "    .dataframe tbody tr th {\n",
              "        vertical-align: top;\n",
              "    }\n",
              "\n",
              "    .dataframe thead th {\n",
              "        text-align: right;\n",
              "    }\n",
              "</style>\n",
              "<table border=\"1\" class=\"dataframe\">\n",
              "  <thead>\n",
              "    <tr style=\"text-align: right;\">\n",
              "      <th></th>\n",
              "      <th>sentence</th>\n",
              "      <th>token</th>\n",
              "      <th>true</th>\n",
              "      <th>pred</th>\n",
              "      <th>prev_token</th>\n",
              "      <th>next_token</th>\n",
              "      <th>context</th>\n",
              "    </tr>\n",
              "  </thead>\n",
              "  <tbody>\n",
              "    <tr>\n",
              "      <th>0</th>\n",
              "      <td>0</td>\n",
              "      <td>small</td>\n",
              "      <td>unit</td>\n",
              "      <td>ingredient</td>\n",
              "      <td>12</td>\n",
              "      <td>onions</td>\n",
              "      <td>12 small onions</td>\n",
              "    </tr>\n",
              "    <tr>\n",
              "      <th>1</th>\n",
              "      <td>0</td>\n",
              "      <td>cloves</td>\n",
              "      <td>ingredient</td>\n",
              "      <td>unit</td>\n",
              "      <td>2</td>\n",
              "      <td>garlic</td>\n",
              "      <td>2 cloves garlic</td>\n",
              "    </tr>\n",
              "    <tr>\n",
              "      <th>2</th>\n",
              "      <td>0</td>\n",
              "      <td>green</td>\n",
              "      <td>unit</td>\n",
              "      <td>ingredient</td>\n",
              "      <td>ginger</td>\n",
              "      <td>chillies</td>\n",
              "      <td>ginger green chillies</td>\n",
              "    </tr>\n",
              "    <tr>\n",
              "      <th>3</th>\n",
              "      <td>4</td>\n",
              "      <td>cloves</td>\n",
              "      <td>ingredient</td>\n",
              "      <td>unit</td>\n",
              "      <td>3</td>\n",
              "      <td>garlic</td>\n",
              "      <td>3 cloves garlic</td>\n",
              "    </tr>\n",
              "    <tr>\n",
              "      <th>4</th>\n",
              "      <td>16</td>\n",
              "      <td>stalks</td>\n",
              "      <td>unit</td>\n",
              "      <td>ingredient</td>\n",
              "      <td>tomatoes</td>\n",
              "      <td>spring</td>\n",
              "      <td>tomatoes stalks spring</td>\n",
              "    </tr>\n",
              "  </tbody>\n",
              "</table>\n",
              "</div>\n",
              "    <div class=\"colab-df-buttons\">\n",
              "\n",
              "  <div class=\"colab-df-container\">\n",
              "    <button class=\"colab-df-convert\" onclick=\"convertToInteractive('df-ec6ffc15-31c5-48ba-a4a1-64a8fb8b1e3b')\"\n",
              "            title=\"Convert this dataframe to an interactive table.\"\n",
              "            style=\"display:none;\">\n",
              "\n",
              "  <svg xmlns=\"http://www.w3.org/2000/svg\" height=\"24px\" viewBox=\"0 -960 960 960\">\n",
              "    <path d=\"M120-120v-720h720v720H120Zm60-500h600v-160H180v160Zm220 220h160v-160H400v160Zm0 220h160v-160H400v160ZM180-400h160v-160H180v160Zm440 0h160v-160H620v160ZM180-180h160v-160H180v160Zm440 0h160v-160H620v160Z\"/>\n",
              "  </svg>\n",
              "    </button>\n",
              "\n",
              "  <style>\n",
              "    .colab-df-container {\n",
              "      display:flex;\n",
              "      gap: 12px;\n",
              "    }\n",
              "\n",
              "    .colab-df-convert {\n",
              "      background-color: #E8F0FE;\n",
              "      border: none;\n",
              "      border-radius: 50%;\n",
              "      cursor: pointer;\n",
              "      display: none;\n",
              "      fill: #1967D2;\n",
              "      height: 32px;\n",
              "      padding: 0 0 0 0;\n",
              "      width: 32px;\n",
              "    }\n",
              "\n",
              "    .colab-df-convert:hover {\n",
              "      background-color: #E2EBFA;\n",
              "      box-shadow: 0px 1px 2px rgba(60, 64, 67, 0.3), 0px 1px 3px 1px rgba(60, 64, 67, 0.15);\n",
              "      fill: #174EA6;\n",
              "    }\n",
              "\n",
              "    .colab-df-buttons div {\n",
              "      margin-bottom: 4px;\n",
              "    }\n",
              "\n",
              "    [theme=dark] .colab-df-convert {\n",
              "      background-color: #3B4455;\n",
              "      fill: #D2E3FC;\n",
              "    }\n",
              "\n",
              "    [theme=dark] .colab-df-convert:hover {\n",
              "      background-color: #434B5C;\n",
              "      box-shadow: 0px 1px 3px 1px rgba(0, 0, 0, 0.15);\n",
              "      filter: drop-shadow(0px 1px 2px rgba(0, 0, 0, 0.3));\n",
              "      fill: #FFFFFF;\n",
              "    }\n",
              "  </style>\n",
              "\n",
              "    <script>\n",
              "      const buttonEl =\n",
              "        document.querySelector('#df-ec6ffc15-31c5-48ba-a4a1-64a8fb8b1e3b button.colab-df-convert');\n",
              "      buttonEl.style.display =\n",
              "        google.colab.kernel.accessAllowed ? 'block' : 'none';\n",
              "\n",
              "      async function convertToInteractive(key) {\n",
              "        const element = document.querySelector('#df-ec6ffc15-31c5-48ba-a4a1-64a8fb8b1e3b');\n",
              "        const dataTable =\n",
              "          await google.colab.kernel.invokeFunction('convertToInteractive',\n",
              "                                                    [key], {});\n",
              "        if (!dataTable) return;\n",
              "\n",
              "        const docLinkHtml = 'Like what you see? Visit the ' +\n",
              "          '<a target=\"_blank\" href=https://colab.research.google.com/notebooks/data_table.ipynb>data table notebook</a>'\n",
              "          + ' to learn more about interactive tables.';\n",
              "        element.innerHTML = '';\n",
              "        dataTable['output_type'] = 'display_data';\n",
              "        await google.colab.output.renderOutput(dataTable, element);\n",
              "        const docLink = document.createElement('div');\n",
              "        docLink.innerHTML = docLinkHtml;\n",
              "        element.appendChild(docLink);\n",
              "      }\n",
              "    </script>\n",
              "  </div>\n",
              "\n",
              "\n",
              "    <div id=\"df-a287fcb1-47cb-4c44-8391-0d87c3e8f3ff\">\n",
              "      <button class=\"colab-df-quickchart\" onclick=\"quickchart('df-a287fcb1-47cb-4c44-8391-0d87c3e8f3ff')\"\n",
              "                title=\"Suggest charts\"\n",
              "                style=\"display:none;\">\n",
              "\n",
              "<svg xmlns=\"http://www.w3.org/2000/svg\" height=\"24px\"viewBox=\"0 0 24 24\"\n",
              "     width=\"24px\">\n",
              "    <g>\n",
              "        <path d=\"M19 3H5c-1.1 0-2 .9-2 2v14c0 1.1.9 2 2 2h14c1.1 0 2-.9 2-2V5c0-1.1-.9-2-2-2zM9 17H7v-7h2v7zm4 0h-2V7h2v10zm4 0h-2v-4h2v4z\"/>\n",
              "    </g>\n",
              "</svg>\n",
              "      </button>\n",
              "\n",
              "<style>\n",
              "  .colab-df-quickchart {\n",
              "      --bg-color: #E8F0FE;\n",
              "      --fill-color: #1967D2;\n",
              "      --hover-bg-color: #E2EBFA;\n",
              "      --hover-fill-color: #174EA6;\n",
              "      --disabled-fill-color: #AAA;\n",
              "      --disabled-bg-color: #DDD;\n",
              "  }\n",
              "\n",
              "  [theme=dark] .colab-df-quickchart {\n",
              "      --bg-color: #3B4455;\n",
              "      --fill-color: #D2E3FC;\n",
              "      --hover-bg-color: #434B5C;\n",
              "      --hover-fill-color: #FFFFFF;\n",
              "      --disabled-bg-color: #3B4455;\n",
              "      --disabled-fill-color: #666;\n",
              "  }\n",
              "\n",
              "  .colab-df-quickchart {\n",
              "    background-color: var(--bg-color);\n",
              "    border: none;\n",
              "    border-radius: 50%;\n",
              "    cursor: pointer;\n",
              "    display: none;\n",
              "    fill: var(--fill-color);\n",
              "    height: 32px;\n",
              "    padding: 0;\n",
              "    width: 32px;\n",
              "  }\n",
              "\n",
              "  .colab-df-quickchart:hover {\n",
              "    background-color: var(--hover-bg-color);\n",
              "    box-shadow: 0 1px 2px rgba(60, 64, 67, 0.3), 0 1px 3px 1px rgba(60, 64, 67, 0.15);\n",
              "    fill: var(--button-hover-fill-color);\n",
              "  }\n",
              "\n",
              "  .colab-df-quickchart-complete:disabled,\n",
              "  .colab-df-quickchart-complete:disabled:hover {\n",
              "    background-color: var(--disabled-bg-color);\n",
              "    fill: var(--disabled-fill-color);\n",
              "    box-shadow: none;\n",
              "  }\n",
              "\n",
              "  .colab-df-spinner {\n",
              "    border: 2px solid var(--fill-color);\n",
              "    border-color: transparent;\n",
              "    border-bottom-color: var(--fill-color);\n",
              "    animation:\n",
              "      spin 1s steps(1) infinite;\n",
              "  }\n",
              "\n",
              "  @keyframes spin {\n",
              "    0% {\n",
              "      border-color: transparent;\n",
              "      border-bottom-color: var(--fill-color);\n",
              "      border-left-color: var(--fill-color);\n",
              "    }\n",
              "    20% {\n",
              "      border-color: transparent;\n",
              "      border-left-color: var(--fill-color);\n",
              "      border-top-color: var(--fill-color);\n",
              "    }\n",
              "    30% {\n",
              "      border-color: transparent;\n",
              "      border-left-color: var(--fill-color);\n",
              "      border-top-color: var(--fill-color);\n",
              "      border-right-color: var(--fill-color);\n",
              "    }\n",
              "    40% {\n",
              "      border-color: transparent;\n",
              "      border-right-color: var(--fill-color);\n",
              "      border-top-color: var(--fill-color);\n",
              "    }\n",
              "    60% {\n",
              "      border-color: transparent;\n",
              "      border-right-color: var(--fill-color);\n",
              "    }\n",
              "    80% {\n",
              "      border-color: transparent;\n",
              "      border-right-color: var(--fill-color);\n",
              "      border-bottom-color: var(--fill-color);\n",
              "    }\n",
              "    90% {\n",
              "      border-color: transparent;\n",
              "      border-bottom-color: var(--fill-color);\n",
              "    }\n",
              "  }\n",
              "</style>\n",
              "\n",
              "      <script>\n",
              "        async function quickchart(key) {\n",
              "          const quickchartButtonEl =\n",
              "            document.querySelector('#' + key + ' button');\n",
              "          quickchartButtonEl.disabled = true;  // To prevent multiple clicks.\n",
              "          quickchartButtonEl.classList.add('colab-df-spinner');\n",
              "          try {\n",
              "            const charts = await google.colab.kernel.invokeFunction(\n",
              "                'suggestCharts', [key], {});\n",
              "          } catch (error) {\n",
              "            console.error('Error during call to suggestCharts:', error);\n",
              "          }\n",
              "          quickchartButtonEl.classList.remove('colab-df-spinner');\n",
              "          quickchartButtonEl.classList.add('colab-df-quickchart-complete');\n",
              "        }\n",
              "        (() => {\n",
              "          let quickchartButtonEl =\n",
              "            document.querySelector('#df-a287fcb1-47cb-4c44-8391-0d87c3e8f3ff button');\n",
              "          quickchartButtonEl.style.display =\n",
              "            google.colab.kernel.accessAllowed ? 'block' : 'none';\n",
              "        })();\n",
              "      </script>\n",
              "    </div>\n",
              "\n",
              "    </div>\n",
              "  </div>\n"
            ],
            "application/vnd.google.colaboratory.intrinsic+json": {
              "type": "dataframe",
              "variable_name": "df_errors",
              "summary": "{\n  \"name\": \"df_errors\",\n  \"rows\": 34,\n  \"fields\": [\n    {\n      \"column\": \"sentence\",\n      \"properties\": {\n        \"dtype\": \"number\",\n        \"std\": 17,\n        \"min\": 0,\n        \"max\": 59,\n        \"num_unique_values\": 20,\n        \"samples\": [\n          0,\n          57,\n          53\n        ],\n        \"semantic_type\": \"\",\n        \"description\": \"\"\n      }\n    },\n    {\n      \"column\": \"token\",\n      \"properties\": {\n        \"dtype\": \"string\",\n        \"num_unique_values\": 23,\n        \"samples\": [\n          \"a\",\n          \"long\",\n          \"small\"\n        ],\n        \"semantic_type\": \"\",\n        \"description\": \"\"\n      }\n    },\n    {\n      \"column\": \"true\",\n      \"properties\": {\n        \"dtype\": \"category\",\n        \"num_unique_values\": 3,\n        \"samples\": [\n          \"unit\",\n          \"ingredient\",\n          \"quantity\"\n        ],\n        \"semantic_type\": \"\",\n        \"description\": \"\"\n      }\n    },\n    {\n      \"column\": \"pred\",\n      \"properties\": {\n        \"dtype\": \"category\",\n        \"num_unique_values\": 3,\n        \"samples\": [\n          \"ingredient\",\n          \"unit\",\n          \"quantity\"\n        ],\n        \"semantic_type\": \"\",\n        \"description\": \"\"\n      }\n    },\n    {\n      \"column\": \"prev_token\",\n      \"properties\": {\n        \"dtype\": \"string\",\n        \"num_unique_values\": 25,\n        \"samples\": [\n          \"demerara\",\n          \"seeds\",\n          \"12\"\n        ],\n        \"semantic_type\": \"\",\n        \"description\": \"\"\n      }\n    },\n    {\n      \"column\": \"next_token\",\n      \"properties\": {\n        \"dtype\": \"string\",\n        \"num_unique_values\": 23,\n        \"samples\": [\n          \"pinch\",\n          \"ginger\",\n          \"onions\"\n        ],\n        \"semantic_type\": \"\",\n        \"description\": \"\"\n      }\n    },\n    {\n      \"column\": \"context\",\n      \"properties\": {\n        \"dtype\": \"string\",\n        \"num_unique_values\": 33,\n        \"samples\": [\n          \"a pinch \",\n          \"salt inch ginger\",\n          \"pur is 2\"\n        ],\n        \"semantic_type\": \"\",\n        \"description\": \"\"\n      }\n    }\n  ]\n}"
            }
          },
          "metadata": {},
          "execution_count": 76
        }
      ]
    },
    {
      "cell_type": "code",
      "source": [
        "error_counts = df_errors['true'].value_counts()\n",
        "print(\"Errors by true label:\")\n",
        "print(error_counts)\n"
      ],
      "metadata": {
        "colab": {
          "base_uri": "https://localhost:8080/"
        },
        "id": "WBz85P2-lwvI",
        "outputId": "cd2a9228-09b4-47b1-e6b1-60300c2953fd"
      },
      "execution_count": 77,
      "outputs": [
        {
          "output_type": "stream",
          "name": "stdout",
          "text": [
            "Errors by true label:\n",
            "true\n",
            "unit          13\n",
            "ingredient    13\n",
            "quantity       8\n",
            "Name: count, dtype: int64\n"
          ]
        }
      ]
    },
    {
      "cell_type": "code",
      "source": [
        "y_val_true_flat = [label for sent in y_val for label in sent]\n",
        "y_val_pred_flat = [label for sent in y_val_pred for label in sent]\n",
        "\n",
        "label_counts = Counter(y_val_true_flat)\n",
        "total_tokens = sum(label_counts.values())\n",
        "\n",
        "print(\"\\n Class weights (true label frequencies):\")\n",
        "for label, count in label_counts.items():\n",
        "  percent = round((count / total_tokens) * 100, 2)\n",
        "  print(label + \" : \" + str(count) + \" (\" + str(percent) + \"%)\")\n",
        "\n",
        "\n",
        "accuracy = accuracy_score(y_val_true_flat, y_val_pred_flat)\n",
        "print(f\"\\n Overall token-level accuracy: {accuracy:.2%}\")"
      ],
      "metadata": {
        "colab": {
          "base_uri": "https://localhost:8080/"
        },
        "id": "eP6IF16NmZ8d",
        "outputId": "813516e3-34b9-442a-f4e0-03f3c06319e3"
      },
      "execution_count": 78,
      "outputs": [
        {
          "output_type": "stream",
          "name": "stdout",
          "text": [
            "\n",
            " Class weights (true label frequencies):\n",
            "quantity : 294 (13.68%)\n",
            "unit : 244 (11.35%)\n",
            "ingredient : 1611 (74.97%)\n",
            "\n",
            " Overall token-level accuracy: 98.42%\n"
          ]
        }
      ]
    },
    {
      "cell_type": "code",
      "source": [
        "# Analyse errors found in the validation data by each label\n",
        "# and display their class weights along with accuracy\n",
        "# and display the error dataframe with token, previous token, next token, true label, predicted label and context\n",
        "\n",
        "\n",
        "label_counts = Counter(y_val_true_flat)\n",
        "total_tokens = sum(label_counts.values())\n",
        "\n",
        "print(\"\\n Class weights (true label frequencies):\")\n",
        "for label, count in label_counts.items():\n",
        "    percent = round((count / total_tokens) * 100, 2)\n",
        "    print(label + \" : \" + str(count) + \" (\" + str(percent) + \"%)\")\n",
        "\n",
        "\n",
        "df_errors['prev_token'] = df_errors['prev_token'].fillna('')\n",
        "df_errors['next_token'] = df_errors['next_token'].fillna('')\n",
        "\n",
        "df_errors['context'] = df_errors['prev_token'] + ' ' + df_errors['token'] + ' ' + df_errors['next_token']\n",
        "\n",
        "label_weights = {label: count / total_tokens for label, count in label_counts.items()}\n",
        "df_errors['class_weight'] = df_errors['true'].map(label_weights)\n",
        "\n",
        "df_display = df_errors[['token', 'prev_token', 'next_token', 'true', 'pred', 'class_weight', 'context']]\n",
        "\n",
        "df_display['class_weight'] = df_display['class_weight'].round(4)\n",
        "\n",
        "print(\"\\n Errors with context and class weights:\")\n",
        "print(df_display.head(10))\n"
      ],
      "metadata": {
        "collapsed": true,
        "id": "zu8CtjU6WR9l",
        "colab": {
          "base_uri": "https://localhost:8080/"
        },
        "outputId": "4b99a4e0-83a5-41d2-aa38-1fd6012ce492"
      },
      "execution_count": 79,
      "outputs": [
        {
          "output_type": "stream",
          "name": "stdout",
          "text": [
            "\n",
            " Class weights (true label frequencies):\n",
            "quantity : 294 (13.68%)\n",
            "unit : 244 (11.35%)\n",
            "ingredient : 1611 (74.97%)\n",
            "\n",
            " Errors with context and class weights:\n",
            "         token prev_token next_token        true        pred  class_weight                 context\n",
            "0        small         12     onions        unit  ingredient        0.1135         12 small onions\n",
            "1       cloves          2     garlic  ingredient        unit        0.7497         2 cloves garlic\n",
            "2        green     ginger   chillies        unit  ingredient        0.1135   ginger green chillies\n",
            "3       cloves          3     garlic  ingredient        unit        0.7497         3 cloves garlic\n",
            "4       stalks   tomatoes     spring        unit  ingredient        0.1135  tomatoes stalks spring\n",
            "5  tablespoons      sugar        1/4        unit  ingredient        0.1135   sugar tablespoons 1/4\n",
            "6       scoops          2        1/4        unit  ingredient        0.1135            2 scoops 1/4\n",
            "7        whole         10      black        unit  ingredient        0.1135          10 whole black\n",
            "8        small          6     onions        unit  ingredient        0.1135          6 small onions\n",
            "9          bud         10     garlic        unit  ingredient        0.1135           10 bud garlic\n"
          ]
        }
      ]
    },
    {
      "cell_type": "markdown",
      "source": [
        "### **9.2** *Provide insights from the validation dataset* <font color = red>[2 marks]</font>\n",
        "\n",
        "\n"
      ],
      "metadata": {
        "id": "Q3n74kVvEV3q"
      }
    },
    {
      "cell_type": "markdown",
      "source": [
        " <font color = red>[Write your answer]</font>"
      ],
      "metadata": {
        "id": "aWZdf1O_vWnD"
      }
    },
    {
      "cell_type": "markdown",
      "source": [
        "## **10** Conclusion (Optional) <font color = red>[0 marks]</font> <br>\n",
        "\n",
        "Write your findings and conclusion."
      ],
      "metadata": {
        "id": "qUjFPBMxH20n"
      }
    }
  ]
}